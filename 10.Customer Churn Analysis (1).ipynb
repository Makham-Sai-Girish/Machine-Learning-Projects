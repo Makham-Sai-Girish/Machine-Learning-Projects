{
 "cells": [
  {
   "cell_type": "raw",
   "metadata": {},
   "source": [
    "Problem Statement:\n",
    "Customer churn is when a company’s customers stop doing business with that company. Businesses are very keen on measuring churn because keeping an existing customer is far less expensive than acquiring a new customer. New business involves working leads through a sales funnel, using marketing and sales budgets to gain additional customers. Existing customers will often have a higher volume of service consumption and can generate additional customer referrals.\n",
    "\n",
    "Customer retention can be achieved with good customer service and products. But the most effective way for a company to prevent attrition of customers is to truly know them. The vast volumes of data collected about customers can be used to build churn prediction models. Knowing who is most likely to defect means that a company can prioritise focused marketing efforts on that subset of their customer base.\n",
    "\n",
    "Preventing customer churn is critically important to the telecommunications sector, as the barriers to entry for switching services are so low. \n",
    "\n",
    "You will examine customer data from IBM Sample Data Sets with the aim of building and comparing several customer churn prediction models. "
   ]
  },
  {
   "cell_type": "code",
   "execution_count": 1,
   "metadata": {},
   "outputs": [],
   "source": [
    "#import necessary modules\n",
    "import pandas as pd\n",
    "import numpy as np\n",
    "import matplotlib.pyplot as plt\n",
    "import seaborn as sns\n",
    "%matplotlib inline"
   ]
  },
  {
   "cell_type": "code",
   "execution_count": 2,
   "metadata": {
    "scrolled": true
   },
   "outputs": [
    {
     "data": {
      "text/html": [
       "<div>\n",
       "<style scoped>\n",
       "    .dataframe tbody tr th:only-of-type {\n",
       "        vertical-align: middle;\n",
       "    }\n",
       "\n",
       "    .dataframe tbody tr th {\n",
       "        vertical-align: top;\n",
       "    }\n",
       "\n",
       "    .dataframe thead th {\n",
       "        text-align: right;\n",
       "    }\n",
       "</style>\n",
       "<table border=\"1\" class=\"dataframe\">\n",
       "  <thead>\n",
       "    <tr style=\"text-align: right;\">\n",
       "      <th></th>\n",
       "      <th>customerID</th>\n",
       "      <th>gender</th>\n",
       "      <th>SeniorCitizen</th>\n",
       "      <th>Partner</th>\n",
       "      <th>Dependents</th>\n",
       "      <th>tenure</th>\n",
       "      <th>PhoneService</th>\n",
       "      <th>MultipleLines</th>\n",
       "      <th>InternetService</th>\n",
       "      <th>OnlineSecurity</th>\n",
       "      <th>...</th>\n",
       "      <th>DeviceProtection</th>\n",
       "      <th>TechSupport</th>\n",
       "      <th>StreamingTV</th>\n",
       "      <th>StreamingMovies</th>\n",
       "      <th>Contract</th>\n",
       "      <th>PaperlessBilling</th>\n",
       "      <th>PaymentMethod</th>\n",
       "      <th>MonthlyCharges</th>\n",
       "      <th>TotalCharges</th>\n",
       "      <th>Churn</th>\n",
       "    </tr>\n",
       "  </thead>\n",
       "  <tbody>\n",
       "    <tr>\n",
       "      <th>0</th>\n",
       "      <td>7590-VHVEG</td>\n",
       "      <td>Female</td>\n",
       "      <td>0</td>\n",
       "      <td>Yes</td>\n",
       "      <td>No</td>\n",
       "      <td>1</td>\n",
       "      <td>No</td>\n",
       "      <td>No phone service</td>\n",
       "      <td>DSL</td>\n",
       "      <td>No</td>\n",
       "      <td>...</td>\n",
       "      <td>No</td>\n",
       "      <td>No</td>\n",
       "      <td>No</td>\n",
       "      <td>No</td>\n",
       "      <td>Month-to-month</td>\n",
       "      <td>Yes</td>\n",
       "      <td>Electronic check</td>\n",
       "      <td>29.85</td>\n",
       "      <td>29.85</td>\n",
       "      <td>No</td>\n",
       "    </tr>\n",
       "    <tr>\n",
       "      <th>1</th>\n",
       "      <td>5575-GNVDE</td>\n",
       "      <td>Male</td>\n",
       "      <td>0</td>\n",
       "      <td>No</td>\n",
       "      <td>No</td>\n",
       "      <td>34</td>\n",
       "      <td>Yes</td>\n",
       "      <td>No</td>\n",
       "      <td>DSL</td>\n",
       "      <td>Yes</td>\n",
       "      <td>...</td>\n",
       "      <td>Yes</td>\n",
       "      <td>No</td>\n",
       "      <td>No</td>\n",
       "      <td>No</td>\n",
       "      <td>One year</td>\n",
       "      <td>No</td>\n",
       "      <td>Mailed check</td>\n",
       "      <td>56.95</td>\n",
       "      <td>1889.5</td>\n",
       "      <td>No</td>\n",
       "    </tr>\n",
       "    <tr>\n",
       "      <th>2</th>\n",
       "      <td>3668-QPYBK</td>\n",
       "      <td>Male</td>\n",
       "      <td>0</td>\n",
       "      <td>No</td>\n",
       "      <td>No</td>\n",
       "      <td>2</td>\n",
       "      <td>Yes</td>\n",
       "      <td>No</td>\n",
       "      <td>DSL</td>\n",
       "      <td>Yes</td>\n",
       "      <td>...</td>\n",
       "      <td>No</td>\n",
       "      <td>No</td>\n",
       "      <td>No</td>\n",
       "      <td>No</td>\n",
       "      <td>Month-to-month</td>\n",
       "      <td>Yes</td>\n",
       "      <td>Mailed check</td>\n",
       "      <td>53.85</td>\n",
       "      <td>108.15</td>\n",
       "      <td>Yes</td>\n",
       "    </tr>\n",
       "    <tr>\n",
       "      <th>3</th>\n",
       "      <td>7795-CFOCW</td>\n",
       "      <td>Male</td>\n",
       "      <td>0</td>\n",
       "      <td>No</td>\n",
       "      <td>No</td>\n",
       "      <td>45</td>\n",
       "      <td>No</td>\n",
       "      <td>No phone service</td>\n",
       "      <td>DSL</td>\n",
       "      <td>Yes</td>\n",
       "      <td>...</td>\n",
       "      <td>Yes</td>\n",
       "      <td>Yes</td>\n",
       "      <td>No</td>\n",
       "      <td>No</td>\n",
       "      <td>One year</td>\n",
       "      <td>No</td>\n",
       "      <td>Bank transfer (automatic)</td>\n",
       "      <td>42.30</td>\n",
       "      <td>1840.75</td>\n",
       "      <td>No</td>\n",
       "    </tr>\n",
       "    <tr>\n",
       "      <th>4</th>\n",
       "      <td>9237-HQITU</td>\n",
       "      <td>Female</td>\n",
       "      <td>0</td>\n",
       "      <td>No</td>\n",
       "      <td>No</td>\n",
       "      <td>2</td>\n",
       "      <td>Yes</td>\n",
       "      <td>No</td>\n",
       "      <td>Fiber optic</td>\n",
       "      <td>No</td>\n",
       "      <td>...</td>\n",
       "      <td>No</td>\n",
       "      <td>No</td>\n",
       "      <td>No</td>\n",
       "      <td>No</td>\n",
       "      <td>Month-to-month</td>\n",
       "      <td>Yes</td>\n",
       "      <td>Electronic check</td>\n",
       "      <td>70.70</td>\n",
       "      <td>151.65</td>\n",
       "      <td>Yes</td>\n",
       "    </tr>\n",
       "    <tr>\n",
       "      <th>...</th>\n",
       "      <td>...</td>\n",
       "      <td>...</td>\n",
       "      <td>...</td>\n",
       "      <td>...</td>\n",
       "      <td>...</td>\n",
       "      <td>...</td>\n",
       "      <td>...</td>\n",
       "      <td>...</td>\n",
       "      <td>...</td>\n",
       "      <td>...</td>\n",
       "      <td>...</td>\n",
       "      <td>...</td>\n",
       "      <td>...</td>\n",
       "      <td>...</td>\n",
       "      <td>...</td>\n",
       "      <td>...</td>\n",
       "      <td>...</td>\n",
       "      <td>...</td>\n",
       "      <td>...</td>\n",
       "      <td>...</td>\n",
       "      <td>...</td>\n",
       "    </tr>\n",
       "    <tr>\n",
       "      <th>7038</th>\n",
       "      <td>6840-RESVB</td>\n",
       "      <td>Male</td>\n",
       "      <td>0</td>\n",
       "      <td>Yes</td>\n",
       "      <td>Yes</td>\n",
       "      <td>24</td>\n",
       "      <td>Yes</td>\n",
       "      <td>Yes</td>\n",
       "      <td>DSL</td>\n",
       "      <td>Yes</td>\n",
       "      <td>...</td>\n",
       "      <td>Yes</td>\n",
       "      <td>Yes</td>\n",
       "      <td>Yes</td>\n",
       "      <td>Yes</td>\n",
       "      <td>One year</td>\n",
       "      <td>Yes</td>\n",
       "      <td>Mailed check</td>\n",
       "      <td>84.80</td>\n",
       "      <td>1990.5</td>\n",
       "      <td>No</td>\n",
       "    </tr>\n",
       "    <tr>\n",
       "      <th>7039</th>\n",
       "      <td>2234-XADUH</td>\n",
       "      <td>Female</td>\n",
       "      <td>0</td>\n",
       "      <td>Yes</td>\n",
       "      <td>Yes</td>\n",
       "      <td>72</td>\n",
       "      <td>Yes</td>\n",
       "      <td>Yes</td>\n",
       "      <td>Fiber optic</td>\n",
       "      <td>No</td>\n",
       "      <td>...</td>\n",
       "      <td>Yes</td>\n",
       "      <td>No</td>\n",
       "      <td>Yes</td>\n",
       "      <td>Yes</td>\n",
       "      <td>One year</td>\n",
       "      <td>Yes</td>\n",
       "      <td>Credit card (automatic)</td>\n",
       "      <td>103.20</td>\n",
       "      <td>7362.9</td>\n",
       "      <td>No</td>\n",
       "    </tr>\n",
       "    <tr>\n",
       "      <th>7040</th>\n",
       "      <td>4801-JZAZL</td>\n",
       "      <td>Female</td>\n",
       "      <td>0</td>\n",
       "      <td>Yes</td>\n",
       "      <td>Yes</td>\n",
       "      <td>11</td>\n",
       "      <td>No</td>\n",
       "      <td>No phone service</td>\n",
       "      <td>DSL</td>\n",
       "      <td>Yes</td>\n",
       "      <td>...</td>\n",
       "      <td>No</td>\n",
       "      <td>No</td>\n",
       "      <td>No</td>\n",
       "      <td>No</td>\n",
       "      <td>Month-to-month</td>\n",
       "      <td>Yes</td>\n",
       "      <td>Electronic check</td>\n",
       "      <td>29.60</td>\n",
       "      <td>346.45</td>\n",
       "      <td>No</td>\n",
       "    </tr>\n",
       "    <tr>\n",
       "      <th>7041</th>\n",
       "      <td>8361-LTMKD</td>\n",
       "      <td>Male</td>\n",
       "      <td>1</td>\n",
       "      <td>Yes</td>\n",
       "      <td>No</td>\n",
       "      <td>4</td>\n",
       "      <td>Yes</td>\n",
       "      <td>Yes</td>\n",
       "      <td>Fiber optic</td>\n",
       "      <td>No</td>\n",
       "      <td>...</td>\n",
       "      <td>No</td>\n",
       "      <td>No</td>\n",
       "      <td>No</td>\n",
       "      <td>No</td>\n",
       "      <td>Month-to-month</td>\n",
       "      <td>Yes</td>\n",
       "      <td>Mailed check</td>\n",
       "      <td>74.40</td>\n",
       "      <td>306.6</td>\n",
       "      <td>Yes</td>\n",
       "    </tr>\n",
       "    <tr>\n",
       "      <th>7042</th>\n",
       "      <td>3186-AJIEK</td>\n",
       "      <td>Male</td>\n",
       "      <td>0</td>\n",
       "      <td>No</td>\n",
       "      <td>No</td>\n",
       "      <td>66</td>\n",
       "      <td>Yes</td>\n",
       "      <td>No</td>\n",
       "      <td>Fiber optic</td>\n",
       "      <td>Yes</td>\n",
       "      <td>...</td>\n",
       "      <td>Yes</td>\n",
       "      <td>Yes</td>\n",
       "      <td>Yes</td>\n",
       "      <td>Yes</td>\n",
       "      <td>Two year</td>\n",
       "      <td>Yes</td>\n",
       "      <td>Bank transfer (automatic)</td>\n",
       "      <td>105.65</td>\n",
       "      <td>6844.5</td>\n",
       "      <td>No</td>\n",
       "    </tr>\n",
       "  </tbody>\n",
       "</table>\n",
       "<p>7043 rows × 21 columns</p>\n",
       "</div>"
      ],
      "text/plain": [
       "      customerID  gender  SeniorCitizen Partner Dependents  tenure  \\\n",
       "0     7590-VHVEG  Female              0     Yes         No       1   \n",
       "1     5575-GNVDE    Male              0      No         No      34   \n",
       "2     3668-QPYBK    Male              0      No         No       2   \n",
       "3     7795-CFOCW    Male              0      No         No      45   \n",
       "4     9237-HQITU  Female              0      No         No       2   \n",
       "...          ...     ...            ...     ...        ...     ...   \n",
       "7038  6840-RESVB    Male              0     Yes        Yes      24   \n",
       "7039  2234-XADUH  Female              0     Yes        Yes      72   \n",
       "7040  4801-JZAZL  Female              0     Yes        Yes      11   \n",
       "7041  8361-LTMKD    Male              1     Yes         No       4   \n",
       "7042  3186-AJIEK    Male              0      No         No      66   \n",
       "\n",
       "     PhoneService     MultipleLines InternetService OnlineSecurity  ...  \\\n",
       "0              No  No phone service             DSL             No  ...   \n",
       "1             Yes                No             DSL            Yes  ...   \n",
       "2             Yes                No             DSL            Yes  ...   \n",
       "3              No  No phone service             DSL            Yes  ...   \n",
       "4             Yes                No     Fiber optic             No  ...   \n",
       "...           ...               ...             ...            ...  ...   \n",
       "7038          Yes               Yes             DSL            Yes  ...   \n",
       "7039          Yes               Yes     Fiber optic             No  ...   \n",
       "7040           No  No phone service             DSL            Yes  ...   \n",
       "7041          Yes               Yes     Fiber optic             No  ...   \n",
       "7042          Yes                No     Fiber optic            Yes  ...   \n",
       "\n",
       "     DeviceProtection TechSupport StreamingTV StreamingMovies        Contract  \\\n",
       "0                  No          No          No              No  Month-to-month   \n",
       "1                 Yes          No          No              No        One year   \n",
       "2                  No          No          No              No  Month-to-month   \n",
       "3                 Yes         Yes          No              No        One year   \n",
       "4                  No          No          No              No  Month-to-month   \n",
       "...               ...         ...         ...             ...             ...   \n",
       "7038              Yes         Yes         Yes             Yes        One year   \n",
       "7039              Yes          No         Yes             Yes        One year   \n",
       "7040               No          No          No              No  Month-to-month   \n",
       "7041               No          No          No              No  Month-to-month   \n",
       "7042              Yes         Yes         Yes             Yes        Two year   \n",
       "\n",
       "     PaperlessBilling              PaymentMethod MonthlyCharges  TotalCharges  \\\n",
       "0                 Yes           Electronic check          29.85         29.85   \n",
       "1                  No               Mailed check          56.95        1889.5   \n",
       "2                 Yes               Mailed check          53.85        108.15   \n",
       "3                  No  Bank transfer (automatic)          42.30       1840.75   \n",
       "4                 Yes           Electronic check          70.70        151.65   \n",
       "...               ...                        ...            ...           ...   \n",
       "7038              Yes               Mailed check          84.80        1990.5   \n",
       "7039              Yes    Credit card (automatic)         103.20        7362.9   \n",
       "7040              Yes           Electronic check          29.60        346.45   \n",
       "7041              Yes               Mailed check          74.40         306.6   \n",
       "7042              Yes  Bank transfer (automatic)         105.65        6844.5   \n",
       "\n",
       "     Churn  \n",
       "0       No  \n",
       "1       No  \n",
       "2      Yes  \n",
       "3       No  \n",
       "4      Yes  \n",
       "...    ...  \n",
       "7038    No  \n",
       "7039    No  \n",
       "7040    No  \n",
       "7041   Yes  \n",
       "7042    No  \n",
       "\n",
       "[7043 rows x 21 columns]"
      ]
     },
     "execution_count": 2,
     "metadata": {},
     "output_type": "execute_result"
    }
   ],
   "source": [
    "#Load data\n",
    "df=pd.read_csv('10.customerchurn.csv')\n",
    "df"
   ]
  },
  {
   "cell_type": "raw",
   "metadata": {},
   "source": [
    "There are 7043 rows and 21 columns\n",
    "It has categorical data, also continuous data in some columns.\n",
    "our target column is churn - categorical data, so this is a classification model"
   ]
  },
  {
   "cell_type": "code",
   "execution_count": 3,
   "metadata": {
    "scrolled": true
   },
   "outputs": [
    {
     "data": {
      "text/plain": [
       "7043"
      ]
     },
     "execution_count": 3,
     "metadata": {},
     "output_type": "execute_result"
    }
   ],
   "source": [
    "#by seeing we can drop the column customer_id which is not needed, let's check any duplicates are present before dropping\n",
    "df['customerID'].nunique()"
   ]
  },
  {
   "cell_type": "markdown",
   "metadata": {},
   "source": [
    "Confirmed no duplicates"
   ]
  },
  {
   "cell_type": "code",
   "execution_count": 4,
   "metadata": {},
   "outputs": [],
   "source": [
    "df.drop('customerID',axis=1,inplace=True)"
   ]
  },
  {
   "cell_type": "code",
   "execution_count": 5,
   "metadata": {
    "scrolled": false
   },
   "outputs": [
    {
     "name": "stdout",
     "output_type": "stream",
     "text": [
      "<class 'pandas.core.frame.DataFrame'>\n",
      "RangeIndex: 7043 entries, 0 to 7042\n",
      "Data columns (total 20 columns):\n",
      " #   Column            Non-Null Count  Dtype  \n",
      "---  ------            --------------  -----  \n",
      " 0   gender            7043 non-null   object \n",
      " 1   SeniorCitizen     7043 non-null   int64  \n",
      " 2   Partner           7043 non-null   object \n",
      " 3   Dependents        7043 non-null   object \n",
      " 4   tenure            7043 non-null   int64  \n",
      " 5   PhoneService      7043 non-null   object \n",
      " 6   MultipleLines     7043 non-null   object \n",
      " 7   InternetService   7043 non-null   object \n",
      " 8   OnlineSecurity    7043 non-null   object \n",
      " 9   OnlineBackup      7043 non-null   object \n",
      " 10  DeviceProtection  7043 non-null   object \n",
      " 11  TechSupport       7043 non-null   object \n",
      " 12  StreamingTV       7043 non-null   object \n",
      " 13  StreamingMovies   7043 non-null   object \n",
      " 14  Contract          7043 non-null   object \n",
      " 15  PaperlessBilling  7043 non-null   object \n",
      " 16  PaymentMethod     7043 non-null   object \n",
      " 17  MonthlyCharges    7043 non-null   float64\n",
      " 18  TotalCharges      7043 non-null   object \n",
      " 19  Churn             7043 non-null   object \n",
      "dtypes: float64(1), int64(2), object(17)\n",
      "memory usage: 1.1+ MB\n"
     ]
    }
   ],
   "source": [
    "df.info()"
   ]
  },
  {
   "cell_type": "markdown",
   "metadata": {},
   "source": [
    "Total charges column is being showed as object , but data in it is numerical. So let us fix this first"
   ]
  },
  {
   "cell_type": "code",
   "execution_count": 6,
   "metadata": {},
   "outputs": [
    {
     "data": {
      "text/plain": [
       "6531"
      ]
     },
     "execution_count": 6,
     "metadata": {},
     "output_type": "execute_result"
    }
   ],
   "source": [
    "df['TotalCharges'].nunique()"
   ]
  },
  {
   "cell_type": "markdown",
   "metadata": {},
   "source": [
    "There are 6531 unique values"
   ]
  },
  {
   "cell_type": "code",
   "execution_count": 7,
   "metadata": {
    "scrolled": true
   },
   "outputs": [
    {
     "data": {
      "text/plain": [
       "           11\n",
       "20.2       11\n",
       "19.75       9\n",
       "19.9        8\n",
       "20.05       8\n",
       "           ..\n",
       "109.3       1\n",
       "44.05       1\n",
       "1490.4      1\n",
       "702         1\n",
       "4085.75     1\n",
       "Name: TotalCharges, Length: 6531, dtype: int64"
      ]
     },
     "execution_count": 7,
     "metadata": {},
     "output_type": "execute_result"
    }
   ],
   "source": [
    "df['TotalCharges'].value_counts()"
   ]
  },
  {
   "cell_type": "markdown",
   "metadata": {},
   "source": [
    "we can see there are some blank spaces"
   ]
  },
  {
   "cell_type": "markdown",
   "metadata": {},
   "source": [
    "Total charges can't be blank , the data might be missed during entry."
   ]
  },
  {
   "cell_type": "code",
   "execution_count": 8,
   "metadata": {
    "scrolled": true
   },
   "outputs": [
    {
     "data": {
      "text/html": [
       "<div>\n",
       "<style scoped>\n",
       "    .dataframe tbody tr th:only-of-type {\n",
       "        vertical-align: middle;\n",
       "    }\n",
       "\n",
       "    .dataframe tbody tr th {\n",
       "        vertical-align: top;\n",
       "    }\n",
       "\n",
       "    .dataframe thead th {\n",
       "        text-align: right;\n",
       "    }\n",
       "</style>\n",
       "<table border=\"1\" class=\"dataframe\">\n",
       "  <thead>\n",
       "    <tr style=\"text-align: right;\">\n",
       "      <th></th>\n",
       "      <th>gender</th>\n",
       "      <th>SeniorCitizen</th>\n",
       "      <th>Partner</th>\n",
       "      <th>Dependents</th>\n",
       "      <th>tenure</th>\n",
       "      <th>PhoneService</th>\n",
       "      <th>MultipleLines</th>\n",
       "      <th>InternetService</th>\n",
       "      <th>OnlineSecurity</th>\n",
       "      <th>OnlineBackup</th>\n",
       "      <th>DeviceProtection</th>\n",
       "      <th>TechSupport</th>\n",
       "      <th>StreamingTV</th>\n",
       "      <th>StreamingMovies</th>\n",
       "      <th>Contract</th>\n",
       "      <th>PaperlessBilling</th>\n",
       "      <th>PaymentMethod</th>\n",
       "      <th>MonthlyCharges</th>\n",
       "      <th>TotalCharges</th>\n",
       "      <th>Churn</th>\n",
       "    </tr>\n",
       "  </thead>\n",
       "  <tbody>\n",
       "    <tr>\n",
       "      <th>488</th>\n",
       "      <td>Female</td>\n",
       "      <td>0</td>\n",
       "      <td>Yes</td>\n",
       "      <td>Yes</td>\n",
       "      <td>0</td>\n",
       "      <td>No</td>\n",
       "      <td>No phone service</td>\n",
       "      <td>DSL</td>\n",
       "      <td>Yes</td>\n",
       "      <td>No</td>\n",
       "      <td>Yes</td>\n",
       "      <td>Yes</td>\n",
       "      <td>Yes</td>\n",
       "      <td>No</td>\n",
       "      <td>Two year</td>\n",
       "      <td>Yes</td>\n",
       "      <td>Bank transfer (automatic)</td>\n",
       "      <td>52.55</td>\n",
       "      <td></td>\n",
       "      <td>No</td>\n",
       "    </tr>\n",
       "    <tr>\n",
       "      <th>753</th>\n",
       "      <td>Male</td>\n",
       "      <td>0</td>\n",
       "      <td>No</td>\n",
       "      <td>Yes</td>\n",
       "      <td>0</td>\n",
       "      <td>Yes</td>\n",
       "      <td>No</td>\n",
       "      <td>No</td>\n",
       "      <td>No internet service</td>\n",
       "      <td>No internet service</td>\n",
       "      <td>No internet service</td>\n",
       "      <td>No internet service</td>\n",
       "      <td>No internet service</td>\n",
       "      <td>No internet service</td>\n",
       "      <td>Two year</td>\n",
       "      <td>No</td>\n",
       "      <td>Mailed check</td>\n",
       "      <td>20.25</td>\n",
       "      <td></td>\n",
       "      <td>No</td>\n",
       "    </tr>\n",
       "    <tr>\n",
       "      <th>936</th>\n",
       "      <td>Female</td>\n",
       "      <td>0</td>\n",
       "      <td>Yes</td>\n",
       "      <td>Yes</td>\n",
       "      <td>0</td>\n",
       "      <td>Yes</td>\n",
       "      <td>No</td>\n",
       "      <td>DSL</td>\n",
       "      <td>Yes</td>\n",
       "      <td>Yes</td>\n",
       "      <td>Yes</td>\n",
       "      <td>No</td>\n",
       "      <td>Yes</td>\n",
       "      <td>Yes</td>\n",
       "      <td>Two year</td>\n",
       "      <td>No</td>\n",
       "      <td>Mailed check</td>\n",
       "      <td>80.85</td>\n",
       "      <td></td>\n",
       "      <td>No</td>\n",
       "    </tr>\n",
       "    <tr>\n",
       "      <th>1082</th>\n",
       "      <td>Male</td>\n",
       "      <td>0</td>\n",
       "      <td>Yes</td>\n",
       "      <td>Yes</td>\n",
       "      <td>0</td>\n",
       "      <td>Yes</td>\n",
       "      <td>Yes</td>\n",
       "      <td>No</td>\n",
       "      <td>No internet service</td>\n",
       "      <td>No internet service</td>\n",
       "      <td>No internet service</td>\n",
       "      <td>No internet service</td>\n",
       "      <td>No internet service</td>\n",
       "      <td>No internet service</td>\n",
       "      <td>Two year</td>\n",
       "      <td>No</td>\n",
       "      <td>Mailed check</td>\n",
       "      <td>25.75</td>\n",
       "      <td></td>\n",
       "      <td>No</td>\n",
       "    </tr>\n",
       "    <tr>\n",
       "      <th>1340</th>\n",
       "      <td>Female</td>\n",
       "      <td>0</td>\n",
       "      <td>Yes</td>\n",
       "      <td>Yes</td>\n",
       "      <td>0</td>\n",
       "      <td>No</td>\n",
       "      <td>No phone service</td>\n",
       "      <td>DSL</td>\n",
       "      <td>Yes</td>\n",
       "      <td>Yes</td>\n",
       "      <td>Yes</td>\n",
       "      <td>Yes</td>\n",
       "      <td>Yes</td>\n",
       "      <td>No</td>\n",
       "      <td>Two year</td>\n",
       "      <td>No</td>\n",
       "      <td>Credit card (automatic)</td>\n",
       "      <td>56.05</td>\n",
       "      <td></td>\n",
       "      <td>No</td>\n",
       "    </tr>\n",
       "    <tr>\n",
       "      <th>3331</th>\n",
       "      <td>Male</td>\n",
       "      <td>0</td>\n",
       "      <td>Yes</td>\n",
       "      <td>Yes</td>\n",
       "      <td>0</td>\n",
       "      <td>Yes</td>\n",
       "      <td>No</td>\n",
       "      <td>No</td>\n",
       "      <td>No internet service</td>\n",
       "      <td>No internet service</td>\n",
       "      <td>No internet service</td>\n",
       "      <td>No internet service</td>\n",
       "      <td>No internet service</td>\n",
       "      <td>No internet service</td>\n",
       "      <td>Two year</td>\n",
       "      <td>No</td>\n",
       "      <td>Mailed check</td>\n",
       "      <td>19.85</td>\n",
       "      <td></td>\n",
       "      <td>No</td>\n",
       "    </tr>\n",
       "    <tr>\n",
       "      <th>3826</th>\n",
       "      <td>Male</td>\n",
       "      <td>0</td>\n",
       "      <td>Yes</td>\n",
       "      <td>Yes</td>\n",
       "      <td>0</td>\n",
       "      <td>Yes</td>\n",
       "      <td>Yes</td>\n",
       "      <td>No</td>\n",
       "      <td>No internet service</td>\n",
       "      <td>No internet service</td>\n",
       "      <td>No internet service</td>\n",
       "      <td>No internet service</td>\n",
       "      <td>No internet service</td>\n",
       "      <td>No internet service</td>\n",
       "      <td>Two year</td>\n",
       "      <td>No</td>\n",
       "      <td>Mailed check</td>\n",
       "      <td>25.35</td>\n",
       "      <td></td>\n",
       "      <td>No</td>\n",
       "    </tr>\n",
       "    <tr>\n",
       "      <th>4380</th>\n",
       "      <td>Female</td>\n",
       "      <td>0</td>\n",
       "      <td>Yes</td>\n",
       "      <td>Yes</td>\n",
       "      <td>0</td>\n",
       "      <td>Yes</td>\n",
       "      <td>No</td>\n",
       "      <td>No</td>\n",
       "      <td>No internet service</td>\n",
       "      <td>No internet service</td>\n",
       "      <td>No internet service</td>\n",
       "      <td>No internet service</td>\n",
       "      <td>No internet service</td>\n",
       "      <td>No internet service</td>\n",
       "      <td>Two year</td>\n",
       "      <td>No</td>\n",
       "      <td>Mailed check</td>\n",
       "      <td>20.00</td>\n",
       "      <td></td>\n",
       "      <td>No</td>\n",
       "    </tr>\n",
       "    <tr>\n",
       "      <th>5218</th>\n",
       "      <td>Male</td>\n",
       "      <td>0</td>\n",
       "      <td>Yes</td>\n",
       "      <td>Yes</td>\n",
       "      <td>0</td>\n",
       "      <td>Yes</td>\n",
       "      <td>No</td>\n",
       "      <td>No</td>\n",
       "      <td>No internet service</td>\n",
       "      <td>No internet service</td>\n",
       "      <td>No internet service</td>\n",
       "      <td>No internet service</td>\n",
       "      <td>No internet service</td>\n",
       "      <td>No internet service</td>\n",
       "      <td>One year</td>\n",
       "      <td>Yes</td>\n",
       "      <td>Mailed check</td>\n",
       "      <td>19.70</td>\n",
       "      <td></td>\n",
       "      <td>No</td>\n",
       "    </tr>\n",
       "    <tr>\n",
       "      <th>6670</th>\n",
       "      <td>Female</td>\n",
       "      <td>0</td>\n",
       "      <td>Yes</td>\n",
       "      <td>Yes</td>\n",
       "      <td>0</td>\n",
       "      <td>Yes</td>\n",
       "      <td>Yes</td>\n",
       "      <td>DSL</td>\n",
       "      <td>No</td>\n",
       "      <td>Yes</td>\n",
       "      <td>Yes</td>\n",
       "      <td>Yes</td>\n",
       "      <td>Yes</td>\n",
       "      <td>No</td>\n",
       "      <td>Two year</td>\n",
       "      <td>No</td>\n",
       "      <td>Mailed check</td>\n",
       "      <td>73.35</td>\n",
       "      <td></td>\n",
       "      <td>No</td>\n",
       "    </tr>\n",
       "    <tr>\n",
       "      <th>6754</th>\n",
       "      <td>Male</td>\n",
       "      <td>0</td>\n",
       "      <td>No</td>\n",
       "      <td>Yes</td>\n",
       "      <td>0</td>\n",
       "      <td>Yes</td>\n",
       "      <td>Yes</td>\n",
       "      <td>DSL</td>\n",
       "      <td>Yes</td>\n",
       "      <td>Yes</td>\n",
       "      <td>No</td>\n",
       "      <td>Yes</td>\n",
       "      <td>No</td>\n",
       "      <td>No</td>\n",
       "      <td>Two year</td>\n",
       "      <td>Yes</td>\n",
       "      <td>Bank transfer (automatic)</td>\n",
       "      <td>61.90</td>\n",
       "      <td></td>\n",
       "      <td>No</td>\n",
       "    </tr>\n",
       "  </tbody>\n",
       "</table>\n",
       "</div>"
      ],
      "text/plain": [
       "      gender  SeniorCitizen Partner Dependents  tenure PhoneService  \\\n",
       "488   Female              0     Yes        Yes       0           No   \n",
       "753     Male              0      No        Yes       0          Yes   \n",
       "936   Female              0     Yes        Yes       0          Yes   \n",
       "1082    Male              0     Yes        Yes       0          Yes   \n",
       "1340  Female              0     Yes        Yes       0           No   \n",
       "3331    Male              0     Yes        Yes       0          Yes   \n",
       "3826    Male              0     Yes        Yes       0          Yes   \n",
       "4380  Female              0     Yes        Yes       0          Yes   \n",
       "5218    Male              0     Yes        Yes       0          Yes   \n",
       "6670  Female              0     Yes        Yes       0          Yes   \n",
       "6754    Male              0      No        Yes       0          Yes   \n",
       "\n",
       "         MultipleLines InternetService       OnlineSecurity  \\\n",
       "488   No phone service             DSL                  Yes   \n",
       "753                 No              No  No internet service   \n",
       "936                 No             DSL                  Yes   \n",
       "1082               Yes              No  No internet service   \n",
       "1340  No phone service             DSL                  Yes   \n",
       "3331                No              No  No internet service   \n",
       "3826               Yes              No  No internet service   \n",
       "4380                No              No  No internet service   \n",
       "5218                No              No  No internet service   \n",
       "6670               Yes             DSL                   No   \n",
       "6754               Yes             DSL                  Yes   \n",
       "\n",
       "             OnlineBackup     DeviceProtection          TechSupport  \\\n",
       "488                    No                  Yes                  Yes   \n",
       "753   No internet service  No internet service  No internet service   \n",
       "936                   Yes                  Yes                   No   \n",
       "1082  No internet service  No internet service  No internet service   \n",
       "1340                  Yes                  Yes                  Yes   \n",
       "3331  No internet service  No internet service  No internet service   \n",
       "3826  No internet service  No internet service  No internet service   \n",
       "4380  No internet service  No internet service  No internet service   \n",
       "5218  No internet service  No internet service  No internet service   \n",
       "6670                  Yes                  Yes                  Yes   \n",
       "6754                  Yes                   No                  Yes   \n",
       "\n",
       "              StreamingTV      StreamingMovies  Contract PaperlessBilling  \\\n",
       "488                   Yes                   No  Two year              Yes   \n",
       "753   No internet service  No internet service  Two year               No   \n",
       "936                   Yes                  Yes  Two year               No   \n",
       "1082  No internet service  No internet service  Two year               No   \n",
       "1340                  Yes                   No  Two year               No   \n",
       "3331  No internet service  No internet service  Two year               No   \n",
       "3826  No internet service  No internet service  Two year               No   \n",
       "4380  No internet service  No internet service  Two year               No   \n",
       "5218  No internet service  No internet service  One year              Yes   \n",
       "6670                  Yes                   No  Two year               No   \n",
       "6754                   No                   No  Two year              Yes   \n",
       "\n",
       "                  PaymentMethod  MonthlyCharges TotalCharges Churn  \n",
       "488   Bank transfer (automatic)           52.55                 No  \n",
       "753                Mailed check           20.25                 No  \n",
       "936                Mailed check           80.85                 No  \n",
       "1082               Mailed check           25.75                 No  \n",
       "1340    Credit card (automatic)           56.05                 No  \n",
       "3331               Mailed check           19.85                 No  \n",
       "3826               Mailed check           25.35                 No  \n",
       "4380               Mailed check           20.00                 No  \n",
       "5218               Mailed check           19.70                 No  \n",
       "6670               Mailed check           73.35                 No  \n",
       "6754  Bank transfer (automatic)           61.90                 No  "
      ]
     },
     "execution_count": 8,
     "metadata": {},
     "output_type": "execute_result"
    }
   ],
   "source": [
    "df.loc[df['TotalCharges']==\" \"]"
   ]
  },
  {
   "cell_type": "code",
   "execution_count": 9,
   "metadata": {},
   "outputs": [],
   "source": [
    "#let us fill these places \n",
    "df['TotalCharges'].replace(\" \",np.nan,inplace=True)"
   ]
  },
  {
   "cell_type": "code",
   "execution_count": 10,
   "metadata": {},
   "outputs": [
    {
     "data": {
      "text/plain": [
       "11"
      ]
     },
     "execution_count": 10,
     "metadata": {},
     "output_type": "execute_result"
    }
   ],
   "source": [
    "df['TotalCharges'].isnull().sum()"
   ]
  },
  {
   "cell_type": "markdown",
   "metadata": {},
   "source": [
    "Now we have 11 null values in this column."
   ]
  },
  {
   "cell_type": "code",
   "execution_count": 11,
   "metadata": {},
   "outputs": [
    {
     "data": {
      "text/plain": [
       "0.961642499724251"
      ]
     },
     "execution_count": 11,
     "metadata": {},
     "output_type": "execute_result"
    }
   ],
   "source": [
    "df['TotalCharges'].skew()"
   ]
  },
  {
   "cell_type": "markdown",
   "metadata": {},
   "source": [
    "The column is not normally distributed. So let us fill the missing columns with median or drop the rows. I choose to drop since 11 rows doesn't even be 1% of our tot. data"
   ]
  },
  {
   "cell_type": "code",
   "execution_count": 12,
   "metadata": {},
   "outputs": [],
   "source": [
    "df.dropna(inplace=True)"
   ]
  },
  {
   "cell_type": "code",
   "execution_count": 13,
   "metadata": {},
   "outputs": [
    {
     "data": {
      "text/plain": [
       "(7032, 20)"
      ]
     },
     "execution_count": 13,
     "metadata": {},
     "output_type": "execute_result"
    }
   ],
   "source": [
    "df.shape"
   ]
  },
  {
   "cell_type": "code",
   "execution_count": 14,
   "metadata": {},
   "outputs": [],
   "source": [
    "df['TotalCharges']=df['TotalCharges'].astype('float')"
   ]
  },
  {
   "cell_type": "markdown",
   "metadata": {},
   "source": [
    "now we have 7032 rows and 20 columns"
   ]
  },
  {
   "cell_type": "code",
   "execution_count": 15,
   "metadata": {
    "scrolled": true
   },
   "outputs": [
    {
     "data": {
      "text/plain": [
       "gender              0\n",
       "SeniorCitizen       0\n",
       "Partner             0\n",
       "Dependents          0\n",
       "tenure              0\n",
       "PhoneService        0\n",
       "MultipleLines       0\n",
       "InternetService     0\n",
       "OnlineSecurity      0\n",
       "OnlineBackup        0\n",
       "DeviceProtection    0\n",
       "TechSupport         0\n",
       "StreamingTV         0\n",
       "StreamingMovies     0\n",
       "Contract            0\n",
       "PaperlessBilling    0\n",
       "PaymentMethod       0\n",
       "MonthlyCharges      0\n",
       "TotalCharges        0\n",
       "Churn               0\n",
       "dtype: int64"
      ]
     },
     "execution_count": 15,
     "metadata": {},
     "output_type": "execute_result"
    },
    {
     "data": {
      "image/png": "[encoded data removed]",
      "text/plain": [
       "<Figure size 432x288 with 2 Axes>"
      ]
     },
     "metadata": {
      "needs_background": "light"
     },
     "output_type": "display_data"
    }
   ],
   "source": [
    "#Checking for null values\n",
    "sns.heatmap(df.isnull())\n",
    "df.isnull().sum()"
   ]
  },
  {
   "cell_type": "markdown",
   "metadata": {},
   "source": [
    "No null values"
   ]
  },
  {
   "cell_type": "code",
   "execution_count": 16,
   "metadata": {},
   "outputs": [
    {
     "data": {
      "text/plain": [
       "2"
      ]
     },
     "execution_count": 16,
     "metadata": {},
     "output_type": "execute_result"
    }
   ],
   "source": [
    "#Exploring each column\n",
    "df['gender'].nunique()"
   ]
  },
  {
   "cell_type": "code",
   "execution_count": 17,
   "metadata": {
    "scrolled": true
   },
   "outputs": [
    {
     "data": {
      "text/plain": [
       "Male      3549\n",
       "Female    3483\n",
       "Name: gender, dtype: int64"
      ]
     },
     "execution_count": 17,
     "metadata": {},
     "output_type": "execute_result"
    },
    {
     "data": {
      "image/png": "[encoded data removed]",
      "text/plain": [
       "<Figure size 432x288 with 1 Axes>"
      ]
     },
     "metadata": {
      "needs_background": "light"
     },
     "output_type": "display_data"
    }
   ],
   "source": [
    "sns.countplot(df['gender'])\n",
    "df['gender'].value_counts()"
   ]
  },
  {
   "cell_type": "markdown",
   "metadata": {},
   "source": [
    "almost equal ratio of male and female customers - Nominal data , i.e Binary class"
   ]
  },
  {
   "cell_type": "code",
   "execution_count": 18,
   "metadata": {},
   "outputs": [
    {
     "data": {
      "text/plain": [
       "1    3549\n",
       "0    3483\n",
       "Name: gender, dtype: int64"
      ]
     },
     "execution_count": 18,
     "metadata": {},
     "output_type": "execute_result"
    }
   ],
   "source": [
    "#Making instance and encoding\n",
    "df1=df\n",
    "\n",
    "from sklearn.preprocessing import LabelEncoder\n",
    "le=LabelEncoder()\n",
    "\n",
    "df1['gender']=le.fit_transform(df1['gender'])\n",
    "\n",
    "df1['gender'].value_counts()"
   ]
  },
  {
   "cell_type": "markdown",
   "metadata": {},
   "source": [
    "we can see male encoded as 1 and female encoded as 0"
   ]
  },
  {
   "cell_type": "code",
   "execution_count": 19,
   "metadata": {},
   "outputs": [
    {
     "data": {
      "text/plain": [
       "2"
      ]
     },
     "execution_count": 19,
     "metadata": {},
     "output_type": "execute_result"
    }
   ],
   "source": [
    "df['SeniorCitizen'].nunique()"
   ]
  },
  {
   "cell_type": "code",
   "execution_count": 20,
   "metadata": {
    "scrolled": true
   },
   "outputs": [
    {
     "data": {
      "text/plain": [
       "0    5890\n",
       "1    1142\n",
       "Name: SeniorCitizen, dtype: int64"
      ]
     },
     "execution_count": 20,
     "metadata": {},
     "output_type": "execute_result"
    },
    {
     "data": {
      "image/png": "[encoded data removed]",
      "text/plain": [
       "<Figure size 432x288 with 1 Axes>"
      ]
     },
     "metadata": {
      "needs_background": "light"
     },
     "output_type": "display_data"
    }
   ],
   "source": [
    "sns.countplot(df['SeniorCitizen'])\n",
    "df['SeniorCitizen'].value_counts()"
   ]
  },
  {
   "cell_type": "markdown",
   "metadata": {},
   "source": [
    "Majority of customers are young. Not senior citizens"
   ]
  },
  {
   "cell_type": "code",
   "execution_count": 21,
   "metadata": {
    "scrolled": true
   },
   "outputs": [
    {
     "data": {
      "text/plain": [
       "2"
      ]
     },
     "execution_count": 21,
     "metadata": {},
     "output_type": "execute_result"
    }
   ],
   "source": [
    "df['Partner'].nunique()"
   ]
  },
  {
   "cell_type": "code",
   "execution_count": 22,
   "metadata": {
    "scrolled": true
   },
   "outputs": [
    {
     "data": {
      "text/plain": [
       "No     3639\n",
       "Yes    3393\n",
       "Name: Partner, dtype: int64"
      ]
     },
     "execution_count": 22,
     "metadata": {},
     "output_type": "execute_result"
    },
    {
     "data": {
      "image/png": "[encoded data removed]",
      "text/plain": [
       "<Figure size 432x288 with 1 Axes>"
      ]
     },
     "metadata": {
      "needs_background": "light"
     },
     "output_type": "display_data"
    }
   ],
   "source": [
    "sns.countplot(df['Partner'])\n",
    "df['Partner'].value_counts()"
   ]
  },
  {
   "cell_type": "markdown",
   "metadata": {},
   "source": [
    "Not partners are little more than the partners in our customers.Let us encode this"
   ]
  },
  {
   "cell_type": "code",
   "execution_count": 23,
   "metadata": {},
   "outputs": [],
   "source": [
    "df1['Partner']=le.fit_transform(df1['Partner'])"
   ]
  },
  {
   "cell_type": "code",
   "execution_count": 24,
   "metadata": {
    "scrolled": true
   },
   "outputs": [
    {
     "data": {
      "text/plain": [
       "0    3639\n",
       "1    3393\n",
       "Name: Partner, dtype: int64"
      ]
     },
     "execution_count": 24,
     "metadata": {},
     "output_type": "execute_result"
    }
   ],
   "source": [
    "df['Partner'].value_counts()"
   ]
  },
  {
   "cell_type": "markdown",
   "metadata": {},
   "source": [
    "No is encoded as 0 and Yes is encoded as 1"
   ]
  },
  {
   "cell_type": "code",
   "execution_count": 25,
   "metadata": {},
   "outputs": [
    {
     "data": {
      "text/plain": [
       "2"
      ]
     },
     "execution_count": 25,
     "metadata": {},
     "output_type": "execute_result"
    }
   ],
   "source": [
    "df['Dependents'].nunique()"
   ]
  },
  {
   "cell_type": "code",
   "execution_count": 26,
   "metadata": {
    "scrolled": true
   },
   "outputs": [
    {
     "data": {
      "text/plain": [
       "No     4933\n",
       "Yes    2099\n",
       "Name: Dependents, dtype: int64"
      ]
     },
     "execution_count": 26,
     "metadata": {},
     "output_type": "execute_result"
    },
    {
     "data": {
      "image/png": "[encoded data removed]",
      "text/plain": [
       "<Figure size 432x288 with 1 Axes>"
      ]
     },
     "metadata": {
      "needs_background": "light"
     },
     "output_type": "display_data"
    }
   ],
   "source": [
    "sns.countplot(df['Dependents'])\n",
    "df['Dependents'].value_counts()"
   ]
  },
  {
   "cell_type": "markdown",
   "metadata": {},
   "source": [
    "Many of the customers doesn't have dependents"
   ]
  },
  {
   "cell_type": "code",
   "execution_count": 27,
   "metadata": {
    "scrolled": true
   },
   "outputs": [
    {
     "data": {
      "text/plain": [
       "0    4933\n",
       "1    2099\n",
       "Name: Dependents, dtype: int64"
      ]
     },
     "execution_count": 27,
     "metadata": {},
     "output_type": "execute_result"
    }
   ],
   "source": [
    "df1['Dependents']=le.fit_transform(df1['Dependents'])\n",
    "df1['Dependents'].value_counts()"
   ]
  },
  {
   "cell_type": "markdown",
   "metadata": {},
   "source": [
    "No is encoded as 0 and Yes is encoded as 1"
   ]
  },
  {
   "cell_type": "code",
   "execution_count": 28,
   "metadata": {},
   "outputs": [
    {
     "data": {
      "text/plain": [
       "72"
      ]
     },
     "execution_count": 28,
     "metadata": {},
     "output_type": "execute_result"
    }
   ],
   "source": [
    "df['tenure'].nunique()"
   ]
  },
  {
   "cell_type": "markdown",
   "metadata": {},
   "source": [
    "tenure is a numerical column, where the customer tenure with us is specified"
   ]
  },
  {
   "cell_type": "code",
   "execution_count": 29,
   "metadata": {
    "scrolled": true
   },
   "outputs": [
    {
     "data": {
      "text/plain": [
       "count    7032.000000\n",
       "mean       32.421786\n",
       "std        24.545260\n",
       "min         1.000000\n",
       "25%         9.000000\n",
       "50%        29.000000\n",
       "75%        55.000000\n",
       "max        72.000000\n",
       "Name: tenure, dtype: float64"
      ]
     },
     "execution_count": 29,
     "metadata": {},
     "output_type": "execute_result"
    },
    {
     "data": {
      "image/png": "[encoded data removed]",
      "text/plain": [
       "<Figure size 432x288 with 1 Axes>"
      ]
     },
     "metadata": {
      "needs_background": "light"
     },
     "output_type": "display_data"
    }
   ],
   "source": [
    "df['tenure'].plot.box()\n",
    "df['tenure'].describe()"
   ]
  },
  {
   "cell_type": "markdown",
   "metadata": {},
   "source": [
    "From this we can see , the avg. span of customers with us is 32.4 months, max. of 72 months/weeks, min. is 1 month. 50 percentile of customers are less than 29 months in our customers"
   ]
  },
  {
   "cell_type": "code",
   "execution_count": 30,
   "metadata": {},
   "outputs": [
    {
     "data": {
      "text/plain": [
       "Index(['gender', 'SeniorCitizen', 'Partner', 'Dependents', 'tenure',\n",
       "       'PhoneService', 'MultipleLines', 'InternetService', 'OnlineSecurity',\n",
       "       'OnlineBackup', 'DeviceProtection', 'TechSupport', 'StreamingTV',\n",
       "       'StreamingMovies', 'Contract', 'PaperlessBilling', 'PaymentMethod',\n",
       "       'MonthlyCharges', 'TotalCharges', 'Churn'],\n",
       "      dtype='object')"
      ]
     },
     "execution_count": 30,
     "metadata": {},
     "output_type": "execute_result"
    }
   ],
   "source": [
    "df.columns"
   ]
  },
  {
   "cell_type": "code",
   "execution_count": 31,
   "metadata": {},
   "outputs": [
    {
     "data": {
      "text/plain": [
       "2"
      ]
     },
     "execution_count": 31,
     "metadata": {},
     "output_type": "execute_result"
    }
   ],
   "source": [
    "df['PhoneService'].nunique()"
   ]
  },
  {
   "cell_type": "code",
   "execution_count": 32,
   "metadata": {
    "scrolled": true
   },
   "outputs": [
    {
     "data": {
      "text/plain": [
       "Yes    6352\n",
       "No      680\n",
       "Name: PhoneService, dtype: int64"
      ]
     },
     "execution_count": 32,
     "metadata": {},
     "output_type": "execute_result"
    },
    {
     "data": {
      "image/png": "[encoded data removed]",
      "text/plain": [
       "<Figure size 432x288 with 1 Axes>"
      ]
     },
     "metadata": {
      "needs_background": "light"
     },
     "output_type": "display_data"
    }
   ],
   "source": [
    "sns.countplot(df['PhoneService'])\n",
    "df['PhoneService'].value_counts()"
   ]
  },
  {
   "cell_type": "code",
   "execution_count": 33,
   "metadata": {},
   "outputs": [
    {
     "data": {
      "text/plain": [
       "0.9032992036405005"
      ]
     },
     "execution_count": 33,
     "metadata": {},
     "output_type": "execute_result"
    }
   ],
   "source": [
    "6352/(6352+680)"
   ]
  },
  {
   "cell_type": "markdown",
   "metadata": {},
   "source": [
    "90% of customers are using phone services "
   ]
  },
  {
   "cell_type": "code",
   "execution_count": 34,
   "metadata": {},
   "outputs": [],
   "source": [
    "df1['PhoneService']=le.fit_transform(df1['PhoneService'])"
   ]
  },
  {
   "cell_type": "markdown",
   "metadata": {},
   "source": [
    "encoded"
   ]
  },
  {
   "cell_type": "code",
   "execution_count": 35,
   "metadata": {
    "scrolled": true
   },
   "outputs": [
    {
     "data": {
      "text/plain": [
       "No                  3385\n",
       "Yes                 2967\n",
       "No phone service     680\n",
       "Name: MultipleLines, dtype: int64"
      ]
     },
     "execution_count": 35,
     "metadata": {},
     "output_type": "execute_result"
    },
    {
     "data": {
      "image/png": "[encoded data removed]",
      "text/plain": [
       "<Figure size 432x288 with 1 Axes>"
      ]
     },
     "metadata": {
      "needs_background": "light"
     },
     "output_type": "display_data"
    }
   ],
   "source": [
    "sns.countplot(df['MultipleLines'])\n",
    "df['MultipleLines'].value_counts()"
   ]
  },
  {
   "cell_type": "code",
   "execution_count": 36,
   "metadata": {
    "scrolled": true
   },
   "outputs": [
    {
     "data": {
      "text/plain": [
       "0.42192832764505117"
      ]
     },
     "execution_count": 36,
     "metadata": {},
     "output_type": "execute_result"
    }
   ],
   "source": [
    "2967/7032"
   ]
  },
  {
   "cell_type": "code",
   "execution_count": 37,
   "metadata": {},
   "outputs": [
    {
     "data": {
      "text/plain": [
       "0.09670079635949944"
      ]
     },
     "execution_count": 37,
     "metadata": {},
     "output_type": "execute_result"
    }
   ],
   "source": [
    "680/7032"
   ]
  },
  {
   "cell_type": "markdown",
   "metadata": {},
   "source": [
    "only 42% of customers opted for multiple lines and 10% customers has not opted for phone service."
   ]
  },
  {
   "cell_type": "code",
   "execution_count": 38,
   "metadata": {},
   "outputs": [],
   "source": [
    "df1['MultipleLines']=le.fit_transform(df['MultipleLines'])"
   ]
  },
  {
   "cell_type": "code",
   "execution_count": 39,
   "metadata": {
    "scrolled": true
   },
   "outputs": [
    {
     "data": {
      "text/plain": [
       "Fiber optic    3096\n",
       "DSL            2416\n",
       "No             1520\n",
       "Name: InternetService, dtype: int64"
      ]
     },
     "execution_count": 39,
     "metadata": {},
     "output_type": "execute_result"
    },
    {
     "data": {
      "image/png": "[encoded data removed]",
      "text/plain": [
       "<Figure size 432x288 with 1 Axes>"
      ]
     },
     "metadata": {
      "needs_background": "light"
     },
     "output_type": "display_data"
    }
   ],
   "source": [
    "sns.countplot(df['InternetService'])\n",
    "df['InternetService'].value_counts()"
   ]
  },
  {
   "cell_type": "code",
   "execution_count": 40,
   "metadata": {},
   "outputs": [
    {
     "data": {
      "text/plain": [
       "0.2161547212741752"
      ]
     },
     "execution_count": 40,
     "metadata": {},
     "output_type": "execute_result"
    }
   ],
   "source": [
    "1520/7032"
   ]
  },
  {
   "cell_type": "code",
   "execution_count": 41,
   "metadata": {},
   "outputs": [
    {
     "data": {
      "text/plain": [
       "0.3435722411831627"
      ]
     },
     "execution_count": 41,
     "metadata": {},
     "output_type": "execute_result"
    }
   ],
   "source": [
    "2416/7032"
   ]
  },
  {
   "cell_type": "markdown",
   "metadata": {},
   "source": [
    "22% customers are not using the internet services. , in 88% customers only 34% of them are using DSL.. remaining are using FiberOptic"
   ]
  },
  {
   "cell_type": "code",
   "execution_count": 42,
   "metadata": {},
   "outputs": [],
   "source": [
    "categorical_cols=['OnlineSecurity','OnlineBackup', 'DeviceProtection', 'TechSupport', 'StreamingTV',\n",
    "       'StreamingMovies', 'Contract', 'PaperlessBilling', 'PaymentMethod','Churn']"
   ]
  },
  {
   "cell_type": "code",
   "execution_count": 43,
   "metadata": {
    "scrolled": true
   },
   "outputs": [
    {
     "name": "stdout",
     "output_type": "stream",
     "text": [
      "OnlineSecurity:\n",
      " No                     3497\n",
      "Yes                    2015\n",
      "No internet service    1520\n",
      "Name: OnlineSecurity, dtype: int64\n",
      "OnlineBackup:\n",
      " No                     3087\n",
      "Yes                    2425\n",
      "No internet service    1520\n",
      "Name: OnlineBackup, dtype: int64\n",
      "DeviceProtection:\n",
      " No                     3094\n",
      "Yes                    2418\n",
      "No internet service    1520\n",
      "Name: DeviceProtection, dtype: int64\n",
      "TechSupport:\n",
      " No                     3472\n",
      "Yes                    2040\n",
      "No internet service    1520\n",
      "Name: TechSupport, dtype: int64\n",
      "StreamingTV:\n",
      " No                     2809\n",
      "Yes                    2703\n",
      "No internet service    1520\n",
      "Name: StreamingTV, dtype: int64\n",
      "StreamingMovies:\n",
      " No                     2781\n",
      "Yes                    2731\n",
      "No internet service    1520\n",
      "Name: StreamingMovies, dtype: int64\n",
      "Contract:\n",
      " Month-to-month    3875\n",
      "Two year          1685\n",
      "One year          1472\n",
      "Name: Contract, dtype: int64\n",
      "PaperlessBilling:\n",
      " Yes    4168\n",
      "No     2864\n",
      "Name: PaperlessBilling, dtype: int64\n",
      "PaymentMethod:\n",
      " Electronic check             2365\n",
      "Mailed check                 1604\n",
      "Bank transfer (automatic)    1542\n",
      "Credit card (automatic)      1521\n",
      "Name: PaymentMethod, dtype: int64\n",
      "Churn:\n",
      " No     5163\n",
      "Yes    1869\n",
      "Name: Churn, dtype: int64\n"
     ]
    },
    {
     "data": {
      "image/png": "[encoded data removed]",
      "text/plain": [
       "<Figure size 1440x720 with 10 Axes>"
      ]
     },
     "metadata": {
      "needs_background": "light"
     },
     "output_type": "display_data"
    }
   ],
   "source": [
    "plt.figure(figsize=(20,10))\n",
    "n=1\n",
    "for i in categorical_cols:\n",
    "    if n<11:\n",
    "        print(f'{i}:\\n',df[i].value_counts())\n",
    "        ax=plt.subplot(2,5,n)\n",
    "        sns.countplot(df[i])\n",
    "        plt.xlabel(i)\n",
    "    n+=1\n",
    "plt.tight_layout()"
   ]
  },
  {
   "cell_type": "raw",
   "metadata": {},
   "source": [
    "Observations:\n",
    "    Many customers don't have online security\n",
    "    Many customers don't have online backup\n",
    "    Many customers don't have DeviceProtection \n",
    "    Many customers don't opt for Techsupport\n",
    "    approx equal no. of internet service users are streaming and not streaming tv, lly Movies\n",
    "    Majority of customers opted for month to month contract\n",
    "    Paperbilling is prefered by most of the customers\n",
    "    4 different payment methods are present, approx equal number of customers prefered each mode.\n",
    "    Very less customers are discontinuing services.\n",
    "    \n",
    "    \n",
    "    "
   ]
  },
  {
   "cell_type": "code",
   "execution_count": 44,
   "metadata": {},
   "outputs": [],
   "source": [
    "#Encoding the columns:\n",
    "for i in categorical_cols:\n",
    "    df1[i]=le.fit_transform(df1[i])"
   ]
  },
  {
   "cell_type": "code",
   "execution_count": 45,
   "metadata": {},
   "outputs": [],
   "source": [
    "df1['InternetService']=le.fit_transform(df1['InternetService'])"
   ]
  },
  {
   "cell_type": "code",
   "execution_count": 46,
   "metadata": {
    "scrolled": true
   },
   "outputs": [
    {
     "data": {
      "text/html": [
       "<div>\n",
       "<style scoped>\n",
       "    .dataframe tbody tr th:only-of-type {\n",
       "        vertical-align: middle;\n",
       "    }\n",
       "\n",
       "    .dataframe tbody tr th {\n",
       "        vertical-align: top;\n",
       "    }\n",
       "\n",
       "    .dataframe thead th {\n",
       "        text-align: right;\n",
       "    }\n",
       "</style>\n",
       "<table border=\"1\" class=\"dataframe\">\n",
       "  <thead>\n",
       "    <tr style=\"text-align: right;\">\n",
       "      <th></th>\n",
       "      <th>gender</th>\n",
       "      <th>SeniorCitizen</th>\n",
       "      <th>Partner</th>\n",
       "      <th>Dependents</th>\n",
       "      <th>tenure</th>\n",
       "      <th>PhoneService</th>\n",
       "      <th>MultipleLines</th>\n",
       "      <th>InternetService</th>\n",
       "      <th>OnlineSecurity</th>\n",
       "      <th>OnlineBackup</th>\n",
       "      <th>DeviceProtection</th>\n",
       "      <th>TechSupport</th>\n",
       "      <th>StreamingTV</th>\n",
       "      <th>StreamingMovies</th>\n",
       "      <th>Contract</th>\n",
       "      <th>PaperlessBilling</th>\n",
       "      <th>PaymentMethod</th>\n",
       "      <th>MonthlyCharges</th>\n",
       "      <th>TotalCharges</th>\n",
       "      <th>Churn</th>\n",
       "    </tr>\n",
       "  </thead>\n",
       "  <tbody>\n",
       "    <tr>\n",
       "      <th>0</th>\n",
       "      <td>0</td>\n",
       "      <td>0</td>\n",
       "      <td>1</td>\n",
       "      <td>0</td>\n",
       "      <td>1</td>\n",
       "      <td>0</td>\n",
       "      <td>1</td>\n",
       "      <td>0</td>\n",
       "      <td>0</td>\n",
       "      <td>2</td>\n",
       "      <td>0</td>\n",
       "      <td>0</td>\n",
       "      <td>0</td>\n",
       "      <td>0</td>\n",
       "      <td>0</td>\n",
       "      <td>1</td>\n",
       "      <td>2</td>\n",
       "      <td>29.85</td>\n",
       "      <td>29.85</td>\n",
       "      <td>0</td>\n",
       "    </tr>\n",
       "    <tr>\n",
       "      <th>1</th>\n",
       "      <td>1</td>\n",
       "      <td>0</td>\n",
       "      <td>0</td>\n",
       "      <td>0</td>\n",
       "      <td>34</td>\n",
       "      <td>1</td>\n",
       "      <td>0</td>\n",
       "      <td>0</td>\n",
       "      <td>2</td>\n",
       "      <td>0</td>\n",
       "      <td>2</td>\n",
       "      <td>0</td>\n",
       "      <td>0</td>\n",
       "      <td>0</td>\n",
       "      <td>1</td>\n",
       "      <td>0</td>\n",
       "      <td>3</td>\n",
       "      <td>56.95</td>\n",
       "      <td>1889.50</td>\n",
       "      <td>0</td>\n",
       "    </tr>\n",
       "    <tr>\n",
       "      <th>2</th>\n",
       "      <td>1</td>\n",
       "      <td>0</td>\n",
       "      <td>0</td>\n",
       "      <td>0</td>\n",
       "      <td>2</td>\n",
       "      <td>1</td>\n",
       "      <td>0</td>\n",
       "      <td>0</td>\n",
       "      <td>2</td>\n",
       "      <td>2</td>\n",
       "      <td>0</td>\n",
       "      <td>0</td>\n",
       "      <td>0</td>\n",
       "      <td>0</td>\n",
       "      <td>0</td>\n",
       "      <td>1</td>\n",
       "      <td>3</td>\n",
       "      <td>53.85</td>\n",
       "      <td>108.15</td>\n",
       "      <td>1</td>\n",
       "    </tr>\n",
       "    <tr>\n",
       "      <th>3</th>\n",
       "      <td>1</td>\n",
       "      <td>0</td>\n",
       "      <td>0</td>\n",
       "      <td>0</td>\n",
       "      <td>45</td>\n",
       "      <td>0</td>\n",
       "      <td>1</td>\n",
       "      <td>0</td>\n",
       "      <td>2</td>\n",
       "      <td>0</td>\n",
       "      <td>2</td>\n",
       "      <td>2</td>\n",
       "      <td>0</td>\n",
       "      <td>0</td>\n",
       "      <td>1</td>\n",
       "      <td>0</td>\n",
       "      <td>0</td>\n",
       "      <td>42.30</td>\n",
       "      <td>1840.75</td>\n",
       "      <td>0</td>\n",
       "    </tr>\n",
       "    <tr>\n",
       "      <th>4</th>\n",
       "      <td>0</td>\n",
       "      <td>0</td>\n",
       "      <td>0</td>\n",
       "      <td>0</td>\n",
       "      <td>2</td>\n",
       "      <td>1</td>\n",
       "      <td>0</td>\n",
       "      <td>1</td>\n",
       "      <td>0</td>\n",
       "      <td>0</td>\n",
       "      <td>0</td>\n",
       "      <td>0</td>\n",
       "      <td>0</td>\n",
       "      <td>0</td>\n",
       "      <td>0</td>\n",
       "      <td>1</td>\n",
       "      <td>2</td>\n",
       "      <td>70.70</td>\n",
       "      <td>151.65</td>\n",
       "      <td>1</td>\n",
       "    </tr>\n",
       "    <tr>\n",
       "      <th>...</th>\n",
       "      <td>...</td>\n",
       "      <td>...</td>\n",
       "      <td>...</td>\n",
       "      <td>...</td>\n",
       "      <td>...</td>\n",
       "      <td>...</td>\n",
       "      <td>...</td>\n",
       "      <td>...</td>\n",
       "      <td>...</td>\n",
       "      <td>...</td>\n",
       "      <td>...</td>\n",
       "      <td>...</td>\n",
       "      <td>...</td>\n",
       "      <td>...</td>\n",
       "      <td>...</td>\n",
       "      <td>...</td>\n",
       "      <td>...</td>\n",
       "      <td>...</td>\n",
       "      <td>...</td>\n",
       "      <td>...</td>\n",
       "    </tr>\n",
       "    <tr>\n",
       "      <th>7038</th>\n",
       "      <td>1</td>\n",
       "      <td>0</td>\n",
       "      <td>1</td>\n",
       "      <td>1</td>\n",
       "      <td>24</td>\n",
       "      <td>1</td>\n",
       "      <td>2</td>\n",
       "      <td>0</td>\n",
       "      <td>2</td>\n",
       "      <td>0</td>\n",
       "      <td>2</td>\n",
       "      <td>2</td>\n",
       "      <td>2</td>\n",
       "      <td>2</td>\n",
       "      <td>1</td>\n",
       "      <td>1</td>\n",
       "      <td>3</td>\n",
       "      <td>84.80</td>\n",
       "      <td>1990.50</td>\n",
       "      <td>0</td>\n",
       "    </tr>\n",
       "    <tr>\n",
       "      <th>7039</th>\n",
       "      <td>0</td>\n",
       "      <td>0</td>\n",
       "      <td>1</td>\n",
       "      <td>1</td>\n",
       "      <td>72</td>\n",
       "      <td>1</td>\n",
       "      <td>2</td>\n",
       "      <td>1</td>\n",
       "      <td>0</td>\n",
       "      <td>2</td>\n",
       "      <td>2</td>\n",
       "      <td>0</td>\n",
       "      <td>2</td>\n",
       "      <td>2</td>\n",
       "      <td>1</td>\n",
       "      <td>1</td>\n",
       "      <td>1</td>\n",
       "      <td>103.20</td>\n",
       "      <td>7362.90</td>\n",
       "      <td>0</td>\n",
       "    </tr>\n",
       "    <tr>\n",
       "      <th>7040</th>\n",
       "      <td>0</td>\n",
       "      <td>0</td>\n",
       "      <td>1</td>\n",
       "      <td>1</td>\n",
       "      <td>11</td>\n",
       "      <td>0</td>\n",
       "      <td>1</td>\n",
       "      <td>0</td>\n",
       "      <td>2</td>\n",
       "      <td>0</td>\n",
       "      <td>0</td>\n",
       "      <td>0</td>\n",
       "      <td>0</td>\n",
       "      <td>0</td>\n",
       "      <td>0</td>\n",
       "      <td>1</td>\n",
       "      <td>2</td>\n",
       "      <td>29.60</td>\n",
       "      <td>346.45</td>\n",
       "      <td>0</td>\n",
       "    </tr>\n",
       "    <tr>\n",
       "      <th>7041</th>\n",
       "      <td>1</td>\n",
       "      <td>1</td>\n",
       "      <td>1</td>\n",
       "      <td>0</td>\n",
       "      <td>4</td>\n",
       "      <td>1</td>\n",
       "      <td>2</td>\n",
       "      <td>1</td>\n",
       "      <td>0</td>\n",
       "      <td>0</td>\n",
       "      <td>0</td>\n",
       "      <td>0</td>\n",
       "      <td>0</td>\n",
       "      <td>0</td>\n",
       "      <td>0</td>\n",
       "      <td>1</td>\n",
       "      <td>3</td>\n",
       "      <td>74.40</td>\n",
       "      <td>306.60</td>\n",
       "      <td>1</td>\n",
       "    </tr>\n",
       "    <tr>\n",
       "      <th>7042</th>\n",
       "      <td>1</td>\n",
       "      <td>0</td>\n",
       "      <td>0</td>\n",
       "      <td>0</td>\n",
       "      <td>66</td>\n",
       "      <td>1</td>\n",
       "      <td>0</td>\n",
       "      <td>1</td>\n",
       "      <td>2</td>\n",
       "      <td>0</td>\n",
       "      <td>2</td>\n",
       "      <td>2</td>\n",
       "      <td>2</td>\n",
       "      <td>2</td>\n",
       "      <td>2</td>\n",
       "      <td>1</td>\n",
       "      <td>0</td>\n",
       "      <td>105.65</td>\n",
       "      <td>6844.50</td>\n",
       "      <td>0</td>\n",
       "    </tr>\n",
       "  </tbody>\n",
       "</table>\n",
       "<p>7032 rows × 20 columns</p>\n",
       "</div>"
      ],
      "text/plain": [
       "      gender  SeniorCitizen  Partner  Dependents  tenure  PhoneService  \\\n",
       "0          0              0        1           0       1             0   \n",
       "1          1              0        0           0      34             1   \n",
       "2          1              0        0           0       2             1   \n",
       "3          1              0        0           0      45             0   \n",
       "4          0              0        0           0       2             1   \n",
       "...      ...            ...      ...         ...     ...           ...   \n",
       "7038       1              0        1           1      24             1   \n",
       "7039       0              0        1           1      72             1   \n",
       "7040       0              0        1           1      11             0   \n",
       "7041       1              1        1           0       4             1   \n",
       "7042       1              0        0           0      66             1   \n",
       "\n",
       "      MultipleLines  InternetService  OnlineSecurity  OnlineBackup  \\\n",
       "0                 1                0               0             2   \n",
       "1                 0                0               2             0   \n",
       "2                 0                0               2             2   \n",
       "3                 1                0               2             0   \n",
       "4                 0                1               0             0   \n",
       "...             ...              ...             ...           ...   \n",
       "7038              2                0               2             0   \n",
       "7039              2                1               0             2   \n",
       "7040              1                0               2             0   \n",
       "7041              2                1               0             0   \n",
       "7042              0                1               2             0   \n",
       "\n",
       "      DeviceProtection  TechSupport  StreamingTV  StreamingMovies  Contract  \\\n",
       "0                    0            0            0                0         0   \n",
       "1                    2            0            0                0         1   \n",
       "2                    0            0            0                0         0   \n",
       "3                    2            2            0                0         1   \n",
       "4                    0            0            0                0         0   \n",
       "...                ...          ...          ...              ...       ...   \n",
       "7038                 2            2            2                2         1   \n",
       "7039                 2            0            2                2         1   \n",
       "7040                 0            0            0                0         0   \n",
       "7041                 0            0            0                0         0   \n",
       "7042                 2            2            2                2         2   \n",
       "\n",
       "      PaperlessBilling  PaymentMethod  MonthlyCharges  TotalCharges  Churn  \n",
       "0                    1              2           29.85         29.85      0  \n",
       "1                    0              3           56.95       1889.50      0  \n",
       "2                    1              3           53.85        108.15      1  \n",
       "3                    0              0           42.30       1840.75      0  \n",
       "4                    1              2           70.70        151.65      1  \n",
       "...                ...            ...             ...           ...    ...  \n",
       "7038                 1              3           84.80       1990.50      0  \n",
       "7039                 1              1          103.20       7362.90      0  \n",
       "7040                 1              2           29.60        346.45      0  \n",
       "7041                 1              3           74.40        306.60      1  \n",
       "7042                 1              0          105.65       6844.50      0  \n",
       "\n",
       "[7032 rows x 20 columns]"
      ]
     },
     "execution_count": 46,
     "metadata": {},
     "output_type": "execute_result"
    }
   ],
   "source": [
    "df1"
   ]
  },
  {
   "cell_type": "code",
   "execution_count": 47,
   "metadata": {},
   "outputs": [
    {
     "data": {
      "text/plain": [
       "count    7032.000000\n",
       "mean       64.798208\n",
       "std        30.085974\n",
       "min        18.250000\n",
       "25%        35.587500\n",
       "50%        70.350000\n",
       "75%        89.862500\n",
       "max       118.750000\n",
       "Name: MonthlyCharges, dtype: float64"
      ]
     },
     "execution_count": 47,
     "metadata": {},
     "output_type": "execute_result"
    },
    {
     "data": {
      "image/png": "[encoded data removed]",
      "text/plain": [
       "<Figure size 432x288 with 1 Axes>"
      ]
     },
     "metadata": {
      "needs_background": "light"
     },
     "output_type": "display_data"
    }
   ],
   "source": [
    "df['MonthlyCharges'].plot.box()\n",
    "df['MonthlyCharges'].describe()"
   ]
  },
  {
   "cell_type": "raw",
   "metadata": {},
   "source": [
    "The average monthly charge is 64.8\n",
    "Min.is 18.25 and with a max charge of 118.75\n",
    "75% and max. had huge difference, there might be outliers"
   ]
  },
  {
   "cell_type": "code",
   "execution_count": 48,
   "metadata": {
    "scrolled": true
   },
   "outputs": [
    {
     "data": {
      "text/plain": [
       "-0.22210292770166232"
      ]
     },
     "execution_count": 48,
     "metadata": {},
     "output_type": "execute_result"
    },
    {
     "data": {
      "image/png": "[encoded data removed]",
      "text/plain": [
       "<Figure size 432x288 with 1 Axes>"
      ]
     },
     "metadata": {
      "needs_background": "light"
     },
     "output_type": "display_data"
    }
   ],
   "source": [
    "sns.distplot(df['MonthlyCharges'])\n",
    "df['MonthlyCharges'].skew()"
   ]
  },
  {
   "cell_type": "markdown",
   "metadata": {},
   "source": [
    "Skewness in acceptable range "
   ]
  },
  {
   "cell_type": "code",
   "execution_count": 49,
   "metadata": {
    "scrolled": true
   },
   "outputs": [
    {
     "data": {
      "text/plain": [
       "count    7032.000000\n",
       "mean     2283.300441\n",
       "std      2266.771362\n",
       "min        18.800000\n",
       "25%       401.450000\n",
       "50%      1397.475000\n",
       "75%      3794.737500\n",
       "max      8684.800000\n",
       "Name: TotalCharges, dtype: float64"
      ]
     },
     "execution_count": 49,
     "metadata": {},
     "output_type": "execute_result"
    },
    {
     "data": {
      "image/png": "[encoded data removed]",
      "text/plain": [
       "<Figure size 432x288 with 1 Axes>"
      ]
     },
     "metadata": {
      "needs_background": "light"
     },
     "output_type": "display_data"
    }
   ],
   "source": [
    "df['TotalCharges'].plot.box()\n",
    "df['TotalCharges'].describe()"
   ]
  },
  {
   "cell_type": "markdown",
   "metadata": {},
   "source": [
    "2283 is the avg. tot. charge, 19 is the least charge"
   ]
  },
  {
   "cell_type": "code",
   "execution_count": 50,
   "metadata": {
    "scrolled": false
   },
   "outputs": [
    {
     "data": {
      "text/plain": [
       "<matplotlib.axes._subplots.AxesSubplot at 0x268e3fbc250>"
      ]
     },
     "execution_count": 50,
     "metadata": {},
     "output_type": "execute_result"
    },
    {
     "data": {
      "image/png": "[encoded data removed]",
      "text/plain": [
       "<Figure size 1080x720 with 2 Axes>"
      ]
     },
     "metadata": {
      "needs_background": "light"
     },
     "output_type": "display_data"
    }
   ],
   "source": [
    "#Let us see the correlation\n",
    "cor=round(df1.corr(),2)\n",
    "plt.figure(figsize=(15,10))\n",
    "sns.heatmap(cor,annot=True)\n"
   ]
  },
  {
   "cell_type": "raw",
   "metadata": {},
   "source": [
    "churn is -vely correlated to tenure,contract, online security and tech support\n",
    "Total charges is highly correlated to Tenure an monthly charges. We can drop one column, i choose to drop monthly charges\n",
    "partner and dependents are correlated to each other, we can drop partner column\n",
    "contract and tenure also provide same kind of info and correlated to each other. We will drop contract.. because from tenure we can estimate might taken contract or not."
   ]
  },
  {
   "cell_type": "code",
   "execution_count": 51,
   "metadata": {},
   "outputs": [],
   "source": [
    "df1.drop(['Partner','Contract','MonthlyCharges'],axis=1,inplace=True)"
   ]
  },
  {
   "cell_type": "code",
   "execution_count": 52,
   "metadata": {},
   "outputs": [
    {
     "data": {
      "text/plain": [
       "(6352, 17)"
      ]
     },
     "execution_count": 52,
     "metadata": {},
     "output_type": "execute_result"
    }
   ],
   "source": [
    "#Checking and removing outliers\n",
    "from scipy.stats import zscore\n",
    "z=abs(zscore(df1))\n",
    "threshold=3\n",
    "df_new=df1[(z<3).all(axis=1)]\n",
    "df_new.shape"
   ]
  },
  {
   "cell_type": "code",
   "execution_count": 53,
   "metadata": {},
   "outputs": [
    {
     "data": {
      "text/plain": [
       "0.9032992036405005"
      ]
     },
     "execution_count": 53,
     "metadata": {},
     "output_type": "execute_result"
    }
   ],
   "source": [
    "6352/7032"
   ]
  },
  {
   "cell_type": "markdown",
   "metadata": {},
   "source": [
    "10% of data is lost"
   ]
  },
  {
   "cell_type": "code",
   "execution_count": 54,
   "metadata": {},
   "outputs": [],
   "source": [
    "#Split x and y\n",
    "x=df_new.drop('Churn',axis=1)\n",
    "y=df_new['Churn']"
   ]
  },
  {
   "cell_type": "code",
   "execution_count": 55,
   "metadata": {},
   "outputs": [],
   "source": [
    "#Scaling the x \n",
    "from sklearn.preprocessing import StandardScaler\n",
    "sc=StandardScaler()\n",
    "x_scaled=sc.fit_transform(x)"
   ]
  },
  {
   "cell_type": "markdown",
   "metadata": {},
   "source": [
    "we seen the dataset is imbalanced. Let us balance it."
   ]
  },
  {
   "cell_type": "code",
   "execution_count": 56,
   "metadata": {},
   "outputs": [],
   "source": [
    "from imblearn.over_sampling import SMOTE\n",
    "smt=SMOTE()\n",
    "x_balanced,y_balanced=smt.fit_resample(x_scaled,y)"
   ]
  },
  {
   "cell_type": "markdown",
   "metadata": {},
   "source": [
    "now the dataset is balanced"
   ]
  },
  {
   "cell_type": "code",
   "execution_count": 57,
   "metadata": {
    "scrolled": true
   },
   "outputs": [
    {
     "data": {
      "text/plain": [
       "1    4653\n",
       "0    4653\n",
       "Name: Churn, dtype: int64"
      ]
     },
     "execution_count": 57,
     "metadata": {},
     "output_type": "execute_result"
    }
   ],
   "source": [
    "y_balanced.value_counts()"
   ]
  },
  {
   "cell_type": "markdown",
   "metadata": {},
   "source": [
    "Equal number of data wrt to churn customers"
   ]
  },
  {
   "cell_type": "code",
   "execution_count": 58,
   "metadata": {},
   "outputs": [
    {
     "name": "stdout",
     "output_type": "stream",
     "text": [
      "Best score:0.7862513426423201\n",
      " random state: 87\n"
     ]
    }
   ],
   "source": [
    "#Let us import and split x y at best random state\n",
    "from sklearn.linear_model import LogisticRegression\n",
    "from sklearn.metrics import confusion_matrix,accuracy_score,classification_report\n",
    "from sklearn.model_selection import train_test_split\n",
    "\n",
    "lo=LogisticRegression()\n",
    "rs=0\n",
    "acsc=0\n",
    "\n",
    "for i in range(500):\n",
    "    x_train,x_test,y_train,y_test=train_test_split(x_balanced,y_balanced,test_size=0.2,random_state=i)\n",
    "    lo.fit(x_train,y_train)\n",
    "    pred=lo.predict(x_test)\n",
    "    acc=accuracy_score(y_test,pred)\n",
    "    if acc>acsc:\n",
    "        acsc=acc\n",
    "        rs=i\n",
    "print(f'Best score:{acsc}\\n random state: {rs}')"
   ]
  },
  {
   "cell_type": "markdown",
   "metadata": {},
   "source": [
    "best score is 80 at random state 471"
   ]
  },
  {
   "cell_type": "code",
   "execution_count": 59,
   "metadata": {},
   "outputs": [],
   "source": [
    "x_train,x_test,y_train,y_test=train_test_split(x_balanced,y_balanced,test_size=0.2,random_state=471)"
   ]
  },
  {
   "cell_type": "code",
   "execution_count": 60,
   "metadata": {},
   "outputs": [],
   "source": [
    "#importing other models\n",
    "from sklearn.tree import DecisionTreeClassifier\n",
    "from sklearn.ensemble import RandomForestClassifier\n",
    "from sklearn.ensemble import GradientBoostingClassifier\n",
    "from sklearn.svm import SVC\n",
    "from sklearn.model_selection import cross_val_score"
   ]
  },
  {
   "cell_type": "code",
   "execution_count": 61,
   "metadata": {
    "scrolled": true
   },
   "outputs": [
    {
     "name": "stdout",
     "output_type": "stream",
     "text": [
      "LogisticRegression():\n",
      "accuracy score: 0.7733619763694952\n",
      "confusion matrix:\n",
      " [[678 231]\n",
      " [191 762]]\n",
      "classification report:\n",
      "               precision    recall  f1-score   support\n",
      "\n",
      "           0       0.78      0.75      0.76       909\n",
      "           1       0.77      0.80      0.78       953\n",
      "\n",
      "    accuracy                           0.77      1862\n",
      "   macro avg       0.77      0.77      0.77      1862\n",
      "weighted avg       0.77      0.77      0.77      1862\n",
      "\n",
      "mean cv score: 0.7620900143195941\n",
      "\n",
      "\n",
      "SVC():\n",
      "accuracy score: 0.8093447905477981\n",
      "confusion matrix:\n",
      " [[720 189]\n",
      " [166 787]]\n",
      "classification report:\n",
      "               precision    recall  f1-score   support\n",
      "\n",
      "           0       0.81      0.79      0.80       909\n",
      "           1       0.81      0.83      0.82       953\n",
      "\n",
      "    accuracy                           0.81      1862\n",
      "   macro avg       0.81      0.81      0.81      1862\n",
      "weighted avg       0.81      0.81      0.81      1862\n",
      "\n",
      "mean cv score: 0.7897070918641502\n",
      "\n",
      "\n",
      "DecisionTreeClassifier():\n",
      "accuracy score: 0.780343716433942\n",
      "confusion matrix:\n",
      " [[704 205]\n",
      " [204 749]]\n",
      "classification report:\n",
      "               precision    recall  f1-score   support\n",
      "\n",
      "           0       0.78      0.77      0.77       909\n",
      "           1       0.79      0.79      0.79       953\n",
      "\n",
      "    accuracy                           0.78      1862\n",
      "   macro avg       0.78      0.78      0.78      1862\n",
      "weighted avg       0.78      0.78      0.78      1862\n",
      "\n",
      "mean cv score: 0.7699404533441534\n",
      "\n",
      "\n",
      "RandomForestClassifier():\n",
      "accuracy score: 0.8394199785177229\n",
      "confusion matrix:\n",
      " [[765 144]\n",
      " [155 798]]\n",
      "classification report:\n",
      "               precision    recall  f1-score   support\n",
      "\n",
      "           0       0.83      0.84      0.84       909\n",
      "           1       0.85      0.84      0.84       953\n",
      "\n",
      "    accuracy                           0.84      1862\n",
      "   macro avg       0.84      0.84      0.84      1862\n",
      "weighted avg       0.84      0.84      0.84      1862\n",
      "\n",
      "mean cv score: 0.8351677920524809\n",
      "\n",
      "\n",
      "GradientBoostingClassifier():\n",
      "accuracy score: 0.8464017185821697\n",
      "confusion matrix:\n",
      " [[758 151]\n",
      " [135 818]]\n",
      "classification report:\n",
      "               precision    recall  f1-score   support\n",
      "\n",
      "           0       0.85      0.83      0.84       909\n",
      "           1       0.84      0.86      0.85       953\n",
      "\n",
      "    accuracy                           0.85      1862\n",
      "   macro avg       0.85      0.85      0.85      1862\n",
      "weighted avg       0.85      0.85      0.85      1862\n",
      "\n",
      "mean cv score: 0.822166050729803\n",
      "\n",
      "\n"
     ]
    }
   ],
   "source": [
    "models=[LogisticRegression(),SVC(),DecisionTreeClassifier(),RandomForestClassifier(),GradientBoostingClassifier()]\n",
    "for m in models:\n",
    "    m.fit(x_train,y_train)\n",
    "    predm=m.predict(x_test)\n",
    "    print(f'{m}:')\n",
    "    print('accuracy score:',accuracy_score(y_test,predm))\n",
    "    print('confusion matrix:\\n',confusion_matrix(y_test,predm))\n",
    "    print('classification report:\\n',classification_report(y_test,predm))\n",
    "    cvscore=cross_val_score(m,x_balanced,y_balanced,cv=5)\n",
    "    print('mean cv score:',cvscore.mean())\n",
    "    print('\\n')"
   ]
  },
  {
   "cell_type": "markdown",
   "metadata": {},
   "source": [
    "Random forest classifier has the least difference between cv score and f1 score"
   ]
  },
  {
   "cell_type": "code",
   "execution_count": 63,
   "metadata": {
    "scrolled": false
   },
   "outputs": [
    {
     "name": "stdout",
     "output_type": "stream",
     "text": [
      "Fitting 5 folds for each of 320 candidates, totalling 1600 fits\n",
      "[CV] END criterion=gini, max_depth=0, max_features=auto, min_samples_leaf=1, min_samples_split=2, n_estimators=100; total time=   0.1s\n",
      "[CV] END criterion=gini, max_depth=0, max_features=auto, min_samples_leaf=1, min_samples_split=2, n_estimators=100; total time=   0.0s\n",
      "[CV] END criterion=gini, max_depth=0, max_features=auto, min_samples_leaf=1, min_samples_split=2, n_estimators=100; total time=   0.0s\n",
      "[CV] END criterion=gini, max_depth=0, max_features=auto, min_samples_leaf=1, min_samples_split=2, n_estimators=100; total time=   0.0s\n",
      "[CV] END criterion=gini, max_depth=0, max_features=auto, min_samples_leaf=1, min_samples_split=2, n_estimators=100; total time=   0.0s\n",
      "[CV] END criterion=gini, max_depth=0, max_features=auto, min_samples_leaf=1, min_samples_split=2, n_estimators=200; total time=   0.1s\n",
      "[CV] END criterion=gini, max_depth=0, max_features=auto, min_samples_leaf=1, min_samples_split=2, n_estimators=200; total time=   0.1s\n",
      "[CV] END criterion=gini, max_depth=0, max_features=auto, min_samples_leaf=1, min_samples_split=2, n_estimators=200; total time=   0.1s\n",
      "[CV] END criterion=gini, max_depth=0, max_features=auto, min_samples_leaf=1, min_samples_split=2, n_estimators=200; total time=   0.1s\n",
      "[CV] END criterion=gini, max_depth=0, max_features=auto, min_samples_leaf=1, min_samples_split=2, n_estimators=200; total time=   0.1s\n",
      "[CV] END criterion=gini, max_depth=0, max_features=auto, min_samples_leaf=1, min_samples_split=2, n_estimators=300; total time=   0.2s\n",
      "[CV] END criterion=gini, max_depth=0, max_features=auto, min_samples_leaf=1, min_samples_split=2, n_estimators=300; total time=   0.2s\n",
      "[CV] END criterion=gini, max_depth=0, max_features=auto, min_samples_leaf=1, min_samples_split=2, n_estimators=300; total time=   0.3s\n",
      "[CV] END criterion=gini, max_depth=0, max_features=auto, min_samples_leaf=1, min_samples_split=2, n_estimators=300; total time=   0.4s\n",
      "[CV] END criterion=gini, max_depth=0, max_features=auto, min_samples_leaf=1, min_samples_split=2, n_estimators=300; total time=   0.5s\n",
      "[CV] END criterion=gini, max_depth=0, max_features=auto, min_samples_leaf=1, min_samples_split=2, n_estimators=400; total time=   0.6s\n",
      "[CV] END criterion=gini, max_depth=0, max_features=auto, min_samples_leaf=1, min_samples_split=2, n_estimators=400; total time=   0.6s\n",
      "[CV] END criterion=gini, max_depth=0, max_features=auto, min_samples_leaf=1, min_samples_split=2, n_estimators=400; total time=   0.4s\n",
      "[CV] END criterion=gini, max_depth=0, max_features=auto, min_samples_leaf=1, min_samples_split=2, n_estimators=400; total time=   0.4s\n",
      "[CV] END criterion=gini, max_depth=0, max_features=auto, min_samples_leaf=1, min_samples_split=2, n_estimators=400; total time=   0.3s\n",
      "[CV] END criterion=gini, max_depth=0, max_features=auto, min_samples_leaf=1, min_samples_split=6, n_estimators=100; total time=   0.0s\n",
      "[CV] END criterion=gini, max_depth=0, max_features=auto, min_samples_leaf=1, min_samples_split=6, n_estimators=100; total time=   0.0s\n",
      "[CV] END criterion=gini, max_depth=0, max_features=auto, min_samples_leaf=1, min_samples_split=6, n_estimators=100; total time=   0.0s\n",
      "[CV] END criterion=gini, max_depth=0, max_features=auto, min_samples_leaf=1, min_samples_split=6, n_estimators=100; total time=   0.0s\n",
      "[CV] END criterion=gini, max_depth=0, max_features=auto, min_samples_leaf=1, min_samples_split=6, n_estimators=100; total time=   0.0s\n",
      "[CV] END criterion=gini, max_depth=0, max_features=auto, min_samples_leaf=1, min_samples_split=6, n_estimators=200; total time=   0.1s\n",
      "[CV] END criterion=gini, max_depth=0, max_features=auto, min_samples_leaf=1, min_samples_split=6, n_estimators=200; total time=   0.1s\n",
      "[CV] END criterion=gini, max_depth=0, max_features=auto, min_samples_leaf=1, min_samples_split=6, n_estimators=200; total time=   0.1s\n",
      "[CV] END criterion=gini, max_depth=0, max_features=auto, min_samples_leaf=1, min_samples_split=6, n_estimators=200; total time=   0.1s\n",
      "[CV] END criterion=gini, max_depth=0, max_features=auto, min_samples_leaf=1, min_samples_split=6, n_estimators=200; total time=   0.1s\n",
      "[CV] END criterion=gini, max_depth=0, max_features=auto, min_samples_leaf=1, min_samples_split=6, n_estimators=300; total time=   0.2s\n",
      "[CV] END criterion=gini, max_depth=0, max_features=auto, min_samples_leaf=1, min_samples_split=6, n_estimators=300; total time=   0.2s\n",
      "[CV] END criterion=gini, max_depth=0, max_features=auto, min_samples_leaf=1, min_samples_split=6, n_estimators=300; total time=   0.2s\n",
      "[CV] END criterion=gini, max_depth=0, max_features=auto, min_samples_leaf=1, min_samples_split=6, n_estimators=300; total time=   0.2s\n",
      "[CV] END criterion=gini, max_depth=0, max_features=auto, min_samples_leaf=1, min_samples_split=6, n_estimators=300; total time=   0.2s\n",
      "[CV] END criterion=gini, max_depth=0, max_features=auto, min_samples_leaf=1, min_samples_split=6, n_estimators=400; total time=   0.3s\n",
      "[CV] END criterion=gini, max_depth=0, max_features=auto, min_samples_leaf=1, min_samples_split=6, n_estimators=400; total time=   0.3s\n",
      "[CV] END criterion=gini, max_depth=0, max_features=auto, min_samples_leaf=1, min_samples_split=6, n_estimators=400; total time=   0.3s\n",
      "[CV] END criterion=gini, max_depth=0, max_features=auto, min_samples_leaf=1, min_samples_split=6, n_estimators=400; total time=   0.3s\n",
      "[CV] END criterion=gini, max_depth=0, max_features=auto, min_samples_leaf=1, min_samples_split=6, n_estimators=400; total time=   0.3s\n",
      "[CV] END criterion=gini, max_depth=0, max_features=auto, min_samples_leaf=1, min_samples_split=10, n_estimators=100; total time=   0.0s\n",
      "[CV] END criterion=gini, max_depth=0, max_features=auto, min_samples_leaf=1, min_samples_split=10, n_estimators=100; total time=   0.0s\n",
      "[CV] END criterion=gini, max_depth=0, max_features=auto, min_samples_leaf=1, min_samples_split=10, n_estimators=100; total time=   0.0s\n",
      "[CV] END criterion=gini, max_depth=0, max_features=auto, min_samples_leaf=1, min_samples_split=10, n_estimators=100; total time=   0.0s\n",
      "[CV] END criterion=gini, max_depth=0, max_features=auto, min_samples_leaf=1, min_samples_split=10, n_estimators=100; total time=   0.0s\n",
      "[CV] END criterion=gini, max_depth=0, max_features=auto, min_samples_leaf=1, min_samples_split=10, n_estimators=200; total time=   0.1s\n",
      "[CV] END criterion=gini, max_depth=0, max_features=auto, min_samples_leaf=1, min_samples_split=10, n_estimators=200; total time=   0.1s\n",
      "[CV] END criterion=gini, max_depth=0, max_features=auto, min_samples_leaf=1, min_samples_split=10, n_estimators=200; total time=   0.1s\n",
      "[CV] END criterion=gini, max_depth=0, max_features=auto, min_samples_leaf=1, min_samples_split=10, n_estimators=200; total time=   0.1s\n",
      "[CV] END criterion=gini, max_depth=0, max_features=auto, min_samples_leaf=1, min_samples_split=10, n_estimators=200; total time=   0.1s\n",
      "[CV] END criterion=gini, max_depth=0, max_features=auto, min_samples_leaf=1, min_samples_split=10, n_estimators=300; total time=   0.2s\n",
      "[CV] END criterion=gini, max_depth=0, max_features=auto, min_samples_leaf=1, min_samples_split=10, n_estimators=300; total time=   0.2s\n",
      "[CV] END criterion=gini, max_depth=0, max_features=auto, min_samples_leaf=1, min_samples_split=10, n_estimators=300; total time=   0.2s\n",
      "[CV] END criterion=gini, max_depth=0, max_features=auto, min_samples_leaf=1, min_samples_split=10, n_estimators=300; total time=   0.2s\n",
      "[CV] END criterion=gini, max_depth=0, max_features=auto, min_samples_leaf=1, min_samples_split=10, n_estimators=300; total time=   0.2s\n",
      "[CV] END criterion=gini, max_depth=0, max_features=auto, min_samples_leaf=1, min_samples_split=10, n_estimators=400; total time=   0.3s\n",
      "[CV] END criterion=gini, max_depth=0, max_features=auto, min_samples_leaf=1, min_samples_split=10, n_estimators=400; total time=   0.3s\n",
      "[CV] END criterion=gini, max_depth=0, max_features=auto, min_samples_leaf=1, min_samples_split=10, n_estimators=400; total time=   0.3s\n",
      "[CV] END criterion=gini, max_depth=0, max_features=auto, min_samples_leaf=1, min_samples_split=10, n_estimators=400; total time=   0.3s\n",
      "[CV] END criterion=gini, max_depth=0, max_features=auto, min_samples_leaf=1, min_samples_split=10, n_estimators=400; total time=   0.3s\n",
      "[CV] END criterion=gini, max_depth=0, max_features=auto, min_samples_leaf=1, min_samples_split=14, n_estimators=100; total time=   0.0s\n",
      "[CV] END criterion=gini, max_depth=0, max_features=auto, min_samples_leaf=1, min_samples_split=14, n_estimators=100; total time=   0.0s\n",
      "[CV] END criterion=gini, max_depth=0, max_features=auto, min_samples_leaf=1, min_samples_split=14, n_estimators=100; total time=   0.0s\n",
      "[CV] END criterion=gini, max_depth=0, max_features=auto, min_samples_leaf=1, min_samples_split=14, n_estimators=100; total time=   0.0s\n",
      "[CV] END criterion=gini, max_depth=0, max_features=auto, min_samples_leaf=1, min_samples_split=14, n_estimators=100; total time=   0.0s\n",
      "[CV] END criterion=gini, max_depth=0, max_features=auto, min_samples_leaf=1, min_samples_split=14, n_estimators=200; total time=   0.1s\n",
      "[CV] END criterion=gini, max_depth=0, max_features=auto, min_samples_leaf=1, min_samples_split=14, n_estimators=200; total time=   0.1s\n",
      "[CV] END criterion=gini, max_depth=0, max_features=auto, min_samples_leaf=1, min_samples_split=14, n_estimators=200; total time=   0.1s\n",
      "[CV] END criterion=gini, max_depth=0, max_features=auto, min_samples_leaf=1, min_samples_split=14, n_estimators=200; total time=   0.1s\n",
      "[CV] END criterion=gini, max_depth=0, max_features=auto, min_samples_leaf=1, min_samples_split=14, n_estimators=200; total time=   0.1s\n",
      "[CV] END criterion=gini, max_depth=0, max_features=auto, min_samples_leaf=1, min_samples_split=14, n_estimators=300; total time=   0.3s\n",
      "[CV] END criterion=gini, max_depth=0, max_features=auto, min_samples_leaf=1, min_samples_split=14, n_estimators=300; total time=   0.3s\n",
      "[CV] END criterion=gini, max_depth=0, max_features=auto, min_samples_leaf=1, min_samples_split=14, n_estimators=300; total time=   0.3s\n",
      "[CV] END criterion=gini, max_depth=0, max_features=auto, min_samples_leaf=1, min_samples_split=14, n_estimators=300; total time=   0.3s\n",
      "[CV] END criterion=gini, max_depth=0, max_features=auto, min_samples_leaf=1, min_samples_split=14, n_estimators=300; total time=   0.3s\n",
      "[CV] END criterion=gini, max_depth=0, max_features=auto, min_samples_leaf=1, min_samples_split=14, n_estimators=400; total time=   0.5s\n",
      "[CV] END criterion=gini, max_depth=0, max_features=auto, min_samples_leaf=1, min_samples_split=14, n_estimators=400; total time=   0.3s\n",
      "[CV] END criterion=gini, max_depth=0, max_features=auto, min_samples_leaf=1, min_samples_split=14, n_estimators=400; total time=   0.3s\n",
      "[CV] END criterion=gini, max_depth=0, max_features=auto, min_samples_leaf=1, min_samples_split=14, n_estimators=400; total time=   0.3s\n",
      "[CV] END criterion=gini, max_depth=0, max_features=auto, min_samples_leaf=1, min_samples_split=14, n_estimators=400; total time=   0.3s\n",
      "[CV] END criterion=gini, max_depth=0, max_features=auto, min_samples_leaf=1, min_samples_split=18, n_estimators=100; total time=   0.0s\n",
      "[CV] END criterion=gini, max_depth=0, max_features=auto, min_samples_leaf=1, min_samples_split=18, n_estimators=100; total time=   0.0s\n",
      "[CV] END criterion=gini, max_depth=0, max_features=auto, min_samples_leaf=1, min_samples_split=18, n_estimators=100; total time=   0.0s\n",
      "[CV] END criterion=gini, max_depth=0, max_features=auto, min_samples_leaf=1, min_samples_split=18, n_estimators=100; total time=   0.0s\n",
      "[CV] END criterion=gini, max_depth=0, max_features=auto, min_samples_leaf=1, min_samples_split=18, n_estimators=100; total time=   0.0s\n",
      "[CV] END criterion=gini, max_depth=0, max_features=auto, min_samples_leaf=1, min_samples_split=18, n_estimators=200; total time=   0.1s\n",
      "[CV] END criterion=gini, max_depth=0, max_features=auto, min_samples_leaf=1, min_samples_split=18, n_estimators=200; total time=   0.1s\n",
      "[CV] END criterion=gini, max_depth=0, max_features=auto, min_samples_leaf=1, min_samples_split=18, n_estimators=200; total time=   0.1s\n",
      "[CV] END criterion=gini, max_depth=0, max_features=auto, min_samples_leaf=1, min_samples_split=18, n_estimators=200; total time=   0.1s\n",
      "[CV] END criterion=gini, max_depth=0, max_features=auto, min_samples_leaf=1, min_samples_split=18, n_estimators=200; total time=   0.1s\n",
      "[CV] END criterion=gini, max_depth=0, max_features=auto, min_samples_leaf=1, min_samples_split=18, n_estimators=300; total time=   0.3s\n",
      "[CV] END criterion=gini, max_depth=0, max_features=auto, min_samples_leaf=1, min_samples_split=18, n_estimators=300; total time=   0.3s\n",
      "[CV] END criterion=gini, max_depth=0, max_features=auto, min_samples_leaf=1, min_samples_split=18, n_estimators=300; total time=   0.3s\n",
      "[CV] END criterion=gini, max_depth=0, max_features=auto, min_samples_leaf=1, min_samples_split=18, n_estimators=300; total time=   0.4s\n",
      "[CV] END criterion=gini, max_depth=0, max_features=auto, min_samples_leaf=1, min_samples_split=18, n_estimators=300; total time=   0.2s\n",
      "[CV] END criterion=gini, max_depth=0, max_features=auto, min_samples_leaf=1, min_samples_split=18, n_estimators=400; total time=   0.3s\n",
      "[CV] END criterion=gini, max_depth=0, max_features=auto, min_samples_leaf=1, min_samples_split=18, n_estimators=400; total time=   0.3s\n",
      "[CV] END criterion=gini, max_depth=0, max_features=auto, min_samples_leaf=1, min_samples_split=18, n_estimators=400; total time=   0.3s\n",
      "[CV] END criterion=gini, max_depth=0, max_features=auto, min_samples_leaf=1, min_samples_split=18, n_estimators=400; total time=   0.3s\n",
      "[CV] END criterion=gini, max_depth=0, max_features=auto, min_samples_leaf=1, min_samples_split=18, n_estimators=400; total time=   0.3s\n",
      "[CV] END criterion=gini, max_depth=0, max_features=auto, min_samples_leaf=2, min_samples_split=2, n_estimators=100; total time=   0.0s\n",
      "[CV] END criterion=gini, max_depth=0, max_features=auto, min_samples_leaf=2, min_samples_split=2, n_estimators=100; total time=   0.0s\n",
      "[CV] END criterion=gini, max_depth=0, max_features=auto, min_samples_leaf=2, min_samples_split=2, n_estimators=100; total time=   0.0s\n",
      "[CV] END criterion=gini, max_depth=0, max_features=auto, min_samples_leaf=2, min_samples_split=2, n_estimators=100; total time=   0.0s\n",
      "[CV] END criterion=gini, max_depth=0, max_features=auto, min_samples_leaf=2, min_samples_split=2, n_estimators=100; total time=   0.0s\n",
      "[CV] END criterion=gini, max_depth=0, max_features=auto, min_samples_leaf=2, min_samples_split=2, n_estimators=200; total time=   0.1s\n",
      "[CV] END criterion=gini, max_depth=0, max_features=auto, min_samples_leaf=2, min_samples_split=2, n_estimators=200; total time=   0.1s\n",
      "[CV] END criterion=gini, max_depth=0, max_features=auto, min_samples_leaf=2, min_samples_split=2, n_estimators=200; total time=   0.1s\n",
      "[CV] END criterion=gini, max_depth=0, max_features=auto, min_samples_leaf=2, min_samples_split=2, n_estimators=200; total time=   0.1s\n",
      "[CV] END criterion=gini, max_depth=0, max_features=auto, min_samples_leaf=2, min_samples_split=2, n_estimators=200; total time=   0.1s\n",
      "[CV] END criterion=gini, max_depth=0, max_features=auto, min_samples_leaf=2, min_samples_split=2, n_estimators=300; total time=   0.2s\n",
      "[CV] END criterion=gini, max_depth=0, max_features=auto, min_samples_leaf=2, min_samples_split=2, n_estimators=300; total time=   0.2s\n",
      "[CV] END criterion=gini, max_depth=0, max_features=auto, min_samples_leaf=2, min_samples_split=2, n_estimators=300; total time=   0.1s\n",
      "[CV] END criterion=gini, max_depth=0, max_features=auto, min_samples_leaf=2, min_samples_split=2, n_estimators=300; total time=   0.2s\n",
      "[CV] END criterion=gini, max_depth=0, max_features=auto, min_samples_leaf=2, min_samples_split=2, n_estimators=300; total time=   0.2s\n",
      "[CV] END criterion=gini, max_depth=0, max_features=auto, min_samples_leaf=2, min_samples_split=2, n_estimators=400; total time=   0.3s\n",
      "[CV] END criterion=gini, max_depth=0, max_features=auto, min_samples_leaf=2, min_samples_split=2, n_estimators=400; total time=   0.3s\n",
      "[CV] END criterion=gini, max_depth=0, max_features=auto, min_samples_leaf=2, min_samples_split=2, n_estimators=400; total time=   0.3s\n",
      "[CV] END criterion=gini, max_depth=0, max_features=auto, min_samples_leaf=2, min_samples_split=2, n_estimators=400; total time=   0.3s\n",
      "[CV] END criterion=gini, max_depth=0, max_features=auto, min_samples_leaf=2, min_samples_split=2, n_estimators=400; total time=   0.3s\n",
      "[CV] END criterion=gini, max_depth=0, max_features=auto, min_samples_leaf=2, min_samples_split=6, n_estimators=100; total time=   0.0s\n",
      "[CV] END criterion=gini, max_depth=0, max_features=auto, min_samples_leaf=2, min_samples_split=6, n_estimators=100; total time=   0.0s\n",
      "[CV] END criterion=gini, max_depth=0, max_features=auto, min_samples_leaf=2, min_samples_split=6, n_estimators=100; total time=   0.0s\n",
      "[CV] END criterion=gini, max_depth=0, max_features=auto, min_samples_leaf=2, min_samples_split=6, n_estimators=100; total time=   0.0s\n",
      "[CV] END criterion=gini, max_depth=0, max_features=auto, min_samples_leaf=2, min_samples_split=6, n_estimators=100; total time=   0.0s\n",
      "[CV] END criterion=gini, max_depth=0, max_features=auto, min_samples_leaf=2, min_samples_split=6, n_estimators=200; total time=   0.1s\n",
      "[CV] END criterion=gini, max_depth=0, max_features=auto, min_samples_leaf=2, min_samples_split=6, n_estimators=200; total time=   0.1s\n",
      "[CV] END criterion=gini, max_depth=0, max_features=auto, min_samples_leaf=2, min_samples_split=6, n_estimators=200; total time=   0.1s\n",
      "[CV] END criterion=gini, max_depth=0, max_features=auto, min_samples_leaf=2, min_samples_split=6, n_estimators=200; total time=   0.1s\n",
      "[CV] END criterion=gini, max_depth=0, max_features=auto, min_samples_leaf=2, min_samples_split=6, n_estimators=200; total time=   0.1s\n",
      "[CV] END criterion=gini, max_depth=0, max_features=auto, min_samples_leaf=2, min_samples_split=6, n_estimators=300; total time=   0.3s\n",
      "[CV] END criterion=gini, max_depth=0, max_features=auto, min_samples_leaf=2, min_samples_split=6, n_estimators=300; total time=   0.2s\n",
      "[CV] END criterion=gini, max_depth=0, max_features=auto, min_samples_leaf=2, min_samples_split=6, n_estimators=300; total time=   0.4s\n",
      "[CV] END criterion=gini, max_depth=0, max_features=auto, min_samples_leaf=2, min_samples_split=6, n_estimators=300; total time=   0.4s\n",
      "[CV] END criterion=gini, max_depth=0, max_features=auto, min_samples_leaf=2, min_samples_split=6, n_estimators=300; total time=   0.3s\n",
      "[CV] END criterion=gini, max_depth=0, max_features=auto, min_samples_leaf=2, min_samples_split=6, n_estimators=400; total time=   0.3s\n",
      "[CV] END criterion=gini, max_depth=0, max_features=auto, min_samples_leaf=2, min_samples_split=6, n_estimators=400; total time=   0.4s\n",
      "[CV] END criterion=gini, max_depth=0, max_features=auto, min_samples_leaf=2, min_samples_split=6, n_estimators=400; total time=   0.3s\n",
      "[CV] END criterion=gini, max_depth=0, max_features=auto, min_samples_leaf=2, min_samples_split=6, n_estimators=400; total time=   0.2s\n",
      "[CV] END criterion=gini, max_depth=0, max_features=auto, min_samples_leaf=2, min_samples_split=6, n_estimators=400; total time=   0.2s\n",
      "[CV] END criterion=gini, max_depth=0, max_features=auto, min_samples_leaf=2, min_samples_split=10, n_estimators=100; total time=   0.0s\n",
      "[CV] END criterion=gini, max_depth=0, max_features=auto, min_samples_leaf=2, min_samples_split=10, n_estimators=100; total time=   0.0s\n",
      "[CV] END criterion=gini, max_depth=0, max_features=auto, min_samples_leaf=2, min_samples_split=10, n_estimators=100; total time=   0.0s\n",
      "[CV] END criterion=gini, max_depth=0, max_features=auto, min_samples_leaf=2, min_samples_split=10, n_estimators=100; total time=   0.0s\n",
      "[CV] END criterion=gini, max_depth=0, max_features=auto, min_samples_leaf=2, min_samples_split=10, n_estimators=100; total time=   0.0s\n",
      "[CV] END criterion=gini, max_depth=0, max_features=auto, min_samples_leaf=2, min_samples_split=10, n_estimators=200; total time=   0.0s\n",
      "[CV] END criterion=gini, max_depth=0, max_features=auto, min_samples_leaf=2, min_samples_split=10, n_estimators=200; total time=   0.0s\n",
      "[CV] END criterion=gini, max_depth=0, max_features=auto, min_samples_leaf=2, min_samples_split=10, n_estimators=200; total time=   0.1s\n",
      "[CV] END criterion=gini, max_depth=0, max_features=auto, min_samples_leaf=2, min_samples_split=10, n_estimators=200; total time=   0.0s\n",
      "[CV] END criterion=gini, max_depth=0, max_features=auto, min_samples_leaf=2, min_samples_split=10, n_estimators=200; total time=   0.0s\n",
      "[CV] END criterion=gini, max_depth=0, max_features=auto, min_samples_leaf=2, min_samples_split=10, n_estimators=300; total time=   0.1s\n",
      "[CV] END criterion=gini, max_depth=0, max_features=auto, min_samples_leaf=2, min_samples_split=10, n_estimators=300; total time=   0.1s\n",
      "[CV] END criterion=gini, max_depth=0, max_features=auto, min_samples_leaf=2, min_samples_split=10, n_estimators=300; total time=   0.1s\n",
      "[CV] END criterion=gini, max_depth=0, max_features=auto, min_samples_leaf=2, min_samples_split=10, n_estimators=300; total time=   0.1s\n",
      "[CV] END criterion=gini, max_depth=0, max_features=auto, min_samples_leaf=2, min_samples_split=10, n_estimators=300; total time=   0.1s\n",
      "[CV] END criterion=gini, max_depth=0, max_features=auto, min_samples_leaf=2, min_samples_split=10, n_estimators=400; total time=   0.2s\n",
      "[CV] END criterion=gini, max_depth=0, max_features=auto, min_samples_leaf=2, min_samples_split=10, n_estimators=400; total time=   0.2s\n",
      "[CV] END criterion=gini, max_depth=0, max_features=auto, min_samples_leaf=2, min_samples_split=10, n_estimators=400; total time=   0.2s\n",
      "[CV] END criterion=gini, max_depth=0, max_features=auto, min_samples_leaf=2, min_samples_split=10, n_estimators=400; total time=   0.2s\n",
      "[CV] END criterion=gini, max_depth=0, max_features=auto, min_samples_leaf=2, min_samples_split=10, n_estimators=400; total time=   0.2s\n",
      "[CV] END criterion=gini, max_depth=0, max_features=auto, min_samples_leaf=2, min_samples_split=14, n_estimators=100; total time=   0.0s\n",
      "[CV] END criterion=gini, max_depth=0, max_features=auto, min_samples_leaf=2, min_samples_split=14, n_estimators=100; total time=   0.0s\n",
      "[CV] END criterion=gini, max_depth=0, max_features=auto, min_samples_leaf=2, min_samples_split=14, n_estimators=100; total time=   0.0s\n",
      "[CV] END criterion=gini, max_depth=0, max_features=auto, min_samples_leaf=2, min_samples_split=14, n_estimators=100; total time=   0.0s\n",
      "[CV] END criterion=gini, max_depth=0, max_features=auto, min_samples_leaf=2, min_samples_split=14, n_estimators=100; total time=   0.0s\n",
      "[CV] END criterion=gini, max_depth=0, max_features=auto, min_samples_leaf=2, min_samples_split=14, n_estimators=200; total time=   0.1s\n",
      "[CV] END criterion=gini, max_depth=0, max_features=auto, min_samples_leaf=2, min_samples_split=14, n_estimators=200; total time=   0.0s\n",
      "[CV] END criterion=gini, max_depth=0, max_features=auto, min_samples_leaf=2, min_samples_split=14, n_estimators=200; total time=   0.0s\n",
      "[CV] END criterion=gini, max_depth=0, max_features=auto, min_samples_leaf=2, min_samples_split=14, n_estimators=200; total time=   0.1s\n",
      "[CV] END criterion=gini, max_depth=0, max_features=auto, min_samples_leaf=2, min_samples_split=14, n_estimators=200; total time=   0.0s\n",
      "[CV] END criterion=gini, max_depth=0, max_features=auto, min_samples_leaf=2, min_samples_split=14, n_estimators=300; total time=   0.1s\n",
      "[CV] END criterion=gini, max_depth=0, max_features=auto, min_samples_leaf=2, min_samples_split=14, n_estimators=300; total time=   0.1s\n",
      "[CV] END criterion=gini, max_depth=0, max_features=auto, min_samples_leaf=2, min_samples_split=14, n_estimators=300; total time=   0.1s\n",
      "[CV] END criterion=gini, max_depth=0, max_features=auto, min_samples_leaf=2, min_samples_split=14, n_estimators=300; total time=   0.1s\n",
      "[CV] END criterion=gini, max_depth=0, max_features=auto, min_samples_leaf=2, min_samples_split=14, n_estimators=300; total time=   0.1s\n",
      "[CV] END criterion=gini, max_depth=0, max_features=auto, min_samples_leaf=2, min_samples_split=14, n_estimators=400; total time=   0.2s\n",
      "[CV] END criterion=gini, max_depth=0, max_features=auto, min_samples_leaf=2, min_samples_split=14, n_estimators=400; total time=   0.2s\n",
      "[CV] END criterion=gini, max_depth=0, max_features=auto, min_samples_leaf=2, min_samples_split=14, n_estimators=400; total time=   0.2s\n",
      "[CV] END criterion=gini, max_depth=0, max_features=auto, min_samples_leaf=2, min_samples_split=14, n_estimators=400; total time=   0.3s\n",
      "[CV] END criterion=gini, max_depth=0, max_features=auto, min_samples_leaf=2, min_samples_split=14, n_estimators=400; total time=   0.4s\n",
      "[CV] END criterion=gini, max_depth=0, max_features=auto, min_samples_leaf=2, min_samples_split=18, n_estimators=100; total time=   0.0s\n",
      "[CV] END criterion=gini, max_depth=0, max_features=auto, min_samples_leaf=2, min_samples_split=18, n_estimators=100; total time=   0.0s\n",
      "[CV] END criterion=gini, max_depth=0, max_features=auto, min_samples_leaf=2, min_samples_split=18, n_estimators=100; total time=   0.0s\n",
      "[CV] END criterion=gini, max_depth=0, max_features=auto, min_samples_leaf=2, min_samples_split=18, n_estimators=100; total time=   0.0s\n",
      "[CV] END criterion=gini, max_depth=0, max_features=auto, min_samples_leaf=2, min_samples_split=18, n_estimators=100; total time=   0.0s\n",
      "[CV] END criterion=gini, max_depth=0, max_features=auto, min_samples_leaf=2, min_samples_split=18, n_estimators=200; total time=   0.0s\n",
      "[CV] END criterion=gini, max_depth=0, max_features=auto, min_samples_leaf=2, min_samples_split=18, n_estimators=200; total time=   0.0s\n",
      "[CV] END criterion=gini, max_depth=0, max_features=auto, min_samples_leaf=2, min_samples_split=18, n_estimators=200; total time=   0.2s\n",
      "[CV] END criterion=gini, max_depth=0, max_features=auto, min_samples_leaf=2, min_samples_split=18, n_estimators=200; total time=   0.2s\n",
      "[CV] END criterion=gini, max_depth=0, max_features=auto, min_samples_leaf=2, min_samples_split=18, n_estimators=200; total time=   0.2s\n",
      "[CV] END criterion=gini, max_depth=0, max_features=auto, min_samples_leaf=2, min_samples_split=18, n_estimators=300; total time=   0.1s\n",
      "[CV] END criterion=gini, max_depth=0, max_features=auto, min_samples_leaf=2, min_samples_split=18, n_estimators=300; total time=   0.1s\n",
      "[CV] END criterion=gini, max_depth=0, max_features=auto, min_samples_leaf=2, min_samples_split=18, n_estimators=300; total time=   0.2s\n",
      "[CV] END criterion=gini, max_depth=0, max_features=auto, min_samples_leaf=2, min_samples_split=18, n_estimators=300; total time=   0.3s\n",
      "[CV] END criterion=gini, max_depth=0, max_features=auto, min_samples_leaf=2, min_samples_split=18, n_estimators=300; total time=   0.2s\n",
      "[CV] END criterion=gini, max_depth=0, max_features=auto, min_samples_leaf=2, min_samples_split=18, n_estimators=400; total time=   0.2s\n",
      "[CV] END criterion=gini, max_depth=0, max_features=auto, min_samples_leaf=2, min_samples_split=18, n_estimators=400; total time=   0.2s\n",
      "[CV] END criterion=gini, max_depth=0, max_features=auto, min_samples_leaf=2, min_samples_split=18, n_estimators=400; total time=   0.2s\n",
      "[CV] END criterion=gini, max_depth=0, max_features=auto, min_samples_leaf=2, min_samples_split=18, n_estimators=400; total time=   0.2s\n",
      "[CV] END criterion=gini, max_depth=0, max_features=auto, min_samples_leaf=2, min_samples_split=18, n_estimators=400; total time=   0.2s\n",
      "[CV] END criterion=gini, max_depth=0, max_features=auto, min_samples_leaf=3, min_samples_split=2, n_estimators=100; total time=   0.0s\n",
      "[CV] END criterion=gini, max_depth=0, max_features=auto, min_samples_leaf=3, min_samples_split=2, n_estimators=100; total time=   0.0s\n",
      "[CV] END criterion=gini, max_depth=0, max_features=auto, min_samples_leaf=3, min_samples_split=2, n_estimators=100; total time=   0.0s\n",
      "[CV] END criterion=gini, max_depth=0, max_features=auto, min_samples_leaf=3, min_samples_split=2, n_estimators=100; total time=   0.0s\n",
      "[CV] END criterion=gini, max_depth=0, max_features=auto, min_samples_leaf=3, min_samples_split=2, n_estimators=100; total time=   0.0s\n",
      "[CV] END criterion=gini, max_depth=0, max_features=auto, min_samples_leaf=3, min_samples_split=2, n_estimators=200; total time=   0.1s\n",
      "[CV] END criterion=gini, max_depth=0, max_features=auto, min_samples_leaf=3, min_samples_split=2, n_estimators=200; total time=   0.1s\n",
      "[CV] END criterion=gini, max_depth=0, max_features=auto, min_samples_leaf=3, min_samples_split=2, n_estimators=200; total time=   0.1s\n",
      "[CV] END criterion=gini, max_depth=0, max_features=auto, min_samples_leaf=3, min_samples_split=2, n_estimators=200; total time=   0.0s\n",
      "[CV] END criterion=gini, max_depth=0, max_features=auto, min_samples_leaf=3, min_samples_split=2, n_estimators=200; total time=   0.0s\n",
      "[CV] END criterion=gini, max_depth=0, max_features=auto, min_samples_leaf=3, min_samples_split=2, n_estimators=300; total time=   0.1s\n",
      "[CV] END criterion=gini, max_depth=0, max_features=auto, min_samples_leaf=3, min_samples_split=2, n_estimators=300; total time=   0.1s\n",
      "[CV] END criterion=gini, max_depth=0, max_features=auto, min_samples_leaf=3, min_samples_split=2, n_estimators=300; total time=   0.1s\n",
      "[CV] END criterion=gini, max_depth=0, max_features=auto, min_samples_leaf=3, min_samples_split=2, n_estimators=300; total time=   0.1s\n",
      "[CV] END criterion=gini, max_depth=0, max_features=auto, min_samples_leaf=3, min_samples_split=2, n_estimators=300; total time=   0.1s\n",
      "[CV] END criterion=gini, max_depth=0, max_features=auto, min_samples_leaf=3, min_samples_split=2, n_estimators=400; total time=   0.2s\n",
      "[CV] END criterion=gini, max_depth=0, max_features=auto, min_samples_leaf=3, min_samples_split=2, n_estimators=400; total time=   0.2s\n",
      "[CV] END criterion=gini, max_depth=0, max_features=auto, min_samples_leaf=3, min_samples_split=2, n_estimators=400; total time=   0.2s\n",
      "[CV] END criterion=gini, max_depth=0, max_features=auto, min_samples_leaf=3, min_samples_split=2, n_estimators=400; total time=   0.2s\n",
      "[CV] END criterion=gini, max_depth=0, max_features=auto, min_samples_leaf=3, min_samples_split=2, n_estimators=400; total time=   0.3s\n",
      "[CV] END criterion=gini, max_depth=0, max_features=auto, min_samples_leaf=3, min_samples_split=6, n_estimators=100; total time=   0.0s\n",
      "[CV] END criterion=gini, max_depth=0, max_features=auto, min_samples_leaf=3, min_samples_split=6, n_estimators=100; total time=   0.0s\n",
      "[CV] END criterion=gini, max_depth=0, max_features=auto, min_samples_leaf=3, min_samples_split=6, n_estimators=100; total time=   0.0s\n",
      "[CV] END criterion=gini, max_depth=0, max_features=auto, min_samples_leaf=3, min_samples_split=6, n_estimators=100; total time=   0.0s\n",
      "[CV] END criterion=gini, max_depth=0, max_features=auto, min_samples_leaf=3, min_samples_split=6, n_estimators=100; total time=   0.0s\n",
      "[CV] END criterion=gini, max_depth=0, max_features=auto, min_samples_leaf=3, min_samples_split=6, n_estimators=200; total time=   0.1s\n",
      "[CV] END criterion=gini, max_depth=0, max_features=auto, min_samples_leaf=3, min_samples_split=6, n_estimators=200; total time=   0.0s\n",
      "[CV] END criterion=gini, max_depth=0, max_features=auto, min_samples_leaf=3, min_samples_split=6, n_estimators=200; total time=   0.0s\n",
      "[CV] END criterion=gini, max_depth=0, max_features=auto, min_samples_leaf=3, min_samples_split=6, n_estimators=200; total time=   0.1s\n",
      "[CV] END criterion=gini, max_depth=0, max_features=auto, min_samples_leaf=3, min_samples_split=6, n_estimators=200; total time=   0.1s\n",
      "[CV] END criterion=gini, max_depth=0, max_features=auto, min_samples_leaf=3, min_samples_split=6, n_estimators=300; total time=   0.1s\n",
      "[CV] END criterion=gini, max_depth=0, max_features=auto, min_samples_leaf=3, min_samples_split=6, n_estimators=300; total time=   0.1s\n",
      "[CV] END criterion=gini, max_depth=0, max_features=auto, min_samples_leaf=3, min_samples_split=6, n_estimators=300; total time=   0.1s\n",
      "[CV] END criterion=gini, max_depth=0, max_features=auto, min_samples_leaf=3, min_samples_split=6, n_estimators=300; total time=   0.1s\n",
      "[CV] END criterion=gini, max_depth=0, max_features=auto, min_samples_leaf=3, min_samples_split=6, n_estimators=300; total time=   0.1s\n",
      "[CV] END criterion=gini, max_depth=0, max_features=auto, min_samples_leaf=3, min_samples_split=6, n_estimators=400; total time=   0.2s\n",
      "[CV] END criterion=gini, max_depth=0, max_features=auto, min_samples_leaf=3, min_samples_split=6, n_estimators=400; total time=   0.2s\n",
      "[CV] END criterion=gini, max_depth=0, max_features=auto, min_samples_leaf=3, min_samples_split=6, n_estimators=400; total time=   0.2s\n",
      "[CV] END criterion=gini, max_depth=0, max_features=auto, min_samples_leaf=3, min_samples_split=6, n_estimators=400; total time=   0.2s\n",
      "[CV] END criterion=gini, max_depth=0, max_features=auto, min_samples_leaf=3, min_samples_split=6, n_estimators=400; total time=   0.2s\n",
      "[CV] END criterion=gini, max_depth=0, max_features=auto, min_samples_leaf=3, min_samples_split=10, n_estimators=100; total time=   0.0s\n",
      "[CV] END criterion=gini, max_depth=0, max_features=auto, min_samples_leaf=3, min_samples_split=10, n_estimators=100; total time=   0.0s\n",
      "[CV] END criterion=gini, max_depth=0, max_features=auto, min_samples_leaf=3, min_samples_split=10, n_estimators=100; total time=   0.0s\n",
      "[CV] END criterion=gini, max_depth=0, max_features=auto, min_samples_leaf=3, min_samples_split=10, n_estimators=100; total time=   0.0s\n",
      "[CV] END criterion=gini, max_depth=0, max_features=auto, min_samples_leaf=3, min_samples_split=10, n_estimators=100; total time=   0.0s\n",
      "[CV] END criterion=gini, max_depth=0, max_features=auto, min_samples_leaf=3, min_samples_split=10, n_estimators=200; total time=   0.0s\n",
      "[CV] END criterion=gini, max_depth=0, max_features=auto, min_samples_leaf=3, min_samples_split=10, n_estimators=200; total time=   0.1s\n",
      "[CV] END criterion=gini, max_depth=0, max_features=auto, min_samples_leaf=3, min_samples_split=10, n_estimators=200; total time=   0.1s\n",
      "[CV] END criterion=gini, max_depth=0, max_features=auto, min_samples_leaf=3, min_samples_split=10, n_estimators=200; total time=   0.1s\n",
      "[CV] END criterion=gini, max_depth=0, max_features=auto, min_samples_leaf=3, min_samples_split=10, n_estimators=200; total time=   0.1s\n",
      "[CV] END criterion=gini, max_depth=0, max_features=auto, min_samples_leaf=3, min_samples_split=10, n_estimators=300; total time=   0.2s\n",
      "[CV] END criterion=gini, max_depth=0, max_features=auto, min_samples_leaf=3, min_samples_split=10, n_estimators=300; total time=   0.1s\n",
      "[CV] END criterion=gini, max_depth=0, max_features=auto, min_samples_leaf=3, min_samples_split=10, n_estimators=300; total time=   0.1s\n",
      "[CV] END criterion=gini, max_depth=0, max_features=auto, min_samples_leaf=3, min_samples_split=10, n_estimators=300; total time=   0.1s\n",
      "[CV] END criterion=gini, max_depth=0, max_features=auto, min_samples_leaf=3, min_samples_split=10, n_estimators=300; total time=   0.1s\n",
      "[CV] END criterion=gini, max_depth=0, max_features=auto, min_samples_leaf=3, min_samples_split=10, n_estimators=400; total time=   0.2s\n",
      "[CV] END criterion=gini, max_depth=0, max_features=auto, min_samples_leaf=3, min_samples_split=10, n_estimators=400; total time=   0.2s\n",
      "[CV] END criterion=gini, max_depth=0, max_features=auto, min_samples_leaf=3, min_samples_split=10, n_estimators=400; total time=   0.2s\n",
      "[CV] END criterion=gini, max_depth=0, max_features=auto, min_samples_leaf=3, min_samples_split=10, n_estimators=400; total time=   0.2s\n",
      "[CV] END criterion=gini, max_depth=0, max_features=auto, min_samples_leaf=3, min_samples_split=10, n_estimators=400; total time=   0.2s\n",
      "[CV] END criterion=gini, max_depth=0, max_features=auto, min_samples_leaf=3, min_samples_split=14, n_estimators=100; total time=   0.0s\n",
      "[CV] END criterion=gini, max_depth=0, max_features=auto, min_samples_leaf=3, min_samples_split=14, n_estimators=100; total time=   0.0s\n",
      "[CV] END criterion=gini, max_depth=0, max_features=auto, min_samples_leaf=3, min_samples_split=14, n_estimators=100; total time=   0.0s\n",
      "[CV] END criterion=gini, max_depth=0, max_features=auto, min_samples_leaf=3, min_samples_split=14, n_estimators=100; total time=   0.0s\n",
      "[CV] END criterion=gini, max_depth=0, max_features=auto, min_samples_leaf=3, min_samples_split=14, n_estimators=100; total time=   0.0s\n",
      "[CV] END criterion=gini, max_depth=0, max_features=auto, min_samples_leaf=3, min_samples_split=14, n_estimators=200; total time=   0.1s\n",
      "[CV] END criterion=gini, max_depth=0, max_features=auto, min_samples_leaf=3, min_samples_split=14, n_estimators=200; total time=   0.0s\n",
      "[CV] END criterion=gini, max_depth=0, max_features=auto, min_samples_leaf=3, min_samples_split=14, n_estimators=200; total time=   0.1s\n",
      "[CV] END criterion=gini, max_depth=0, max_features=auto, min_samples_leaf=3, min_samples_split=14, n_estimators=200; total time=   0.0s\n",
      "[CV] END criterion=gini, max_depth=0, max_features=auto, min_samples_leaf=3, min_samples_split=14, n_estimators=200; total time=   0.0s\n",
      "[CV] END criterion=gini, max_depth=0, max_features=auto, min_samples_leaf=3, min_samples_split=14, n_estimators=300; total time=   0.1s\n",
      "[CV] END criterion=gini, max_depth=0, max_features=auto, min_samples_leaf=3, min_samples_split=14, n_estimators=300; total time=   0.1s\n",
      "[CV] END criterion=gini, max_depth=0, max_features=auto, min_samples_leaf=3, min_samples_split=14, n_estimators=300; total time=   0.1s\n",
      "[CV] END criterion=gini, max_depth=0, max_features=auto, min_samples_leaf=3, min_samples_split=14, n_estimators=300; total time=   0.1s\n",
      "[CV] END criterion=gini, max_depth=0, max_features=auto, min_samples_leaf=3, min_samples_split=14, n_estimators=300; total time=   0.1s\n",
      "[CV] END criterion=gini, max_depth=0, max_features=auto, min_samples_leaf=3, min_samples_split=14, n_estimators=400; total time=   0.2s\n",
      "[CV] END criterion=gini, max_depth=0, max_features=auto, min_samples_leaf=3, min_samples_split=14, n_estimators=400; total time=   0.2s\n",
      "[CV] END criterion=gini, max_depth=0, max_features=auto, min_samples_leaf=3, min_samples_split=14, n_estimators=400; total time=   0.2s\n",
      "[CV] END criterion=gini, max_depth=0, max_features=auto, min_samples_leaf=3, min_samples_split=14, n_estimators=400; total time=   0.2s\n",
      "[CV] END criterion=gini, max_depth=0, max_features=auto, min_samples_leaf=3, min_samples_split=14, n_estimators=400; total time=   0.2s\n",
      "[CV] END criterion=gini, max_depth=0, max_features=auto, min_samples_leaf=3, min_samples_split=18, n_estimators=100; total time=   0.0s\n",
      "[CV] END criterion=gini, max_depth=0, max_features=auto, min_samples_leaf=3, min_samples_split=18, n_estimators=100; total time=   0.0s\n",
      "[CV] END criterion=gini, max_depth=0, max_features=auto, min_samples_leaf=3, min_samples_split=18, n_estimators=100; total time=   0.0s\n",
      "[CV] END criterion=gini, max_depth=0, max_features=auto, min_samples_leaf=3, min_samples_split=18, n_estimators=100; total time=   0.0s\n",
      "[CV] END criterion=gini, max_depth=0, max_features=auto, min_samples_leaf=3, min_samples_split=18, n_estimators=100; total time=   0.0s\n",
      "[CV] END criterion=gini, max_depth=0, max_features=auto, min_samples_leaf=3, min_samples_split=18, n_estimators=200; total time=   0.1s\n",
      "[CV] END criterion=gini, max_depth=0, max_features=auto, min_samples_leaf=3, min_samples_split=18, n_estimators=200; total time=   0.1s\n",
      "[CV] END criterion=gini, max_depth=0, max_features=auto, min_samples_leaf=3, min_samples_split=18, n_estimators=200; total time=   0.1s\n",
      "[CV] END criterion=gini, max_depth=0, max_features=auto, min_samples_leaf=3, min_samples_split=18, n_estimators=200; total time=   0.1s\n",
      "[CV] END criterion=gini, max_depth=0, max_features=auto, min_samples_leaf=3, min_samples_split=18, n_estimators=200; total time=   0.1s\n",
      "[CV] END criterion=gini, max_depth=0, max_features=auto, min_samples_leaf=3, min_samples_split=18, n_estimators=300; total time=   0.2s\n",
      "[CV] END criterion=gini, max_depth=0, max_features=auto, min_samples_leaf=3, min_samples_split=18, n_estimators=300; total time=   0.1s\n",
      "[CV] END criterion=gini, max_depth=0, max_features=auto, min_samples_leaf=3, min_samples_split=18, n_estimators=300; total time=   0.2s\n",
      "[CV] END criterion=gini, max_depth=0, max_features=auto, min_samples_leaf=3, min_samples_split=18, n_estimators=300; total time=   0.2s\n",
      "[CV] END criterion=gini, max_depth=0, max_features=auto, min_samples_leaf=3, min_samples_split=18, n_estimators=300; total time=   0.1s\n",
      "[CV] END criterion=gini, max_depth=0, max_features=auto, min_samples_leaf=3, min_samples_split=18, n_estimators=400; total time=   0.3s\n",
      "[CV] END criterion=gini, max_depth=0, max_features=auto, min_samples_leaf=3, min_samples_split=18, n_estimators=400; total time=   0.2s\n",
      "[CV] END criterion=gini, max_depth=0, max_features=auto, min_samples_leaf=3, min_samples_split=18, n_estimators=400; total time=   0.2s\n",
      "[CV] END criterion=gini, max_depth=0, max_features=auto, min_samples_leaf=3, min_samples_split=18, n_estimators=400; total time=   0.2s\n",
      "[CV] END criterion=gini, max_depth=0, max_features=auto, min_samples_leaf=3, min_samples_split=18, n_estimators=400; total time=   0.2s\n",
      "[CV] END criterion=gini, max_depth=0, max_features=auto, min_samples_leaf=4, min_samples_split=2, n_estimators=100; total time=   0.0s\n",
      "[CV] END criterion=gini, max_depth=0, max_features=auto, min_samples_leaf=4, min_samples_split=2, n_estimators=100; total time=   0.0s\n",
      "[CV] END criterion=gini, max_depth=0, max_features=auto, min_samples_leaf=4, min_samples_split=2, n_estimators=100; total time=   0.0s\n",
      "[CV] END criterion=gini, max_depth=0, max_features=auto, min_samples_leaf=4, min_samples_split=2, n_estimators=100; total time=   0.0s\n",
      "[CV] END criterion=gini, max_depth=0, max_features=auto, min_samples_leaf=4, min_samples_split=2, n_estimators=100; total time=   0.0s\n",
      "[CV] END criterion=gini, max_depth=0, max_features=auto, min_samples_leaf=4, min_samples_split=2, n_estimators=200; total time=   0.1s\n",
      "[CV] END criterion=gini, max_depth=0, max_features=auto, min_samples_leaf=4, min_samples_split=2, n_estimators=200; total time=   0.1s\n",
      "[CV] END criterion=gini, max_depth=0, max_features=auto, min_samples_leaf=4, min_samples_split=2, n_estimators=200; total time=   0.0s\n",
      "[CV] END criterion=gini, max_depth=0, max_features=auto, min_samples_leaf=4, min_samples_split=2, n_estimators=200; total time=   0.1s\n",
      "[CV] END criterion=gini, max_depth=0, max_features=auto, min_samples_leaf=4, min_samples_split=2, n_estimators=200; total time=   0.1s\n",
      "[CV] END criterion=gini, max_depth=0, max_features=auto, min_samples_leaf=4, min_samples_split=2, n_estimators=300; total time=   0.1s\n",
      "[CV] END criterion=gini, max_depth=0, max_features=auto, min_samples_leaf=4, min_samples_split=2, n_estimators=300; total time=   0.1s\n",
      "[CV] END criterion=gini, max_depth=0, max_features=auto, min_samples_leaf=4, min_samples_split=2, n_estimators=300; total time=   0.1s\n",
      "[CV] END criterion=gini, max_depth=0, max_features=auto, min_samples_leaf=4, min_samples_split=2, n_estimators=300; total time=   0.1s\n",
      "[CV] END criterion=gini, max_depth=0, max_features=auto, min_samples_leaf=4, min_samples_split=2, n_estimators=300; total time=   0.1s\n",
      "[CV] END criterion=gini, max_depth=0, max_features=auto, min_samples_leaf=4, min_samples_split=2, n_estimators=400; total time=   0.2s\n",
      "[CV] END criterion=gini, max_depth=0, max_features=auto, min_samples_leaf=4, min_samples_split=2, n_estimators=400; total time=   0.2s\n",
      "[CV] END criterion=gini, max_depth=0, max_features=auto, min_samples_leaf=4, min_samples_split=2, n_estimators=400; total time=   0.2s\n",
      "[CV] END criterion=gini, max_depth=0, max_features=auto, min_samples_leaf=4, min_samples_split=2, n_estimators=400; total time=   0.2s\n",
      "[CV] END criterion=gini, max_depth=0, max_features=auto, min_samples_leaf=4, min_samples_split=2, n_estimators=400; total time=   0.2s\n",
      "[CV] END criterion=gini, max_depth=0, max_features=auto, min_samples_leaf=4, min_samples_split=6, n_estimators=100; total time=   0.0s\n",
      "[CV] END criterion=gini, max_depth=0, max_features=auto, min_samples_leaf=4, min_samples_split=6, n_estimators=100; total time=   0.0s\n",
      "[CV] END criterion=gini, max_depth=0, max_features=auto, min_samples_leaf=4, min_samples_split=6, n_estimators=100; total time=   0.0s\n",
      "[CV] END criterion=gini, max_depth=0, max_features=auto, min_samples_leaf=4, min_samples_split=6, n_estimators=100; total time=   0.0s\n",
      "[CV] END criterion=gini, max_depth=0, max_features=auto, min_samples_leaf=4, min_samples_split=6, n_estimators=100; total time=   0.0s\n",
      "[CV] END criterion=gini, max_depth=0, max_features=auto, min_samples_leaf=4, min_samples_split=6, n_estimators=200; total time=   0.1s\n",
      "[CV] END criterion=gini, max_depth=0, max_features=auto, min_samples_leaf=4, min_samples_split=6, n_estimators=200; total time=   0.2s\n",
      "[CV] END criterion=gini, max_depth=0, max_features=auto, min_samples_leaf=4, min_samples_split=6, n_estimators=200; total time=   0.2s\n",
      "[CV] END criterion=gini, max_depth=0, max_features=auto, min_samples_leaf=4, min_samples_split=6, n_estimators=200; total time=   0.2s\n",
      "[CV] END criterion=gini, max_depth=0, max_features=auto, min_samples_leaf=4, min_samples_split=6, n_estimators=200; total time=   0.1s\n",
      "[CV] END criterion=gini, max_depth=0, max_features=auto, min_samples_leaf=4, min_samples_split=6, n_estimators=300; total time=   0.2s\n",
      "[CV] END criterion=gini, max_depth=0, max_features=auto, min_samples_leaf=4, min_samples_split=6, n_estimators=300; total time=   0.1s\n",
      "[CV] END criterion=gini, max_depth=0, max_features=auto, min_samples_leaf=4, min_samples_split=6, n_estimators=300; total time=   0.1s\n",
      "[CV] END criterion=gini, max_depth=0, max_features=auto, min_samples_leaf=4, min_samples_split=6, n_estimators=300; total time=   0.1s\n",
      "[CV] END criterion=gini, max_depth=0, max_features=auto, min_samples_leaf=4, min_samples_split=6, n_estimators=300; total time=   0.2s\n",
      "[CV] END criterion=gini, max_depth=0, max_features=auto, min_samples_leaf=4, min_samples_split=6, n_estimators=400; total time=   0.2s\n",
      "[CV] END criterion=gini, max_depth=0, max_features=auto, min_samples_leaf=4, min_samples_split=6, n_estimators=400; total time=   0.3s\n",
      "[CV] END criterion=gini, max_depth=0, max_features=auto, min_samples_leaf=4, min_samples_split=6, n_estimators=400; total time=   0.2s\n",
      "[CV] END criterion=gini, max_depth=0, max_features=auto, min_samples_leaf=4, min_samples_split=6, n_estimators=400; total time=   0.2s\n",
      "[CV] END criterion=gini, max_depth=0, max_features=auto, min_samples_leaf=4, min_samples_split=6, n_estimators=400; total time=   0.2s\n",
      "[CV] END criterion=gini, max_depth=0, max_features=auto, min_samples_leaf=4, min_samples_split=10, n_estimators=100; total time=   0.0s\n",
      "[CV] END criterion=gini, max_depth=0, max_features=auto, min_samples_leaf=4, min_samples_split=10, n_estimators=100; total time=   0.0s\n",
      "[CV] END criterion=gini, max_depth=0, max_features=auto, min_samples_leaf=4, min_samples_split=10, n_estimators=100; total time=   0.0s\n",
      "[CV] END criterion=gini, max_depth=0, max_features=auto, min_samples_leaf=4, min_samples_split=10, n_estimators=100; total time=   0.0s\n",
      "[CV] END criterion=gini, max_depth=0, max_features=auto, min_samples_leaf=4, min_samples_split=10, n_estimators=100; total time=   0.0s\n",
      "[CV] END criterion=gini, max_depth=0, max_features=auto, min_samples_leaf=4, min_samples_split=10, n_estimators=200; total time=   0.1s\n",
      "[CV] END criterion=gini, max_depth=0, max_features=auto, min_samples_leaf=4, min_samples_split=10, n_estimators=200; total time=   0.0s\n",
      "[CV] END criterion=gini, max_depth=0, max_features=auto, min_samples_leaf=4, min_samples_split=10, n_estimators=200; total time=   0.0s\n",
      "[CV] END criterion=gini, max_depth=0, max_features=auto, min_samples_leaf=4, min_samples_split=10, n_estimators=200; total time=   0.1s\n",
      "[CV] END criterion=gini, max_depth=0, max_features=auto, min_samples_leaf=4, min_samples_split=10, n_estimators=200; total time=   0.0s\n",
      "[CV] END criterion=gini, max_depth=0, max_features=auto, min_samples_leaf=4, min_samples_split=10, n_estimators=300; total time=   0.1s\n",
      "[CV] END criterion=gini, max_depth=0, max_features=auto, min_samples_leaf=4, min_samples_split=10, n_estimators=300; total time=   0.1s\n",
      "[CV] END criterion=gini, max_depth=0, max_features=auto, min_samples_leaf=4, min_samples_split=10, n_estimators=300; total time=   0.1s\n",
      "[CV] END criterion=gini, max_depth=0, max_features=auto, min_samples_leaf=4, min_samples_split=10, n_estimators=300; total time=   0.1s\n",
      "[CV] END criterion=gini, max_depth=0, max_features=auto, min_samples_leaf=4, min_samples_split=10, n_estimators=300; total time=   0.1s\n",
      "[CV] END criterion=gini, max_depth=0, max_features=auto, min_samples_leaf=4, min_samples_split=10, n_estimators=400; total time=   0.2s\n",
      "[CV] END criterion=gini, max_depth=0, max_features=auto, min_samples_leaf=4, min_samples_split=10, n_estimators=400; total time=   0.2s\n",
      "[CV] END criterion=gini, max_depth=0, max_features=auto, min_samples_leaf=4, min_samples_split=10, n_estimators=400; total time=   0.3s\n",
      "[CV] END criterion=gini, max_depth=0, max_features=auto, min_samples_leaf=4, min_samples_split=10, n_estimators=400; total time=   0.3s\n",
      "[CV] END criterion=gini, max_depth=0, max_features=auto, min_samples_leaf=4, min_samples_split=10, n_estimators=400; total time=   0.4s\n",
      "[CV] END criterion=gini, max_depth=0, max_features=auto, min_samples_leaf=4, min_samples_split=14, n_estimators=100; total time=   0.1s\n",
      "[CV] END criterion=gini, max_depth=0, max_features=auto, min_samples_leaf=4, min_samples_split=14, n_estimators=100; total time=   0.1s\n",
      "[CV] END criterion=gini, max_depth=0, max_features=auto, min_samples_leaf=4, min_samples_split=14, n_estimators=100; total time=   0.0s\n",
      "[CV] END criterion=gini, max_depth=0, max_features=auto, min_samples_leaf=4, min_samples_split=14, n_estimators=100; total time=   0.0s\n",
      "[CV] END criterion=gini, max_depth=0, max_features=auto, min_samples_leaf=4, min_samples_split=14, n_estimators=100; total time=   0.1s\n",
      "[CV] END criterion=gini, max_depth=0, max_features=auto, min_samples_leaf=4, min_samples_split=14, n_estimators=200; total time=   0.1s\n",
      "[CV] END criterion=gini, max_depth=0, max_features=auto, min_samples_leaf=4, min_samples_split=14, n_estimators=200; total time=   0.2s\n",
      "[CV] END criterion=gini, max_depth=0, max_features=auto, min_samples_leaf=4, min_samples_split=14, n_estimators=200; total time=   0.2s\n",
      "[CV] END criterion=gini, max_depth=0, max_features=auto, min_samples_leaf=4, min_samples_split=14, n_estimators=200; total time=   0.2s\n",
      "[CV] END criterion=gini, max_depth=0, max_features=auto, min_samples_leaf=4, min_samples_split=14, n_estimators=200; total time=   0.1s\n",
      "[CV] END criterion=gini, max_depth=0, max_features=auto, min_samples_leaf=4, min_samples_split=14, n_estimators=300; total time=   0.1s\n",
      "[CV] END criterion=gini, max_depth=0, max_features=auto, min_samples_leaf=4, min_samples_split=14, n_estimators=300; total time=   0.2s\n",
      "[CV] END criterion=gini, max_depth=0, max_features=auto, min_samples_leaf=4, min_samples_split=14, n_estimators=300; total time=   0.3s\n",
      "[CV] END criterion=gini, max_depth=0, max_features=auto, min_samples_leaf=4, min_samples_split=14, n_estimators=300; total time=   0.4s\n",
      "[CV] END criterion=gini, max_depth=0, max_features=auto, min_samples_leaf=4, min_samples_split=14, n_estimators=300; total time=   0.2s\n",
      "[CV] END criterion=gini, max_depth=0, max_features=auto, min_samples_leaf=4, min_samples_split=14, n_estimators=400; total time=   0.4s\n",
      "[CV] END criterion=gini, max_depth=0, max_features=auto, min_samples_leaf=4, min_samples_split=14, n_estimators=400; total time=   0.2s\n",
      "[CV] END criterion=gini, max_depth=0, max_features=auto, min_samples_leaf=4, min_samples_split=14, n_estimators=400; total time=   0.2s\n",
      "[CV] END criterion=gini, max_depth=0, max_features=auto, min_samples_leaf=4, min_samples_split=14, n_estimators=400; total time=   0.3s\n",
      "[CV] END criterion=gini, max_depth=0, max_features=auto, min_samples_leaf=4, min_samples_split=14, n_estimators=400; total time=   0.2s\n",
      "[CV] END criterion=gini, max_depth=0, max_features=auto, min_samples_leaf=4, min_samples_split=18, n_estimators=100; total time=   0.0s\n",
      "[CV] END criterion=gini, max_depth=0, max_features=auto, min_samples_leaf=4, min_samples_split=18, n_estimators=100; total time=   0.0s\n",
      "[CV] END criterion=gini, max_depth=0, max_features=auto, min_samples_leaf=4, min_samples_split=18, n_estimators=100; total time=   0.0s\n",
      "[CV] END criterion=gini, max_depth=0, max_features=auto, min_samples_leaf=4, min_samples_split=18, n_estimators=100; total time=   0.0s\n",
      "[CV] END criterion=gini, max_depth=0, max_features=auto, min_samples_leaf=4, min_samples_split=18, n_estimators=100; total time=   0.1s\n",
      "[CV] END criterion=gini, max_depth=0, max_features=auto, min_samples_leaf=4, min_samples_split=18, n_estimators=200; total time=   0.2s\n",
      "[CV] END criterion=gini, max_depth=0, max_features=auto, min_samples_leaf=4, min_samples_split=18, n_estimators=200; total time=   0.2s\n",
      "[CV] END criterion=gini, max_depth=0, max_features=auto, min_samples_leaf=4, min_samples_split=18, n_estimators=200; total time=   0.2s\n",
      "[CV] END criterion=gini, max_depth=0, max_features=auto, min_samples_leaf=4, min_samples_split=18, n_estimators=200; total time=   0.1s\n",
      "[CV] END criterion=gini, max_depth=0, max_features=auto, min_samples_leaf=4, min_samples_split=18, n_estimators=200; total time=   0.1s\n",
      "[CV] END criterion=gini, max_depth=0, max_features=auto, min_samples_leaf=4, min_samples_split=18, n_estimators=300; total time=   0.2s\n",
      "[CV] END criterion=gini, max_depth=0, max_features=auto, min_samples_leaf=4, min_samples_split=18, n_estimators=300; total time=   0.3s\n",
      "[CV] END criterion=gini, max_depth=0, max_features=auto, min_samples_leaf=4, min_samples_split=18, n_estimators=300; total time=   0.2s\n",
      "[CV] END criterion=gini, max_depth=0, max_features=auto, min_samples_leaf=4, min_samples_split=18, n_estimators=300; total time=   0.2s\n",
      "[CV] END criterion=gini, max_depth=0, max_features=auto, min_samples_leaf=4, min_samples_split=18, n_estimators=300; total time=   0.2s\n",
      "[CV] END criterion=gini, max_depth=0, max_features=auto, min_samples_leaf=4, min_samples_split=18, n_estimators=400; total time=   0.3s\n",
      "[CV] END criterion=gini, max_depth=0, max_features=auto, min_samples_leaf=4, min_samples_split=18, n_estimators=400; total time=   0.3s\n",
      "[CV] END criterion=gini, max_depth=0, max_features=auto, min_samples_leaf=4, min_samples_split=18, n_estimators=400; total time=   0.3s\n",
      "[CV] END criterion=gini, max_depth=0, max_features=auto, min_samples_leaf=4, min_samples_split=18, n_estimators=400; total time=   0.3s\n",
      "[CV] END criterion=gini, max_depth=0, max_features=auto, min_samples_leaf=4, min_samples_split=18, n_estimators=400; total time=   0.3s\n",
      "[CV] END criterion=gini, max_depth=5, max_features=auto, min_samples_leaf=1, min_samples_split=2, n_estimators=100; total time=   0.8s\n",
      "[CV] END criterion=gini, max_depth=5, max_features=auto, min_samples_leaf=1, min_samples_split=2, n_estimators=100; total time=   0.8s\n",
      "[CV] END criterion=gini, max_depth=5, max_features=auto, min_samples_leaf=1, min_samples_split=2, n_estimators=100; total time=   0.8s\n",
      "[CV] END criterion=gini, max_depth=5, max_features=auto, min_samples_leaf=1, min_samples_split=2, n_estimators=100; total time=   0.8s\n",
      "[CV] END criterion=gini, max_depth=5, max_features=auto, min_samples_leaf=1, min_samples_split=2, n_estimators=100; total time=   1.0s\n",
      "[CV] END criterion=gini, max_depth=5, max_features=auto, min_samples_leaf=1, min_samples_split=2, n_estimators=200; total time=   1.7s\n",
      "[CV] END criterion=gini, max_depth=5, max_features=auto, min_samples_leaf=1, min_samples_split=2, n_estimators=200; total time=   1.6s\n",
      "[CV] END criterion=gini, max_depth=5, max_features=auto, min_samples_leaf=1, min_samples_split=2, n_estimators=200; total time=   1.6s\n",
      "[CV] END criterion=gini, max_depth=5, max_features=auto, min_samples_leaf=1, min_samples_split=2, n_estimators=200; total time=   1.6s\n",
      "[CV] END criterion=gini, max_depth=5, max_features=auto, min_samples_leaf=1, min_samples_split=2, n_estimators=200; total time=   1.5s\n",
      "[CV] END criterion=gini, max_depth=5, max_features=auto, min_samples_leaf=1, min_samples_split=2, n_estimators=300; total time=   2.8s\n",
      "[CV] END criterion=gini, max_depth=5, max_features=auto, min_samples_leaf=1, min_samples_split=2, n_estimators=300; total time=   3.0s\n",
      "[CV] END criterion=gini, max_depth=5, max_features=auto, min_samples_leaf=1, min_samples_split=2, n_estimators=300; total time=   2.8s\n",
      "[CV] END criterion=gini, max_depth=5, max_features=auto, min_samples_leaf=1, min_samples_split=2, n_estimators=300; total time=   2.4s\n",
      "[CV] END criterion=gini, max_depth=5, max_features=auto, min_samples_leaf=1, min_samples_split=2, n_estimators=300; total time=   2.4s\n",
      "[CV] END criterion=gini, max_depth=5, max_features=auto, min_samples_leaf=1, min_samples_split=2, n_estimators=400; total time=   3.5s\n",
      "[CV] END criterion=gini, max_depth=5, max_features=auto, min_samples_leaf=1, min_samples_split=2, n_estimators=400; total time=   3.4s\n",
      "[CV] END criterion=gini, max_depth=5, max_features=auto, min_samples_leaf=1, min_samples_split=2, n_estimators=400; total time=   3.6s\n",
      "[CV] END criterion=gini, max_depth=5, max_features=auto, min_samples_leaf=1, min_samples_split=2, n_estimators=400; total time=   3.3s\n",
      "[CV] END criterion=gini, max_depth=5, max_features=auto, min_samples_leaf=1, min_samples_split=2, n_estimators=400; total time=   2.8s\n",
      "[CV] END criterion=gini, max_depth=5, max_features=auto, min_samples_leaf=1, min_samples_split=6, n_estimators=100; total time=   0.6s\n",
      "[CV] END criterion=gini, max_depth=5, max_features=auto, min_samples_leaf=1, min_samples_split=6, n_estimators=100; total time=   0.6s\n",
      "[CV] END criterion=gini, max_depth=5, max_features=auto, min_samples_leaf=1, min_samples_split=6, n_estimators=100; total time=   0.7s\n",
      "[CV] END criterion=gini, max_depth=5, max_features=auto, min_samples_leaf=1, min_samples_split=6, n_estimators=100; total time=   0.7s\n",
      "[CV] END criterion=gini, max_depth=5, max_features=auto, min_samples_leaf=1, min_samples_split=6, n_estimators=100; total time=   0.8s\n",
      "[CV] END criterion=gini, max_depth=5, max_features=auto, min_samples_leaf=1, min_samples_split=6, n_estimators=200; total time=   1.8s\n",
      "[CV] END criterion=gini, max_depth=5, max_features=auto, min_samples_leaf=1, min_samples_split=6, n_estimators=200; total time=   1.3s\n",
      "[CV] END criterion=gini, max_depth=5, max_features=auto, min_samples_leaf=1, min_samples_split=6, n_estimators=200; total time=   1.6s\n",
      "[CV] END criterion=gini, max_depth=5, max_features=auto, min_samples_leaf=1, min_samples_split=6, n_estimators=200; total time=   1.5s\n",
      "[CV] END criterion=gini, max_depth=5, max_features=auto, min_samples_leaf=1, min_samples_split=6, n_estimators=200; total time=   1.3s\n",
      "[CV] END criterion=gini, max_depth=5, max_features=auto, min_samples_leaf=1, min_samples_split=6, n_estimators=300; total time=   2.1s\n",
      "[CV] END criterion=gini, max_depth=5, max_features=auto, min_samples_leaf=1, min_samples_split=6, n_estimators=300; total time=   2.0s\n",
      "[CV] END criterion=gini, max_depth=5, max_features=auto, min_samples_leaf=1, min_samples_split=6, n_estimators=300; total time=   1.4s\n",
      "[CV] END criterion=gini, max_depth=5, max_features=auto, min_samples_leaf=1, min_samples_split=6, n_estimators=300; total time=   1.3s\n",
      "[CV] END criterion=gini, max_depth=5, max_features=auto, min_samples_leaf=1, min_samples_split=6, n_estimators=300; total time=   1.3s\n",
      "[CV] END criterion=gini, max_depth=5, max_features=auto, min_samples_leaf=1, min_samples_split=6, n_estimators=400; total time=   1.9s\n",
      "[CV] END criterion=gini, max_depth=5, max_features=auto, min_samples_leaf=1, min_samples_split=6, n_estimators=400; total time=   2.2s\n",
      "[CV] END criterion=gini, max_depth=5, max_features=auto, min_samples_leaf=1, min_samples_split=6, n_estimators=400; total time=   1.9s\n",
      "[CV] END criterion=gini, max_depth=5, max_features=auto, min_samples_leaf=1, min_samples_split=6, n_estimators=400; total time=   1.9s\n",
      "[CV] END criterion=gini, max_depth=5, max_features=auto, min_samples_leaf=1, min_samples_split=6, n_estimators=400; total time=   1.7s\n",
      "[CV] END criterion=gini, max_depth=5, max_features=auto, min_samples_leaf=1, min_samples_split=10, n_estimators=100; total time=   0.4s\n",
      "[CV] END criterion=gini, max_depth=5, max_features=auto, min_samples_leaf=1, min_samples_split=10, n_estimators=100; total time=   0.4s\n",
      "[CV] END criterion=gini, max_depth=5, max_features=auto, min_samples_leaf=1, min_samples_split=10, n_estimators=100; total time=   0.3s\n",
      "[CV] END criterion=gini, max_depth=5, max_features=auto, min_samples_leaf=1, min_samples_split=10, n_estimators=100; total time=   0.3s\n",
      "[CV] END criterion=gini, max_depth=5, max_features=auto, min_samples_leaf=1, min_samples_split=10, n_estimators=100; total time=   0.4s\n",
      "[CV] END criterion=gini, max_depth=5, max_features=auto, min_samples_leaf=1, min_samples_split=10, n_estimators=200; total time=   1.2s\n",
      "[CV] END criterion=gini, max_depth=5, max_features=auto, min_samples_leaf=1, min_samples_split=10, n_estimators=200; total time=   1.3s\n",
      "[CV] END criterion=gini, max_depth=5, max_features=auto, min_samples_leaf=1, min_samples_split=10, n_estimators=200; total time=   1.5s\n",
      "[CV] END criterion=gini, max_depth=5, max_features=auto, min_samples_leaf=1, min_samples_split=10, n_estimators=200; total time=   1.5s\n",
      "[CV] END criterion=gini, max_depth=5, max_features=auto, min_samples_leaf=1, min_samples_split=10, n_estimators=200; total time=   2.4s\n",
      "[CV] END criterion=gini, max_depth=5, max_features=auto, min_samples_leaf=1, min_samples_split=10, n_estimators=300; total time=   3.6s\n",
      "[CV] END criterion=gini, max_depth=5, max_features=auto, min_samples_leaf=1, min_samples_split=10, n_estimators=300; total time=   3.6s\n",
      "[CV] END criterion=gini, max_depth=5, max_features=auto, min_samples_leaf=1, min_samples_split=10, n_estimators=300; total time=   4.0s\n",
      "[CV] END criterion=gini, max_depth=5, max_features=auto, min_samples_leaf=1, min_samples_split=10, n_estimators=300; total time=   3.5s\n",
      "[CV] END criterion=gini, max_depth=5, max_features=auto, min_samples_leaf=1, min_samples_split=10, n_estimators=300; total time=   3.0s\n",
      "[CV] END criterion=gini, max_depth=5, max_features=auto, min_samples_leaf=1, min_samples_split=10, n_estimators=400; total time=   3.6s\n",
      "[CV] END criterion=gini, max_depth=5, max_features=auto, min_samples_leaf=1, min_samples_split=10, n_estimators=400; total time=   4.0s\n",
      "[CV] END criterion=gini, max_depth=5, max_features=auto, min_samples_leaf=1, min_samples_split=10, n_estimators=400; total time=   3.9s\n",
      "[CV] END criterion=gini, max_depth=5, max_features=auto, min_samples_leaf=1, min_samples_split=10, n_estimators=400; total time=   3.8s\n",
      "[CV] END criterion=gini, max_depth=5, max_features=auto, min_samples_leaf=1, min_samples_split=10, n_estimators=400; total time=   3.3s\n",
      "[CV] END criterion=gini, max_depth=5, max_features=auto, min_samples_leaf=1, min_samples_split=14, n_estimators=100; total time=   1.1s\n",
      "[CV] END criterion=gini, max_depth=5, max_features=auto, min_samples_leaf=1, min_samples_split=14, n_estimators=100; total time=   1.0s\n",
      "[CV] END criterion=gini, max_depth=5, max_features=auto, min_samples_leaf=1, min_samples_split=14, n_estimators=100; total time=   0.9s\n",
      "[CV] END criterion=gini, max_depth=5, max_features=auto, min_samples_leaf=1, min_samples_split=14, n_estimators=100; total time=   0.7s\n",
      "[CV] END criterion=gini, max_depth=5, max_features=auto, min_samples_leaf=1, min_samples_split=14, n_estimators=100; total time=   0.8s\n",
      "[CV] END criterion=gini, max_depth=5, max_features=auto, min_samples_leaf=1, min_samples_split=14, n_estimators=200; total time=   1.9s\n",
      "[CV] END criterion=gini, max_depth=5, max_features=auto, min_samples_leaf=1, min_samples_split=14, n_estimators=200; total time=   2.3s\n",
      "[CV] END criterion=gini, max_depth=5, max_features=auto, min_samples_leaf=1, min_samples_split=14, n_estimators=200; total time=   2.2s\n",
      "[CV] END criterion=gini, max_depth=5, max_features=auto, min_samples_leaf=1, min_samples_split=14, n_estimators=200; total time=   1.7s\n",
      "[CV] END criterion=gini, max_depth=5, max_features=auto, min_samples_leaf=1, min_samples_split=14, n_estimators=200; total time=   1.7s\n",
      "[CV] END criterion=gini, max_depth=5, max_features=auto, min_samples_leaf=1, min_samples_split=14, n_estimators=300; total time=   2.5s\n",
      "[CV] END criterion=gini, max_depth=5, max_features=auto, min_samples_leaf=1, min_samples_split=14, n_estimators=300; total time=   2.6s\n",
      "[CV] END criterion=gini, max_depth=5, max_features=auto, min_samples_leaf=1, min_samples_split=14, n_estimators=300; total time=   2.5s\n",
      "[CV] END criterion=gini, max_depth=5, max_features=auto, min_samples_leaf=1, min_samples_split=14, n_estimators=300; total time=   2.6s\n",
      "[CV] END criterion=gini, max_depth=5, max_features=auto, min_samples_leaf=1, min_samples_split=14, n_estimators=300; total time=   2.3s\n",
      "[CV] END criterion=gini, max_depth=5, max_features=auto, min_samples_leaf=1, min_samples_split=14, n_estimators=400; total time=   2.9s\n",
      "[CV] END criterion=gini, max_depth=5, max_features=auto, min_samples_leaf=1, min_samples_split=14, n_estimators=400; total time=   3.7s\n",
      "[CV] END criterion=gini, max_depth=5, max_features=auto, min_samples_leaf=1, min_samples_split=14, n_estimators=400; total time=   3.3s\n",
      "[CV] END criterion=gini, max_depth=5, max_features=auto, min_samples_leaf=1, min_samples_split=14, n_estimators=400; total time=   2.9s\n",
      "[CV] END criterion=gini, max_depth=5, max_features=auto, min_samples_leaf=1, min_samples_split=14, n_estimators=400; total time=   3.0s\n",
      "[CV] END criterion=gini, max_depth=5, max_features=auto, min_samples_leaf=1, min_samples_split=18, n_estimators=100; total time=   0.7s\n",
      "[CV] END criterion=gini, max_depth=5, max_features=auto, min_samples_leaf=1, min_samples_split=18, n_estimators=100; total time=   0.7s\n",
      "[CV] END criterion=gini, max_depth=5, max_features=auto, min_samples_leaf=1, min_samples_split=18, n_estimators=100; total time=   0.8s\n",
      "[CV] END criterion=gini, max_depth=5, max_features=auto, min_samples_leaf=1, min_samples_split=18, n_estimators=100; total time=   0.6s\n",
      "[CV] END criterion=gini, max_depth=5, max_features=auto, min_samples_leaf=1, min_samples_split=18, n_estimators=100; total time=   0.6s\n",
      "[CV] END criterion=gini, max_depth=5, max_features=auto, min_samples_leaf=1, min_samples_split=18, n_estimators=200; total time=   1.3s\n",
      "[CV] END criterion=gini, max_depth=5, max_features=auto, min_samples_leaf=1, min_samples_split=18, n_estimators=200; total time=   1.4s\n",
      "[CV] END criterion=gini, max_depth=5, max_features=auto, min_samples_leaf=1, min_samples_split=18, n_estimators=200; total time=   1.7s\n",
      "[CV] END criterion=gini, max_depth=5, max_features=auto, min_samples_leaf=1, min_samples_split=18, n_estimators=200; total time=   1.6s\n",
      "[CV] END criterion=gini, max_depth=5, max_features=auto, min_samples_leaf=1, min_samples_split=18, n_estimators=200; total time=   1.4s\n",
      "[CV] END criterion=gini, max_depth=5, max_features=auto, min_samples_leaf=1, min_samples_split=18, n_estimators=300; total time=   2.5s\n",
      "[CV] END criterion=gini, max_depth=5, max_features=auto, min_samples_leaf=1, min_samples_split=18, n_estimators=300; total time=   2.2s\n",
      "[CV] END criterion=gini, max_depth=5, max_features=auto, min_samples_leaf=1, min_samples_split=18, n_estimators=300; total time=   3.0s\n",
      "[CV] END criterion=gini, max_depth=5, max_features=auto, min_samples_leaf=1, min_samples_split=18, n_estimators=300; total time=   2.5s\n",
      "[CV] END criterion=gini, max_depth=5, max_features=auto, min_samples_leaf=1, min_samples_split=18, n_estimators=300; total time=   2.6s\n",
      "[CV] END criterion=gini, max_depth=5, max_features=auto, min_samples_leaf=1, min_samples_split=18, n_estimators=400; total time=   3.2s\n",
      "[CV] END criterion=gini, max_depth=5, max_features=auto, min_samples_leaf=1, min_samples_split=18, n_estimators=400; total time=   3.7s\n",
      "[CV] END criterion=gini, max_depth=5, max_features=auto, min_samples_leaf=1, min_samples_split=18, n_estimators=400; total time=   3.5s\n",
      "[CV] END criterion=gini, max_depth=5, max_features=auto, min_samples_leaf=1, min_samples_split=18, n_estimators=400; total time=   3.4s\n",
      "[CV] END criterion=gini, max_depth=5, max_features=auto, min_samples_leaf=1, min_samples_split=18, n_estimators=400; total time=   3.4s\n",
      "[CV] END criterion=gini, max_depth=5, max_features=auto, min_samples_leaf=2, min_samples_split=2, n_estimators=100; total time=   0.8s\n",
      "[CV] END criterion=gini, max_depth=5, max_features=auto, min_samples_leaf=2, min_samples_split=2, n_estimators=100; total time=   0.9s\n",
      "[CV] END criterion=gini, max_depth=5, max_features=auto, min_samples_leaf=2, min_samples_split=2, n_estimators=100; total time=   1.0s\n",
      "[CV] END criterion=gini, max_depth=5, max_features=auto, min_samples_leaf=2, min_samples_split=2, n_estimators=100; total time=   1.0s\n",
      "[CV] END criterion=gini, max_depth=5, max_features=auto, min_samples_leaf=2, min_samples_split=2, n_estimators=100; total time=   0.8s\n",
      "[CV] END criterion=gini, max_depth=5, max_features=auto, min_samples_leaf=2, min_samples_split=2, n_estimators=200; total time=   1.7s\n",
      "[CV] END criterion=gini, max_depth=5, max_features=auto, min_samples_leaf=2, min_samples_split=2, n_estimators=200; total time=   1.7s\n",
      "[CV] END criterion=gini, max_depth=5, max_features=auto, min_samples_leaf=2, min_samples_split=2, n_estimators=200; total time=   1.6s\n",
      "[CV] END criterion=gini, max_depth=5, max_features=auto, min_samples_leaf=2, min_samples_split=2, n_estimators=200; total time=   1.7s\n",
      "[CV] END criterion=gini, max_depth=5, max_features=auto, min_samples_leaf=2, min_samples_split=2, n_estimators=200; total time=   1.9s\n",
      "[CV] END criterion=gini, max_depth=5, max_features=auto, min_samples_leaf=2, min_samples_split=2, n_estimators=300; total time=   2.6s\n",
      "[CV] END criterion=gini, max_depth=5, max_features=auto, min_samples_leaf=2, min_samples_split=2, n_estimators=300; total time=   2.9s\n",
      "[CV] END criterion=gini, max_depth=5, max_features=auto, min_samples_leaf=2, min_samples_split=2, n_estimators=300; total time=   2.5s\n",
      "[CV] END criterion=gini, max_depth=5, max_features=auto, min_samples_leaf=2, min_samples_split=2, n_estimators=300; total time=   2.7s\n",
      "[CV] END criterion=gini, max_depth=5, max_features=auto, min_samples_leaf=2, min_samples_split=2, n_estimators=300; total time=   2.8s\n",
      "[CV] END criterion=gini, max_depth=5, max_features=auto, min_samples_leaf=2, min_samples_split=2, n_estimators=400; total time=   3.5s\n",
      "[CV] END criterion=gini, max_depth=5, max_features=auto, min_samples_leaf=2, min_samples_split=2, n_estimators=400; total time=   3.2s\n",
      "[CV] END criterion=gini, max_depth=5, max_features=auto, min_samples_leaf=2, min_samples_split=2, n_estimators=400; total time=   3.3s\n",
      "[CV] END criterion=gini, max_depth=5, max_features=auto, min_samples_leaf=2, min_samples_split=2, n_estimators=400; total time=   3.8s\n",
      "[CV] END criterion=gini, max_depth=5, max_features=auto, min_samples_leaf=2, min_samples_split=2, n_estimators=400; total time=   2.8s\n",
      "[CV] END criterion=gini, max_depth=5, max_features=auto, min_samples_leaf=2, min_samples_split=6, n_estimators=100; total time=   0.6s\n",
      "[CV] END criterion=gini, max_depth=5, max_features=auto, min_samples_leaf=2, min_samples_split=6, n_estimators=100; total time=   0.6s\n",
      "[CV] END criterion=gini, max_depth=5, max_features=auto, min_samples_leaf=2, min_samples_split=6, n_estimators=100; total time=   0.6s\n",
      "[CV] END criterion=gini, max_depth=5, max_features=auto, min_samples_leaf=2, min_samples_split=6, n_estimators=100; total time=   0.6s\n",
      "[CV] END criterion=gini, max_depth=5, max_features=auto, min_samples_leaf=2, min_samples_split=6, n_estimators=100; total time=   0.6s\n",
      "[CV] END criterion=gini, max_depth=5, max_features=auto, min_samples_leaf=2, min_samples_split=6, n_estimators=200; total time=   1.3s\n",
      "[CV] END criterion=gini, max_depth=5, max_features=auto, min_samples_leaf=2, min_samples_split=6, n_estimators=200; total time=   1.4s\n",
      "[CV] END criterion=gini, max_depth=5, max_features=auto, min_samples_leaf=2, min_samples_split=6, n_estimators=200; total time=   1.4s\n",
      "[CV] END criterion=gini, max_depth=5, max_features=auto, min_samples_leaf=2, min_samples_split=6, n_estimators=200; total time=   1.4s\n",
      "[CV] END criterion=gini, max_depth=5, max_features=auto, min_samples_leaf=2, min_samples_split=6, n_estimators=200; total time=   1.4s\n",
      "[CV] END criterion=gini, max_depth=5, max_features=auto, min_samples_leaf=2, min_samples_split=6, n_estimators=300; total time=   2.1s\n",
      "[CV] END criterion=gini, max_depth=5, max_features=auto, min_samples_leaf=2, min_samples_split=6, n_estimators=300; total time=   1.8s\n",
      "[CV] END criterion=gini, max_depth=5, max_features=auto, min_samples_leaf=2, min_samples_split=6, n_estimators=300; total time=   1.4s\n",
      "[CV] END criterion=gini, max_depth=5, max_features=auto, min_samples_leaf=2, min_samples_split=6, n_estimators=300; total time=   1.7s\n",
      "[CV] END criterion=gini, max_depth=5, max_features=auto, min_samples_leaf=2, min_samples_split=6, n_estimators=300; total time=   1.4s\n",
      "[CV] END criterion=gini, max_depth=5, max_features=auto, min_samples_leaf=2, min_samples_split=6, n_estimators=400; total time=   2.1s\n",
      "[CV] END criterion=gini, max_depth=5, max_features=auto, min_samples_leaf=2, min_samples_split=6, n_estimators=400; total time=   1.8s\n",
      "[CV] END criterion=gini, max_depth=5, max_features=auto, min_samples_leaf=2, min_samples_split=6, n_estimators=400; total time=   2.2s\n",
      "[CV] END criterion=gini, max_depth=5, max_features=auto, min_samples_leaf=2, min_samples_split=6, n_estimators=400; total time=   2.9s\n",
      "[CV] END criterion=gini, max_depth=5, max_features=auto, min_samples_leaf=2, min_samples_split=6, n_estimators=400; total time=   2.5s\n",
      "[CV] END criterion=gini, max_depth=5, max_features=auto, min_samples_leaf=2, min_samples_split=10, n_estimators=100; total time=   0.7s\n",
      "[CV] END criterion=gini, max_depth=5, max_features=auto, min_samples_leaf=2, min_samples_split=10, n_estimators=100; total time=   0.7s\n",
      "[CV] END criterion=gini, max_depth=5, max_features=auto, min_samples_leaf=2, min_samples_split=10, n_estimators=100; total time=   0.7s\n",
      "[CV] END criterion=gini, max_depth=5, max_features=auto, min_samples_leaf=2, min_samples_split=10, n_estimators=100; total time=   0.7s\n",
      "[CV] END criterion=gini, max_depth=5, max_features=auto, min_samples_leaf=2, min_samples_split=10, n_estimators=100; total time=   0.7s\n",
      "[CV] END criterion=gini, max_depth=5, max_features=auto, min_samples_leaf=2, min_samples_split=10, n_estimators=200; total time=   1.7s\n",
      "[CV] END criterion=gini, max_depth=5, max_features=auto, min_samples_leaf=2, min_samples_split=10, n_estimators=200; total time=   1.7s\n",
      "[CV] END criterion=gini, max_depth=5, max_features=auto, min_samples_leaf=2, min_samples_split=10, n_estimators=200; total time=   1.6s\n",
      "[CV] END criterion=gini, max_depth=5, max_features=auto, min_samples_leaf=2, min_samples_split=10, n_estimators=200; total time=   1.6s\n",
      "[CV] END criterion=gini, max_depth=5, max_features=auto, min_samples_leaf=2, min_samples_split=10, n_estimators=200; total time=   1.7s\n",
      "[CV] END criterion=gini, max_depth=5, max_features=auto, min_samples_leaf=2, min_samples_split=10, n_estimators=300; total time=   2.6s\n",
      "[CV] END criterion=gini, max_depth=5, max_features=auto, min_samples_leaf=2, min_samples_split=10, n_estimators=300; total time=   2.4s\n",
      "[CV] END criterion=gini, max_depth=5, max_features=auto, min_samples_leaf=2, min_samples_split=10, n_estimators=300; total time=   2.5s\n",
      "[CV] END criterion=gini, max_depth=5, max_features=auto, min_samples_leaf=2, min_samples_split=10, n_estimators=300; total time=   3.0s\n",
      "[CV] END criterion=gini, max_depth=5, max_features=auto, min_samples_leaf=2, min_samples_split=10, n_estimators=300; total time=   2.6s\n",
      "[CV] END criterion=gini, max_depth=5, max_features=auto, min_samples_leaf=2, min_samples_split=10, n_estimators=400; total time=   3.8s\n",
      "[CV] END criterion=gini, max_depth=5, max_features=auto, min_samples_leaf=2, min_samples_split=10, n_estimators=400; total time=   3.5s\n",
      "[CV] END criterion=gini, max_depth=5, max_features=auto, min_samples_leaf=2, min_samples_split=10, n_estimators=400; total time=   3.5s\n",
      "[CV] END criterion=gini, max_depth=5, max_features=auto, min_samples_leaf=2, min_samples_split=10, n_estimators=400; total time=   3.9s\n",
      "[CV] END criterion=gini, max_depth=5, max_features=auto, min_samples_leaf=2, min_samples_split=10, n_estimators=400; total time=   3.7s\n",
      "[CV] END criterion=gini, max_depth=5, max_features=auto, min_samples_leaf=2, min_samples_split=14, n_estimators=100; total time=   0.9s\n",
      "[CV] END criterion=gini, max_depth=5, max_features=auto, min_samples_leaf=2, min_samples_split=14, n_estimators=100; total time=   0.9s\n",
      "[CV] END criterion=gini, max_depth=5, max_features=auto, min_samples_leaf=2, min_samples_split=14, n_estimators=100; total time=   1.0s\n",
      "[CV] END criterion=gini, max_depth=5, max_features=auto, min_samples_leaf=2, min_samples_split=14, n_estimators=100; total time=   0.9s\n",
      "[CV] END criterion=gini, max_depth=5, max_features=auto, min_samples_leaf=2, min_samples_split=14, n_estimators=100; total time=   0.9s\n",
      "[CV] END criterion=gini, max_depth=5, max_features=auto, min_samples_leaf=2, min_samples_split=14, n_estimators=200; total time=   1.4s\n",
      "[CV] END criterion=gini, max_depth=5, max_features=auto, min_samples_leaf=2, min_samples_split=14, n_estimators=200; total time=   1.4s\n",
      "[CV] END criterion=gini, max_depth=5, max_features=auto, min_samples_leaf=2, min_samples_split=14, n_estimators=200; total time=   1.7s\n",
      "[CV] END criterion=gini, max_depth=5, max_features=auto, min_samples_leaf=2, min_samples_split=14, n_estimators=200; total time=   1.8s\n",
      "[CV] END criterion=gini, max_depth=5, max_features=auto, min_samples_leaf=2, min_samples_split=14, n_estimators=200; total time=   1.8s\n",
      "[CV] END criterion=gini, max_depth=5, max_features=auto, min_samples_leaf=2, min_samples_split=14, n_estimators=300; total time=   2.6s\n",
      "[CV] END criterion=gini, max_depth=5, max_features=auto, min_samples_leaf=2, min_samples_split=14, n_estimators=300; total time=   1.9s\n",
      "[CV] END criterion=gini, max_depth=5, max_features=auto, min_samples_leaf=2, min_samples_split=14, n_estimators=300; total time=   1.9s\n",
      "[CV] END criterion=gini, max_depth=5, max_features=auto, min_samples_leaf=2, min_samples_split=14, n_estimators=300; total time=   2.0s\n",
      "[CV] END criterion=gini, max_depth=5, max_features=auto, min_samples_leaf=2, min_samples_split=14, n_estimators=300; total time=   3.0s\n",
      "[CV] END criterion=gini, max_depth=5, max_features=auto, min_samples_leaf=2, min_samples_split=14, n_estimators=400; total time=   2.7s\n",
      "[CV] END criterion=gini, max_depth=5, max_features=auto, min_samples_leaf=2, min_samples_split=14, n_estimators=400; total time=   2.9s\n",
      "[CV] END criterion=gini, max_depth=5, max_features=auto, min_samples_leaf=2, min_samples_split=14, n_estimators=400; total time=   3.3s\n",
      "[CV] END criterion=gini, max_depth=5, max_features=auto, min_samples_leaf=2, min_samples_split=14, n_estimators=400; total time=   4.5s\n",
      "[CV] END criterion=gini, max_depth=5, max_features=auto, min_samples_leaf=2, min_samples_split=14, n_estimators=400; total time=   3.3s\n",
      "[CV] END criterion=gini, max_depth=5, max_features=auto, min_samples_leaf=2, min_samples_split=18, n_estimators=100; total time=   0.8s\n",
      "[CV] END criterion=gini, max_depth=5, max_features=auto, min_samples_leaf=2, min_samples_split=18, n_estimators=100; total time=   0.6s\n",
      "[CV] END criterion=gini, max_depth=5, max_features=auto, min_samples_leaf=2, min_samples_split=18, n_estimators=100; total time=   0.7s\n",
      "[CV] END criterion=gini, max_depth=5, max_features=auto, min_samples_leaf=2, min_samples_split=18, n_estimators=100; total time=   0.7s\n",
      "[CV] END criterion=gini, max_depth=5, max_features=auto, min_samples_leaf=2, min_samples_split=18, n_estimators=100; total time=   0.6s\n",
      "[CV] END criterion=gini, max_depth=5, max_features=auto, min_samples_leaf=2, min_samples_split=18, n_estimators=200; total time=   1.8s\n",
      "[CV] END criterion=gini, max_depth=5, max_features=auto, min_samples_leaf=2, min_samples_split=18, n_estimators=200; total time=   1.9s\n",
      "[CV] END criterion=gini, max_depth=5, max_features=auto, min_samples_leaf=2, min_samples_split=18, n_estimators=200; total time=   1.7s\n",
      "[CV] END criterion=gini, max_depth=5, max_features=auto, min_samples_leaf=2, min_samples_split=18, n_estimators=200; total time=   1.6s\n",
      "[CV] END criterion=gini, max_depth=5, max_features=auto, min_samples_leaf=2, min_samples_split=18, n_estimators=200; total time=   1.9s\n",
      "[CV] END criterion=gini, max_depth=5, max_features=auto, min_samples_leaf=2, min_samples_split=18, n_estimators=300; total time=   2.7s\n",
      "[CV] END criterion=gini, max_depth=5, max_features=auto, min_samples_leaf=2, min_samples_split=18, n_estimators=300; total time=   2.4s\n",
      "[CV] END criterion=gini, max_depth=5, max_features=auto, min_samples_leaf=2, min_samples_split=18, n_estimators=300; total time=   2.5s\n",
      "[CV] END criterion=gini, max_depth=5, max_features=auto, min_samples_leaf=2, min_samples_split=18, n_estimators=300; total time=   2.7s\n",
      "[CV] END criterion=gini, max_depth=5, max_features=auto, min_samples_leaf=2, min_samples_split=18, n_estimators=300; total time=   2.8s\n",
      "[CV] END criterion=gini, max_depth=5, max_features=auto, min_samples_leaf=2, min_samples_split=18, n_estimators=400; total time=   3.6s\n",
      "[CV] END criterion=gini, max_depth=5, max_features=auto, min_samples_leaf=2, min_samples_split=18, n_estimators=400; total time=   3.5s\n",
      "[CV] END criterion=gini, max_depth=5, max_features=auto, min_samples_leaf=2, min_samples_split=18, n_estimators=400; total time=   3.2s\n",
      "[CV] END criterion=gini, max_depth=5, max_features=auto, min_samples_leaf=2, min_samples_split=18, n_estimators=400; total time=   3.5s\n",
      "[CV] END criterion=gini, max_depth=5, max_features=auto, min_samples_leaf=2, min_samples_split=18, n_estimators=400; total time=   3.3s\n",
      "[CV] END criterion=gini, max_depth=5, max_features=auto, min_samples_leaf=3, min_samples_split=2, n_estimators=100; total time=   0.9s\n",
      "[CV] END criterion=gini, max_depth=5, max_features=auto, min_samples_leaf=3, min_samples_split=2, n_estimators=100; total time=   0.9s\n",
      "[CV] END criterion=gini, max_depth=5, max_features=auto, min_samples_leaf=3, min_samples_split=2, n_estimators=100; total time=   0.8s\n",
      "[CV] END criterion=gini, max_depth=5, max_features=auto, min_samples_leaf=3, min_samples_split=2, n_estimators=100; total time=   0.8s\n",
      "[CV] END criterion=gini, max_depth=5, max_features=auto, min_samples_leaf=3, min_samples_split=2, n_estimators=100; total time=   0.8s\n",
      "[CV] END criterion=gini, max_depth=5, max_features=auto, min_samples_leaf=3, min_samples_split=2, n_estimators=200; total time=   1.8s\n",
      "[CV] END criterion=gini, max_depth=5, max_features=auto, min_samples_leaf=3, min_samples_split=2, n_estimators=200; total time=   1.6s\n",
      "[CV] END criterion=gini, max_depth=5, max_features=auto, min_samples_leaf=3, min_samples_split=2, n_estimators=200; total time=   1.6s\n",
      "[CV] END criterion=gini, max_depth=5, max_features=auto, min_samples_leaf=3, min_samples_split=2, n_estimators=200; total time=   1.6s\n",
      "[CV] END criterion=gini, max_depth=5, max_features=auto, min_samples_leaf=3, min_samples_split=2, n_estimators=200; total time=   1.6s\n",
      "[CV] END criterion=gini, max_depth=5, max_features=auto, min_samples_leaf=3, min_samples_split=2, n_estimators=300; total time=   2.6s\n",
      "[CV] END criterion=gini, max_depth=5, max_features=auto, min_samples_leaf=3, min_samples_split=2, n_estimators=300; total time=   2.5s\n",
      "[CV] END criterion=gini, max_depth=5, max_features=auto, min_samples_leaf=3, min_samples_split=2, n_estimators=300; total time=   1.9s\n",
      "[CV] END criterion=gini, max_depth=5, max_features=auto, min_samples_leaf=3, min_samples_split=2, n_estimators=300; total time=   1.9s\n",
      "[CV] END criterion=gini, max_depth=5, max_features=auto, min_samples_leaf=3, min_samples_split=2, n_estimators=300; total time=   2.3s\n",
      "[CV] END criterion=gini, max_depth=5, max_features=auto, min_samples_leaf=3, min_samples_split=2, n_estimators=400; total time=   3.2s\n",
      "[CV] END criterion=gini, max_depth=5, max_features=auto, min_samples_leaf=3, min_samples_split=2, n_estimators=400; total time=   2.7s\n",
      "[CV] END criterion=gini, max_depth=5, max_features=auto, min_samples_leaf=3, min_samples_split=2, n_estimators=400; total time=   2.8s\n",
      "[CV] END criterion=gini, max_depth=5, max_features=auto, min_samples_leaf=3, min_samples_split=2, n_estimators=400; total time=   2.6s\n",
      "[CV] END criterion=gini, max_depth=5, max_features=auto, min_samples_leaf=3, min_samples_split=2, n_estimators=400; total time=   2.6s\n",
      "[CV] END criterion=gini, max_depth=5, max_features=auto, min_samples_leaf=3, min_samples_split=6, n_estimators=100; total time=   0.6s\n",
      "[CV] END criterion=gini, max_depth=5, max_features=auto, min_samples_leaf=3, min_samples_split=6, n_estimators=100; total time=   0.7s\n",
      "[CV] END criterion=gini, max_depth=5, max_features=auto, min_samples_leaf=3, min_samples_split=6, n_estimators=100; total time=   0.6s\n",
      "[CV] END criterion=gini, max_depth=5, max_features=auto, min_samples_leaf=3, min_samples_split=6, n_estimators=100; total time=   0.4s\n",
      "[CV] END criterion=gini, max_depth=5, max_features=auto, min_samples_leaf=3, min_samples_split=6, n_estimators=100; total time=   0.4s\n",
      "[CV] END criterion=gini, max_depth=5, max_features=auto, min_samples_leaf=3, min_samples_split=6, n_estimators=200; total time=   0.9s\n",
      "[CV] END criterion=gini, max_depth=5, max_features=auto, min_samples_leaf=3, min_samples_split=6, n_estimators=200; total time=   0.8s\n",
      "[CV] END criterion=gini, max_depth=5, max_features=auto, min_samples_leaf=3, min_samples_split=6, n_estimators=200; total time=   0.8s\n",
      "[CV] END criterion=gini, max_depth=5, max_features=auto, min_samples_leaf=3, min_samples_split=6, n_estimators=200; total time=   0.8s\n",
      "[CV] END criterion=gini, max_depth=5, max_features=auto, min_samples_leaf=3, min_samples_split=6, n_estimators=200; total time=   0.8s\n",
      "[CV] END criterion=gini, max_depth=5, max_features=auto, min_samples_leaf=3, min_samples_split=6, n_estimators=300; total time=   2.0s\n",
      "[CV] END criterion=gini, max_depth=5, max_features=auto, min_samples_leaf=3, min_samples_split=6, n_estimators=300; total time=   1.3s\n",
      "[CV] END criterion=gini, max_depth=5, max_features=auto, min_samples_leaf=3, min_samples_split=6, n_estimators=300; total time=   1.3s\n",
      "[CV] END criterion=gini, max_depth=5, max_features=auto, min_samples_leaf=3, min_samples_split=6, n_estimators=300; total time=   1.3s\n",
      "[CV] END criterion=gini, max_depth=5, max_features=auto, min_samples_leaf=3, min_samples_split=6, n_estimators=300; total time=   1.3s\n",
      "[CV] END criterion=gini, max_depth=5, max_features=auto, min_samples_leaf=3, min_samples_split=6, n_estimators=400; total time=   2.1s\n",
      "[CV] END criterion=gini, max_depth=5, max_features=auto, min_samples_leaf=3, min_samples_split=6, n_estimators=400; total time=   2.6s\n",
      "[CV] END criterion=gini, max_depth=5, max_features=auto, min_samples_leaf=3, min_samples_split=6, n_estimators=400; total time=   1.9s\n",
      "[CV] END criterion=gini, max_depth=5, max_features=auto, min_samples_leaf=3, min_samples_split=6, n_estimators=400; total time=   3.8s\n",
      "[CV] END criterion=gini, max_depth=5, max_features=auto, min_samples_leaf=3, min_samples_split=6, n_estimators=400; total time=   3.1s\n",
      "[CV] END criterion=gini, max_depth=5, max_features=auto, min_samples_leaf=3, min_samples_split=10, n_estimators=100; total time=   0.6s\n",
      "[CV] END criterion=gini, max_depth=5, max_features=auto, min_samples_leaf=3, min_samples_split=10, n_estimators=100; total time=   0.6s\n",
      "[CV] END criterion=gini, max_depth=5, max_features=auto, min_samples_leaf=3, min_samples_split=10, n_estimators=100; total time=   0.7s\n",
      "[CV] END criterion=gini, max_depth=5, max_features=auto, min_samples_leaf=3, min_samples_split=10, n_estimators=100; total time=   0.7s\n",
      "[CV] END criterion=gini, max_depth=5, max_features=auto, min_samples_leaf=3, min_samples_split=10, n_estimators=100; total time=   0.8s\n",
      "[CV] END criterion=gini, max_depth=5, max_features=auto, min_samples_leaf=3, min_samples_split=10, n_estimators=200; total time=   1.6s\n",
      "[CV] END criterion=gini, max_depth=5, max_features=auto, min_samples_leaf=3, min_samples_split=10, n_estimators=200; total time=   1.7s\n",
      "[CV] END criterion=gini, max_depth=5, max_features=auto, min_samples_leaf=3, min_samples_split=10, n_estimators=200; total time=   1.9s\n",
      "[CV] END criterion=gini, max_depth=5, max_features=auto, min_samples_leaf=3, min_samples_split=10, n_estimators=200; total time=   1.6s\n",
      "[CV] END criterion=gini, max_depth=5, max_features=auto, min_samples_leaf=3, min_samples_split=10, n_estimators=200; total time=   2.0s\n",
      "[CV] END criterion=gini, max_depth=5, max_features=auto, min_samples_leaf=3, min_samples_split=10, n_estimators=300; total time=   2.4s\n",
      "[CV] END criterion=gini, max_depth=5, max_features=auto, min_samples_leaf=3, min_samples_split=10, n_estimators=300; total time=   2.4s\n",
      "[CV] END criterion=gini, max_depth=5, max_features=auto, min_samples_leaf=3, min_samples_split=10, n_estimators=300; total time=   2.3s\n",
      "[CV] END criterion=gini, max_depth=5, max_features=auto, min_samples_leaf=3, min_samples_split=10, n_estimators=300; total time=   2.3s\n",
      "[CV] END criterion=gini, max_depth=5, max_features=auto, min_samples_leaf=3, min_samples_split=10, n_estimators=300; total time=   2.3s\n",
      "[CV] END criterion=gini, max_depth=5, max_features=auto, min_samples_leaf=3, min_samples_split=10, n_estimators=400; total time=   3.5s\n",
      "[CV] END criterion=gini, max_depth=5, max_features=auto, min_samples_leaf=3, min_samples_split=10, n_estimators=400; total time=   3.0s\n",
      "[CV] END criterion=gini, max_depth=5, max_features=auto, min_samples_leaf=3, min_samples_split=10, n_estimators=400; total time=   3.2s\n",
      "[CV] END criterion=gini, max_depth=5, max_features=auto, min_samples_leaf=3, min_samples_split=10, n_estimators=400; total time=   3.6s\n",
      "[CV] END criterion=gini, max_depth=5, max_features=auto, min_samples_leaf=3, min_samples_split=10, n_estimators=400; total time=   3.5s\n",
      "[CV] END criterion=gini, max_depth=5, max_features=auto, min_samples_leaf=3, min_samples_split=14, n_estimators=100; total time=   0.7s\n",
      "[CV] END criterion=gini, max_depth=5, max_features=auto, min_samples_leaf=3, min_samples_split=14, n_estimators=100; total time=   0.7s\n",
      "[CV] END criterion=gini, max_depth=5, max_features=auto, min_samples_leaf=3, min_samples_split=14, n_estimators=100; total time=   0.6s\n",
      "[CV] END criterion=gini, max_depth=5, max_features=auto, min_samples_leaf=3, min_samples_split=14, n_estimators=100; total time=   0.6s\n",
      "[CV] END criterion=gini, max_depth=5, max_features=auto, min_samples_leaf=3, min_samples_split=14, n_estimators=100; total time=   0.7s\n",
      "[CV] END criterion=gini, max_depth=5, max_features=auto, min_samples_leaf=3, min_samples_split=14, n_estimators=200; total time=   1.3s\n",
      "[CV] END criterion=gini, max_depth=5, max_features=auto, min_samples_leaf=3, min_samples_split=14, n_estimators=200; total time=   1.3s\n",
      "[CV] END criterion=gini, max_depth=5, max_features=auto, min_samples_leaf=3, min_samples_split=14, n_estimators=200; total time=   1.7s\n",
      "[CV] END criterion=gini, max_depth=5, max_features=auto, min_samples_leaf=3, min_samples_split=14, n_estimators=200; total time=   1.6s\n",
      "[CV] END criterion=gini, max_depth=5, max_features=auto, min_samples_leaf=3, min_samples_split=14, n_estimators=200; total time=   1.6s\n",
      "[CV] END criterion=gini, max_depth=5, max_features=auto, min_samples_leaf=3, min_samples_split=14, n_estimators=300; total time=   2.9s\n",
      "[CV] END criterion=gini, max_depth=5, max_features=auto, min_samples_leaf=3, min_samples_split=14, n_estimators=300; total time=   3.2s\n",
      "[CV] END criterion=gini, max_depth=5, max_features=auto, min_samples_leaf=3, min_samples_split=14, n_estimators=300; total time=   3.2s\n",
      "[CV] END criterion=gini, max_depth=5, max_features=auto, min_samples_leaf=3, min_samples_split=14, n_estimators=300; total time=   3.1s\n",
      "[CV] END criterion=gini, max_depth=5, max_features=auto, min_samples_leaf=3, min_samples_split=14, n_estimators=300; total time=   2.7s\n",
      "[CV] END criterion=gini, max_depth=5, max_features=auto, min_samples_leaf=3, min_samples_split=14, n_estimators=400; total time=   3.8s\n",
      "[CV] END criterion=gini, max_depth=5, max_features=auto, min_samples_leaf=3, min_samples_split=14, n_estimators=400; total time=   4.1s\n",
      "[CV] END criterion=gini, max_depth=5, max_features=auto, min_samples_leaf=3, min_samples_split=14, n_estimators=400; total time=   3.1s\n",
      "[CV] END criterion=gini, max_depth=5, max_features=auto, min_samples_leaf=3, min_samples_split=14, n_estimators=400; total time=   2.6s\n",
      "[CV] END criterion=gini, max_depth=5, max_features=auto, min_samples_leaf=3, min_samples_split=14, n_estimators=400; total time=   2.7s\n",
      "[CV] END criterion=gini, max_depth=5, max_features=auto, min_samples_leaf=3, min_samples_split=18, n_estimators=100; total time=   0.7s\n",
      "[CV] END criterion=gini, max_depth=5, max_features=auto, min_samples_leaf=3, min_samples_split=18, n_estimators=100; total time=   1.0s\n",
      "[CV] END criterion=gini, max_depth=5, max_features=auto, min_samples_leaf=3, min_samples_split=18, n_estimators=100; total time=   0.7s\n",
      "[CV] END criterion=gini, max_depth=5, max_features=auto, min_samples_leaf=3, min_samples_split=18, n_estimators=100; total time=   1.0s\n",
      "[CV] END criterion=gini, max_depth=5, max_features=auto, min_samples_leaf=3, min_samples_split=18, n_estimators=100; total time=   0.7s\n",
      "[CV] END criterion=gini, max_depth=5, max_features=auto, min_samples_leaf=3, min_samples_split=18, n_estimators=200; total time=   2.2s\n",
      "[CV] END criterion=gini, max_depth=5, max_features=auto, min_samples_leaf=3, min_samples_split=18, n_estimators=200; total time=   1.8s\n",
      "[CV] END criterion=gini, max_depth=5, max_features=auto, min_samples_leaf=3, min_samples_split=18, n_estimators=200; total time=   1.5s\n",
      "[CV] END criterion=gini, max_depth=5, max_features=auto, min_samples_leaf=3, min_samples_split=18, n_estimators=200; total time=   1.5s\n",
      "[CV] END criterion=gini, max_depth=5, max_features=auto, min_samples_leaf=3, min_samples_split=18, n_estimators=200; total time=   1.4s\n",
      "[CV] END criterion=gini, max_depth=5, max_features=auto, min_samples_leaf=3, min_samples_split=18, n_estimators=300; total time=   2.3s\n",
      "[CV] END criterion=gini, max_depth=5, max_features=auto, min_samples_leaf=3, min_samples_split=18, n_estimators=300; total time=   2.4s\n",
      "[CV] END criterion=gini, max_depth=5, max_features=auto, min_samples_leaf=3, min_samples_split=18, n_estimators=300; total time=   2.8s\n",
      "[CV] END criterion=gini, max_depth=5, max_features=auto, min_samples_leaf=3, min_samples_split=18, n_estimators=300; total time=   2.6s\n",
      "[CV] END criterion=gini, max_depth=5, max_features=auto, min_samples_leaf=3, min_samples_split=18, n_estimators=300; total time=   2.3s\n",
      "[CV] END criterion=gini, max_depth=5, max_features=auto, min_samples_leaf=3, min_samples_split=18, n_estimators=400; total time=   3.3s\n",
      "[CV] END criterion=gini, max_depth=5, max_features=auto, min_samples_leaf=3, min_samples_split=18, n_estimators=400; total time=   3.7s\n",
      "[CV] END criterion=gini, max_depth=5, max_features=auto, min_samples_leaf=3, min_samples_split=18, n_estimators=400; total time=   3.5s\n",
      "[CV] END criterion=gini, max_depth=5, max_features=auto, min_samples_leaf=3, min_samples_split=18, n_estimators=400; total time=   4.3s\n",
      "[CV] END criterion=gini, max_depth=5, max_features=auto, min_samples_leaf=3, min_samples_split=18, n_estimators=400; total time=   3.3s\n",
      "[CV] END criterion=gini, max_depth=5, max_features=auto, min_samples_leaf=4, min_samples_split=2, n_estimators=100; total time=   0.9s\n",
      "[CV] END criterion=gini, max_depth=5, max_features=auto, min_samples_leaf=4, min_samples_split=2, n_estimators=100; total time=   1.0s\n",
      "[CV] END criterion=gini, max_depth=5, max_features=auto, min_samples_leaf=4, min_samples_split=2, n_estimators=100; total time=   1.0s\n",
      "[CV] END criterion=gini, max_depth=5, max_features=auto, min_samples_leaf=4, min_samples_split=2, n_estimators=100; total time=   0.9s\n",
      "[CV] END criterion=gini, max_depth=5, max_features=auto, min_samples_leaf=4, min_samples_split=2, n_estimators=100; total time=   1.0s\n",
      "[CV] END criterion=gini, max_depth=5, max_features=auto, min_samples_leaf=4, min_samples_split=2, n_estimators=200; total time=   2.1s\n",
      "[CV] END criterion=gini, max_depth=5, max_features=auto, min_samples_leaf=4, min_samples_split=2, n_estimators=200; total time=   2.3s\n",
      "[CV] END criterion=gini, max_depth=5, max_features=auto, min_samples_leaf=4, min_samples_split=2, n_estimators=200; total time=   2.1s\n",
      "[CV] END criterion=gini, max_depth=5, max_features=auto, min_samples_leaf=4, min_samples_split=2, n_estimators=200; total time=   1.8s\n",
      "[CV] END criterion=gini, max_depth=5, max_features=auto, min_samples_leaf=4, min_samples_split=2, n_estimators=200; total time=   1.6s\n",
      "[CV] END criterion=gini, max_depth=5, max_features=auto, min_samples_leaf=4, min_samples_split=2, n_estimators=300; total time=   2.5s\n",
      "[CV] END criterion=gini, max_depth=5, max_features=auto, min_samples_leaf=4, min_samples_split=2, n_estimators=300; total time=   1.9s\n",
      "[CV] END criterion=gini, max_depth=5, max_features=auto, min_samples_leaf=4, min_samples_split=2, n_estimators=300; total time=   2.0s\n",
      "[CV] END criterion=gini, max_depth=5, max_features=auto, min_samples_leaf=4, min_samples_split=2, n_estimators=300; total time=   2.7s\n",
      "[CV] END criterion=gini, max_depth=5, max_features=auto, min_samples_leaf=4, min_samples_split=2, n_estimators=300; total time=   2.7s\n",
      "[CV] END criterion=gini, max_depth=5, max_features=auto, min_samples_leaf=4, min_samples_split=2, n_estimators=400; total time=   3.0s\n",
      "[CV] END criterion=gini, max_depth=5, max_features=auto, min_samples_leaf=4, min_samples_split=2, n_estimators=400; total time=   2.6s\n",
      "[CV] END criterion=gini, max_depth=5, max_features=auto, min_samples_leaf=4, min_samples_split=2, n_estimators=400; total time=   2.6s\n",
      "[CV] END criterion=gini, max_depth=5, max_features=auto, min_samples_leaf=4, min_samples_split=2, n_estimators=400; total time=   2.1s\n",
      "[CV] END criterion=gini, max_depth=5, max_features=auto, min_samples_leaf=4, min_samples_split=2, n_estimators=400; total time=   1.9s\n",
      "[CV] END criterion=gini, max_depth=5, max_features=auto, min_samples_leaf=4, min_samples_split=6, n_estimators=100; total time=   0.4s\n",
      "[CV] END criterion=gini, max_depth=5, max_features=auto, min_samples_leaf=4, min_samples_split=6, n_estimators=100; total time=   0.4s\n",
      "[CV] END criterion=gini, max_depth=5, max_features=auto, min_samples_leaf=4, min_samples_split=6, n_estimators=100; total time=   0.3s\n",
      "[CV] END criterion=gini, max_depth=5, max_features=auto, min_samples_leaf=4, min_samples_split=6, n_estimators=100; total time=   0.4s\n",
      "[CV] END criterion=gini, max_depth=5, max_features=auto, min_samples_leaf=4, min_samples_split=6, n_estimators=100; total time=   0.4s\n",
      "[CV] END criterion=gini, max_depth=5, max_features=auto, min_samples_leaf=4, min_samples_split=6, n_estimators=200; total time=   1.2s\n",
      "[CV] END criterion=gini, max_depth=5, max_features=auto, min_samples_leaf=4, min_samples_split=6, n_estimators=200; total time=   0.9s\n",
      "[CV] END criterion=gini, max_depth=5, max_features=auto, min_samples_leaf=4, min_samples_split=6, n_estimators=200; total time=   0.8s\n",
      "[CV] END criterion=gini, max_depth=5, max_features=auto, min_samples_leaf=4, min_samples_split=6, n_estimators=200; total time=   0.8s\n",
      "[CV] END criterion=gini, max_depth=5, max_features=auto, min_samples_leaf=4, min_samples_split=6, n_estimators=200; total time=   0.8s\n",
      "[CV] END criterion=gini, max_depth=5, max_features=auto, min_samples_leaf=4, min_samples_split=6, n_estimators=300; total time=   1.6s\n",
      "[CV] END criterion=gini, max_depth=5, max_features=auto, min_samples_leaf=4, min_samples_split=6, n_estimators=300; total time=   1.5s\n",
      "[CV] END criterion=gini, max_depth=5, max_features=auto, min_samples_leaf=4, min_samples_split=6, n_estimators=300; total time=   1.6s\n",
      "[CV] END criterion=gini, max_depth=5, max_features=auto, min_samples_leaf=4, min_samples_split=6, n_estimators=300; total time=   1.7s\n",
      "[CV] END criterion=gini, max_depth=5, max_features=auto, min_samples_leaf=4, min_samples_split=6, n_estimators=300; total time=   1.6s\n",
      "[CV] END criterion=gini, max_depth=5, max_features=auto, min_samples_leaf=4, min_samples_split=6, n_estimators=400; total time=   2.6s\n",
      "[CV] END criterion=gini, max_depth=5, max_features=auto, min_samples_leaf=4, min_samples_split=6, n_estimators=400; total time=   3.1s\n",
      "[CV] END criterion=gini, max_depth=5, max_features=auto, min_samples_leaf=4, min_samples_split=6, n_estimators=400; total time=   3.1s\n",
      "[CV] END criterion=gini, max_depth=5, max_features=auto, min_samples_leaf=4, min_samples_split=6, n_estimators=400; total time=   3.9s\n",
      "[CV] END criterion=gini, max_depth=5, max_features=auto, min_samples_leaf=4, min_samples_split=6, n_estimators=400; total time=   3.8s\n",
      "[CV] END criterion=gini, max_depth=5, max_features=auto, min_samples_leaf=4, min_samples_split=10, n_estimators=100; total time=   0.8s\n",
      "[CV] END criterion=gini, max_depth=5, max_features=auto, min_samples_leaf=4, min_samples_split=10, n_estimators=100; total time=   0.8s\n",
      "[CV] END criterion=gini, max_depth=5, max_features=auto, min_samples_leaf=4, min_samples_split=10, n_estimators=100; total time=   0.7s\n",
      "[CV] END criterion=gini, max_depth=5, max_features=auto, min_samples_leaf=4, min_samples_split=10, n_estimators=100; total time=   0.8s\n",
      "[CV] END criterion=gini, max_depth=5, max_features=auto, min_samples_leaf=4, min_samples_split=10, n_estimators=100; total time=   0.8s\n",
      "[CV] END criterion=gini, max_depth=5, max_features=auto, min_samples_leaf=4, min_samples_split=10, n_estimators=200; total time=   1.7s\n",
      "[CV] END criterion=gini, max_depth=5, max_features=auto, min_samples_leaf=4, min_samples_split=10, n_estimators=200; total time=   1.5s\n",
      "[CV] END criterion=gini, max_depth=5, max_features=auto, min_samples_leaf=4, min_samples_split=10, n_estimators=200; total time=   1.7s\n",
      "[CV] END criterion=gini, max_depth=5, max_features=auto, min_samples_leaf=4, min_samples_split=10, n_estimators=200; total time=   1.6s\n",
      "[CV] END criterion=gini, max_depth=5, max_features=auto, min_samples_leaf=4, min_samples_split=10, n_estimators=200; total time=   1.5s\n",
      "[CV] END criterion=gini, max_depth=5, max_features=auto, min_samples_leaf=4, min_samples_split=10, n_estimators=300; total time=   2.9s\n",
      "[CV] END criterion=gini, max_depth=5, max_features=auto, min_samples_leaf=4, min_samples_split=10, n_estimators=300; total time=   2.5s\n",
      "[CV] END criterion=gini, max_depth=5, max_features=auto, min_samples_leaf=4, min_samples_split=10, n_estimators=300; total time=   2.6s\n",
      "[CV] END criterion=gini, max_depth=5, max_features=auto, min_samples_leaf=4, min_samples_split=10, n_estimators=300; total time=   2.5s\n",
      "[CV] END criterion=gini, max_depth=5, max_features=auto, min_samples_leaf=4, min_samples_split=10, n_estimators=300; total time=   2.5s\n",
      "[CV] END criterion=gini, max_depth=5, max_features=auto, min_samples_leaf=4, min_samples_split=10, n_estimators=400; total time=   3.7s\n",
      "[CV] END criterion=gini, max_depth=5, max_features=auto, min_samples_leaf=4, min_samples_split=10, n_estimators=400; total time=   3.5s\n",
      "[CV] END criterion=gini, max_depth=5, max_features=auto, min_samples_leaf=4, min_samples_split=10, n_estimators=400; total time=   3.4s\n",
      "[CV] END criterion=gini, max_depth=5, max_features=auto, min_samples_leaf=4, min_samples_split=10, n_estimators=400; total time=   3.2s\n",
      "[CV] END criterion=gini, max_depth=5, max_features=auto, min_samples_leaf=4, min_samples_split=10, n_estimators=400; total time=   3.3s\n",
      "[CV] END criterion=gini, max_depth=5, max_features=auto, min_samples_leaf=4, min_samples_split=14, n_estimators=100; total time=   0.8s\n",
      "[CV] END criterion=gini, max_depth=5, max_features=auto, min_samples_leaf=4, min_samples_split=14, n_estimators=100; total time=   0.8s\n",
      "[CV] END criterion=gini, max_depth=5, max_features=auto, min_samples_leaf=4, min_samples_split=14, n_estimators=100; total time=   1.0s\n",
      "[CV] END criterion=gini, max_depth=5, max_features=auto, min_samples_leaf=4, min_samples_split=14, n_estimators=100; total time=   1.1s\n",
      "[CV] END criterion=gini, max_depth=5, max_features=auto, min_samples_leaf=4, min_samples_split=14, n_estimators=100; total time=   1.0s\n",
      "[CV] END criterion=gini, max_depth=5, max_features=auto, min_samples_leaf=4, min_samples_split=14, n_estimators=200; total time=   2.1s\n",
      "[CV] END criterion=gini, max_depth=5, max_features=auto, min_samples_leaf=4, min_samples_split=14, n_estimators=200; total time=   2.0s\n",
      "[CV] END criterion=gini, max_depth=5, max_features=auto, min_samples_leaf=4, min_samples_split=14, n_estimators=200; total time=   1.6s\n",
      "[CV] END criterion=gini, max_depth=5, max_features=auto, min_samples_leaf=4, min_samples_split=14, n_estimators=200; total time=   1.5s\n",
      "[CV] END criterion=gini, max_depth=5, max_features=auto, min_samples_leaf=4, min_samples_split=14, n_estimators=200; total time=   1.4s\n",
      "[CV] END criterion=gini, max_depth=5, max_features=auto, min_samples_leaf=4, min_samples_split=14, n_estimators=300; total time=   2.0s\n",
      "[CV] END criterion=gini, max_depth=5, max_features=auto, min_samples_leaf=4, min_samples_split=14, n_estimators=300; total time=   2.5s\n",
      "[CV] END criterion=gini, max_depth=5, max_features=auto, min_samples_leaf=4, min_samples_split=14, n_estimators=300; total time=   2.4s\n",
      "[CV] END criterion=gini, max_depth=5, max_features=auto, min_samples_leaf=4, min_samples_split=14, n_estimators=300; total time=   2.5s\n",
      "[CV] END criterion=gini, max_depth=5, max_features=auto, min_samples_leaf=4, min_samples_split=14, n_estimators=300; total time=   2.3s\n",
      "[CV] END criterion=gini, max_depth=5, max_features=auto, min_samples_leaf=4, min_samples_split=14, n_estimators=400; total time=   3.0s\n",
      "[CV] END criterion=gini, max_depth=5, max_features=auto, min_samples_leaf=4, min_samples_split=14, n_estimators=400; total time=   3.2s\n",
      "[CV] END criterion=gini, max_depth=5, max_features=auto, min_samples_leaf=4, min_samples_split=14, n_estimators=400; total time=   3.5s\n",
      "[CV] END criterion=gini, max_depth=5, max_features=auto, min_samples_leaf=4, min_samples_split=14, n_estimators=400; total time=   4.0s\n",
      "[CV] END criterion=gini, max_depth=5, max_features=auto, min_samples_leaf=4, min_samples_split=14, n_estimators=400; total time=   3.4s\n",
      "[CV] END criterion=gini, max_depth=5, max_features=auto, min_samples_leaf=4, min_samples_split=18, n_estimators=100; total time=   0.8s\n",
      "[CV] END criterion=gini, max_depth=5, max_features=auto, min_samples_leaf=4, min_samples_split=18, n_estimators=100; total time=   0.7s\n",
      "[CV] END criterion=gini, max_depth=5, max_features=auto, min_samples_leaf=4, min_samples_split=18, n_estimators=100; total time=   0.8s\n",
      "[CV] END criterion=gini, max_depth=5, max_features=auto, min_samples_leaf=4, min_samples_split=18, n_estimators=100; total time=   0.8s\n",
      "[CV] END criterion=gini, max_depth=5, max_features=auto, min_samples_leaf=4, min_samples_split=18, n_estimators=100; total time=   0.8s\n",
      "[CV] END criterion=gini, max_depth=5, max_features=auto, min_samples_leaf=4, min_samples_split=18, n_estimators=200; total time=   1.8s\n",
      "[CV] END criterion=gini, max_depth=5, max_features=auto, min_samples_leaf=4, min_samples_split=18, n_estimators=200; total time=   1.8s\n",
      "[CV] END criterion=gini, max_depth=5, max_features=auto, min_samples_leaf=4, min_samples_split=18, n_estimators=200; total time=   1.7s\n",
      "[CV] END criterion=gini, max_depth=5, max_features=auto, min_samples_leaf=4, min_samples_split=18, n_estimators=200; total time=   1.8s\n",
      "[CV] END criterion=gini, max_depth=5, max_features=auto, min_samples_leaf=4, min_samples_split=18, n_estimators=200; total time=   1.8s\n",
      "[CV] END criterion=gini, max_depth=5, max_features=auto, min_samples_leaf=4, min_samples_split=18, n_estimators=300; total time=   2.7s\n",
      "[CV] END criterion=gini, max_depth=5, max_features=auto, min_samples_leaf=4, min_samples_split=18, n_estimators=300; total time=   2.5s\n",
      "[CV] END criterion=gini, max_depth=5, max_features=auto, min_samples_leaf=4, min_samples_split=18, n_estimators=300; total time=   2.6s\n",
      "[CV] END criterion=gini, max_depth=5, max_features=auto, min_samples_leaf=4, min_samples_split=18, n_estimators=300; total time=   3.1s\n",
      "[CV] END criterion=gini, max_depth=5, max_features=auto, min_samples_leaf=4, min_samples_split=18, n_estimators=300; total time=   2.6s\n",
      "[CV] END criterion=gini, max_depth=5, max_features=auto, min_samples_leaf=4, min_samples_split=18, n_estimators=400; total time=   3.8s\n",
      "[CV] END criterion=gini, max_depth=5, max_features=auto, min_samples_leaf=4, min_samples_split=18, n_estimators=400; total time=   2.8s\n",
      "[CV] END criterion=gini, max_depth=5, max_features=auto, min_samples_leaf=4, min_samples_split=18, n_estimators=400; total time=   2.9s\n",
      "[CV] END criterion=gini, max_depth=5, max_features=auto, min_samples_leaf=4, min_samples_split=18, n_estimators=400; total time=   3.8s\n",
      "[CV] END criterion=gini, max_depth=5, max_features=auto, min_samples_leaf=4, min_samples_split=18, n_estimators=400; total time=   3.3s\n",
      "[CV] END criterion=entropy, max_depth=0, max_features=auto, min_samples_leaf=1, min_samples_split=2, n_estimators=100; total time=   0.0s\n",
      "[CV] END criterion=entropy, max_depth=0, max_features=auto, min_samples_leaf=1, min_samples_split=2, n_estimators=100; total time=   0.0s\n",
      "[CV] END criterion=entropy, max_depth=0, max_features=auto, min_samples_leaf=1, min_samples_split=2, n_estimators=100; total time=   0.0s\n",
      "[CV] END criterion=entropy, max_depth=0, max_features=auto, min_samples_leaf=1, min_samples_split=2, n_estimators=100; total time=   0.0s\n",
      "[CV] END criterion=entropy, max_depth=0, max_features=auto, min_samples_leaf=1, min_samples_split=2, n_estimators=100; total time=   0.0s\n",
      "[CV] END criterion=entropy, max_depth=0, max_features=auto, min_samples_leaf=1, min_samples_split=2, n_estimators=200; total time=   0.1s\n",
      "[CV] END criterion=entropy, max_depth=0, max_features=auto, min_samples_leaf=1, min_samples_split=2, n_estimators=200; total time=   0.1s\n",
      "[CV] END criterion=entropy, max_depth=0, max_features=auto, min_samples_leaf=1, min_samples_split=2, n_estimators=200; total time=   0.1s\n",
      "[CV] END criterion=entropy, max_depth=0, max_features=auto, min_samples_leaf=1, min_samples_split=2, n_estimators=200; total time=   0.1s\n",
      "[CV] END criterion=entropy, max_depth=0, max_features=auto, min_samples_leaf=1, min_samples_split=2, n_estimators=200; total time=   0.1s\n",
      "[CV] END criterion=entropy, max_depth=0, max_features=auto, min_samples_leaf=1, min_samples_split=2, n_estimators=300; total time=   0.1s\n",
      "[CV] END criterion=entropy, max_depth=0, max_features=auto, min_samples_leaf=1, min_samples_split=2, n_estimators=300; total time=   0.1s\n",
      "[CV] END criterion=entropy, max_depth=0, max_features=auto, min_samples_leaf=1, min_samples_split=2, n_estimators=300; total time=   0.1s\n",
      "[CV] END criterion=entropy, max_depth=0, max_features=auto, min_samples_leaf=1, min_samples_split=2, n_estimators=300; total time=   0.1s\n",
      "[CV] END criterion=entropy, max_depth=0, max_features=auto, min_samples_leaf=1, min_samples_split=2, n_estimators=300; total time=   0.2s\n",
      "[CV] END criterion=entropy, max_depth=0, max_features=auto, min_samples_leaf=1, min_samples_split=2, n_estimators=400; total time=   0.2s\n",
      "[CV] END criterion=entropy, max_depth=0, max_features=auto, min_samples_leaf=1, min_samples_split=2, n_estimators=400; total time=   0.2s\n",
      "[CV] END criterion=entropy, max_depth=0, max_features=auto, min_samples_leaf=1, min_samples_split=2, n_estimators=400; total time=   0.2s\n",
      "[CV] END criterion=entropy, max_depth=0, max_features=auto, min_samples_leaf=1, min_samples_split=2, n_estimators=400; total time=   0.2s\n",
      "[CV] END criterion=entropy, max_depth=0, max_features=auto, min_samples_leaf=1, min_samples_split=2, n_estimators=400; total time=   0.2s\n",
      "[CV] END criterion=entropy, max_depth=0, max_features=auto, min_samples_leaf=1, min_samples_split=6, n_estimators=100; total time=   0.0s\n",
      "[CV] END criterion=entropy, max_depth=0, max_features=auto, min_samples_leaf=1, min_samples_split=6, n_estimators=100; total time=   0.0s\n",
      "[CV] END criterion=entropy, max_depth=0, max_features=auto, min_samples_leaf=1, min_samples_split=6, n_estimators=100; total time=   0.0s\n",
      "[CV] END criterion=entropy, max_depth=0, max_features=auto, min_samples_leaf=1, min_samples_split=6, n_estimators=100; total time=   0.0s\n",
      "[CV] END criterion=entropy, max_depth=0, max_features=auto, min_samples_leaf=1, min_samples_split=6, n_estimators=100; total time=   0.0s\n",
      "[CV] END criterion=entropy, max_depth=0, max_features=auto, min_samples_leaf=1, min_samples_split=6, n_estimators=200; total time=   0.0s\n",
      "[CV] END criterion=entropy, max_depth=0, max_features=auto, min_samples_leaf=1, min_samples_split=6, n_estimators=200; total time=   0.0s\n",
      "[CV] END criterion=entropy, max_depth=0, max_features=auto, min_samples_leaf=1, min_samples_split=6, n_estimators=200; total time=   0.0s\n",
      "[CV] END criterion=entropy, max_depth=0, max_features=auto, min_samples_leaf=1, min_samples_split=6, n_estimators=200; total time=   0.1s\n",
      "[CV] END criterion=entropy, max_depth=0, max_features=auto, min_samples_leaf=1, min_samples_split=6, n_estimators=200; total time=   0.0s\n",
      "[CV] END criterion=entropy, max_depth=0, max_features=auto, min_samples_leaf=1, min_samples_split=6, n_estimators=300; total time=   0.1s\n",
      "[CV] END criterion=entropy, max_depth=0, max_features=auto, min_samples_leaf=1, min_samples_split=6, n_estimators=300; total time=   0.3s\n",
      "[CV] END criterion=entropy, max_depth=0, max_features=auto, min_samples_leaf=1, min_samples_split=6, n_estimators=300; total time=   0.1s\n",
      "[CV] END criterion=entropy, max_depth=0, max_features=auto, min_samples_leaf=1, min_samples_split=6, n_estimators=300; total time=   0.1s\n",
      "[CV] END criterion=entropy, max_depth=0, max_features=auto, min_samples_leaf=1, min_samples_split=6, n_estimators=300; total time=   0.1s\n",
      "[CV] END criterion=entropy, max_depth=0, max_features=auto, min_samples_leaf=1, min_samples_split=6, n_estimators=400; total time=   0.2s\n",
      "[CV] END criterion=entropy, max_depth=0, max_features=auto, min_samples_leaf=1, min_samples_split=6, n_estimators=400; total time=   0.2s\n",
      "[CV] END criterion=entropy, max_depth=0, max_features=auto, min_samples_leaf=1, min_samples_split=6, n_estimators=400; total time=   0.2s\n",
      "[CV] END criterion=entropy, max_depth=0, max_features=auto, min_samples_leaf=1, min_samples_split=6, n_estimators=400; total time=   0.2s\n",
      "[CV] END criterion=entropy, max_depth=0, max_features=auto, min_samples_leaf=1, min_samples_split=6, n_estimators=400; total time=   0.2s\n",
      "[CV] END criterion=entropy, max_depth=0, max_features=auto, min_samples_leaf=1, min_samples_split=10, n_estimators=100; total time=   0.0s\n",
      "[CV] END criterion=entropy, max_depth=0, max_features=auto, min_samples_leaf=1, min_samples_split=10, n_estimators=100; total time=   0.0s\n",
      "[CV] END criterion=entropy, max_depth=0, max_features=auto, min_samples_leaf=1, min_samples_split=10, n_estimators=100; total time=   0.0s\n",
      "[CV] END criterion=entropy, max_depth=0, max_features=auto, min_samples_leaf=1, min_samples_split=10, n_estimators=100; total time=   0.0s\n",
      "[CV] END criterion=entropy, max_depth=0, max_features=auto, min_samples_leaf=1, min_samples_split=10, n_estimators=100; total time=   0.0s\n",
      "[CV] END criterion=entropy, max_depth=0, max_features=auto, min_samples_leaf=1, min_samples_split=10, n_estimators=200; total time=   0.1s\n",
      "[CV] END criterion=entropy, max_depth=0, max_features=auto, min_samples_leaf=1, min_samples_split=10, n_estimators=200; total time=   0.1s\n",
      "[CV] END criterion=entropy, max_depth=0, max_features=auto, min_samples_leaf=1, min_samples_split=10, n_estimators=200; total time=   0.1s\n",
      "[CV] END criterion=entropy, max_depth=0, max_features=auto, min_samples_leaf=1, min_samples_split=10, n_estimators=200; total time=   0.1s\n",
      "[CV] END criterion=entropy, max_depth=0, max_features=auto, min_samples_leaf=1, min_samples_split=10, n_estimators=200; total time=   0.1s\n",
      "[CV] END criterion=entropy, max_depth=0, max_features=auto, min_samples_leaf=1, min_samples_split=10, n_estimators=300; total time=   0.2s\n",
      "[CV] END criterion=entropy, max_depth=0, max_features=auto, min_samples_leaf=1, min_samples_split=10, n_estimators=300; total time=   0.2s\n",
      "[CV] END criterion=entropy, max_depth=0, max_features=auto, min_samples_leaf=1, min_samples_split=10, n_estimators=300; total time=   0.2s\n",
      "[CV] END criterion=entropy, max_depth=0, max_features=auto, min_samples_leaf=1, min_samples_split=10, n_estimators=300; total time=   0.1s\n",
      "[CV] END criterion=entropy, max_depth=0, max_features=auto, min_samples_leaf=1, min_samples_split=10, n_estimators=300; total time=   0.1s\n",
      "[CV] END criterion=entropy, max_depth=0, max_features=auto, min_samples_leaf=1, min_samples_split=10, n_estimators=400; total time=   0.2s\n",
      "[CV] END criterion=entropy, max_depth=0, max_features=auto, min_samples_leaf=1, min_samples_split=10, n_estimators=400; total time=   0.2s\n",
      "[CV] END criterion=entropy, max_depth=0, max_features=auto, min_samples_leaf=1, min_samples_split=10, n_estimators=400; total time=   0.2s\n",
      "[CV] END criterion=entropy, max_depth=0, max_features=auto, min_samples_leaf=1, min_samples_split=10, n_estimators=400; total time=   0.2s\n",
      "[CV] END criterion=entropy, max_depth=0, max_features=auto, min_samples_leaf=1, min_samples_split=10, n_estimators=400; total time=   0.3s\n",
      "[CV] END criterion=entropy, max_depth=0, max_features=auto, min_samples_leaf=1, min_samples_split=14, n_estimators=100; total time=   0.0s\n",
      "[CV] END criterion=entropy, max_depth=0, max_features=auto, min_samples_leaf=1, min_samples_split=14, n_estimators=100; total time=   0.0s\n",
      "[CV] END criterion=entropy, max_depth=0, max_features=auto, min_samples_leaf=1, min_samples_split=14, n_estimators=100; total time=   0.0s\n",
      "[CV] END criterion=entropy, max_depth=0, max_features=auto, min_samples_leaf=1, min_samples_split=14, n_estimators=100; total time=   0.0s\n",
      "[CV] END criterion=entropy, max_depth=0, max_features=auto, min_samples_leaf=1, min_samples_split=14, n_estimators=100; total time=   0.0s\n",
      "[CV] END criterion=entropy, max_depth=0, max_features=auto, min_samples_leaf=1, min_samples_split=14, n_estimators=200; total time=   0.0s\n",
      "[CV] END criterion=entropy, max_depth=0, max_features=auto, min_samples_leaf=1, min_samples_split=14, n_estimators=200; total time=   0.1s\n",
      "[CV] END criterion=entropy, max_depth=0, max_features=auto, min_samples_leaf=1, min_samples_split=14, n_estimators=200; total time=   0.1s\n",
      "[CV] END criterion=entropy, max_depth=0, max_features=auto, min_samples_leaf=1, min_samples_split=14, n_estimators=200; total time=   0.0s\n",
      "[CV] END criterion=entropy, max_depth=0, max_features=auto, min_samples_leaf=1, min_samples_split=14, n_estimators=200; total time=   0.0s\n",
      "[CV] END criterion=entropy, max_depth=0, max_features=auto, min_samples_leaf=1, min_samples_split=14, n_estimators=300; total time=   0.1s\n",
      "[CV] END criterion=entropy, max_depth=0, max_features=auto, min_samples_leaf=1, min_samples_split=14, n_estimators=300; total time=   0.1s\n",
      "[CV] END criterion=entropy, max_depth=0, max_features=auto, min_samples_leaf=1, min_samples_split=14, n_estimators=300; total time=   0.1s\n",
      "[CV] END criterion=entropy, max_depth=0, max_features=auto, min_samples_leaf=1, min_samples_split=14, n_estimators=300; total time=   0.1s\n",
      "[CV] END criterion=entropy, max_depth=0, max_features=auto, min_samples_leaf=1, min_samples_split=14, n_estimators=300; total time=   0.1s\n",
      "[CV] END criterion=entropy, max_depth=0, max_features=auto, min_samples_leaf=1, min_samples_split=14, n_estimators=400; total time=   0.2s\n",
      "[CV] END criterion=entropy, max_depth=0, max_features=auto, min_samples_leaf=1, min_samples_split=14, n_estimators=400; total time=   0.2s\n",
      "[CV] END criterion=entropy, max_depth=0, max_features=auto, min_samples_leaf=1, min_samples_split=14, n_estimators=400; total time=   0.3s\n",
      "[CV] END criterion=entropy, max_depth=0, max_features=auto, min_samples_leaf=1, min_samples_split=14, n_estimators=400; total time=   0.2s\n",
      "[CV] END criterion=entropy, max_depth=0, max_features=auto, min_samples_leaf=1, min_samples_split=14, n_estimators=400; total time=   0.2s\n",
      "[CV] END criterion=entropy, max_depth=0, max_features=auto, min_samples_leaf=1, min_samples_split=18, n_estimators=100; total time=   0.0s\n",
      "[CV] END criterion=entropy, max_depth=0, max_features=auto, min_samples_leaf=1, min_samples_split=18, n_estimators=100; total time=   0.0s\n",
      "[CV] END criterion=entropy, max_depth=0, max_features=auto, min_samples_leaf=1, min_samples_split=18, n_estimators=100; total time=   0.0s\n",
      "[CV] END criterion=entropy, max_depth=0, max_features=auto, min_samples_leaf=1, min_samples_split=18, n_estimators=100; total time=   0.0s\n",
      "[CV] END criterion=entropy, max_depth=0, max_features=auto, min_samples_leaf=1, min_samples_split=18, n_estimators=100; total time=   0.0s\n",
      "[CV] END criterion=entropy, max_depth=0, max_features=auto, min_samples_leaf=1, min_samples_split=18, n_estimators=200; total time=   0.0s\n",
      "[CV] END criterion=entropy, max_depth=0, max_features=auto, min_samples_leaf=1, min_samples_split=18, n_estimators=200; total time=   0.0s\n",
      "[CV] END criterion=entropy, max_depth=0, max_features=auto, min_samples_leaf=1, min_samples_split=18, n_estimators=200; total time=   0.0s\n",
      "[CV] END criterion=entropy, max_depth=0, max_features=auto, min_samples_leaf=1, min_samples_split=18, n_estimators=200; total time=   0.1s\n",
      "[CV] END criterion=entropy, max_depth=0, max_features=auto, min_samples_leaf=1, min_samples_split=18, n_estimators=200; total time=   0.0s\n",
      "[CV] END criterion=entropy, max_depth=0, max_features=auto, min_samples_leaf=1, min_samples_split=18, n_estimators=300; total time=   0.1s\n",
      "[CV] END criterion=entropy, max_depth=0, max_features=auto, min_samples_leaf=1, min_samples_split=18, n_estimators=300; total time=   0.2s\n",
      "[CV] END criterion=entropy, max_depth=0, max_features=auto, min_samples_leaf=1, min_samples_split=18, n_estimators=300; total time=   0.1s\n",
      "[CV] END criterion=entropy, max_depth=0, max_features=auto, min_samples_leaf=1, min_samples_split=18, n_estimators=300; total time=   0.2s\n",
      "[CV] END criterion=entropy, max_depth=0, max_features=auto, min_samples_leaf=1, min_samples_split=18, n_estimators=300; total time=   0.1s\n",
      "[CV] END criterion=entropy, max_depth=0, max_features=auto, min_samples_leaf=1, min_samples_split=18, n_estimators=400; total time=   0.2s\n",
      "[CV] END criterion=entropy, max_depth=0, max_features=auto, min_samples_leaf=1, min_samples_split=18, n_estimators=400; total time=   0.2s\n",
      "[CV] END criterion=entropy, max_depth=0, max_features=auto, min_samples_leaf=1, min_samples_split=18, n_estimators=400; total time=   0.2s\n",
      "[CV] END criterion=entropy, max_depth=0, max_features=auto, min_samples_leaf=1, min_samples_split=18, n_estimators=400; total time=   0.2s\n",
      "[CV] END criterion=entropy, max_depth=0, max_features=auto, min_samples_leaf=1, min_samples_split=18, n_estimators=400; total time=   0.2s\n",
      "[CV] END criterion=entropy, max_depth=0, max_features=auto, min_samples_leaf=2, min_samples_split=2, n_estimators=100; total time=   0.0s\n",
      "[CV] END criterion=entropy, max_depth=0, max_features=auto, min_samples_leaf=2, min_samples_split=2, n_estimators=100; total time=   0.0s\n",
      "[CV] END criterion=entropy, max_depth=0, max_features=auto, min_samples_leaf=2, min_samples_split=2, n_estimators=100; total time=   0.0s\n",
      "[CV] END criterion=entropy, max_depth=0, max_features=auto, min_samples_leaf=2, min_samples_split=2, n_estimators=100; total time=   0.0s\n",
      "[CV] END criterion=entropy, max_depth=0, max_features=auto, min_samples_leaf=2, min_samples_split=2, n_estimators=100; total time=   0.0s\n",
      "[CV] END criterion=entropy, max_depth=0, max_features=auto, min_samples_leaf=2, min_samples_split=2, n_estimators=200; total time=   0.0s\n",
      "[CV] END criterion=entropy, max_depth=0, max_features=auto, min_samples_leaf=2, min_samples_split=2, n_estimators=200; total time=   0.1s\n",
      "[CV] END criterion=entropy, max_depth=0, max_features=auto, min_samples_leaf=2, min_samples_split=2, n_estimators=200; total time=   0.0s\n",
      "[CV] END criterion=entropy, max_depth=0, max_features=auto, min_samples_leaf=2, min_samples_split=2, n_estimators=200; total time=   0.0s\n",
      "[CV] END criterion=entropy, max_depth=0, max_features=auto, min_samples_leaf=2, min_samples_split=2, n_estimators=200; total time=   0.0s\n",
      "[CV] END criterion=entropy, max_depth=0, max_features=auto, min_samples_leaf=2, min_samples_split=2, n_estimators=300; total time=   0.1s\n",
      "[CV] END criterion=entropy, max_depth=0, max_features=auto, min_samples_leaf=2, min_samples_split=2, n_estimators=300; total time=   0.1s\n",
      "[CV] END criterion=entropy, max_depth=0, max_features=auto, min_samples_leaf=2, min_samples_split=2, n_estimators=300; total time=   0.1s\n",
      "[CV] END criterion=entropy, max_depth=0, max_features=auto, min_samples_leaf=2, min_samples_split=2, n_estimators=300; total time=   0.1s\n",
      "[CV] END criterion=entropy, max_depth=0, max_features=auto, min_samples_leaf=2, min_samples_split=2, n_estimators=300; total time=   0.1s\n",
      "[CV] END criterion=entropy, max_depth=0, max_features=auto, min_samples_leaf=2, min_samples_split=2, n_estimators=400; total time=   0.2s\n",
      "[CV] END criterion=entropy, max_depth=0, max_features=auto, min_samples_leaf=2, min_samples_split=2, n_estimators=400; total time=   0.1s\n",
      "[CV] END criterion=entropy, max_depth=0, max_features=auto, min_samples_leaf=2, min_samples_split=2, n_estimators=400; total time=   0.1s\n",
      "[CV] END criterion=entropy, max_depth=0, max_features=auto, min_samples_leaf=2, min_samples_split=2, n_estimators=400; total time=   0.1s\n",
      "[CV] END criterion=entropy, max_depth=0, max_features=auto, min_samples_leaf=2, min_samples_split=2, n_estimators=400; total time=   0.1s\n",
      "[CV] END criterion=entropy, max_depth=0, max_features=auto, min_samples_leaf=2, min_samples_split=6, n_estimators=100; total time=   0.0s\n",
      "[CV] END criterion=entropy, max_depth=0, max_features=auto, min_samples_leaf=2, min_samples_split=6, n_estimators=100; total time=   0.0s\n",
      "[CV] END criterion=entropy, max_depth=0, max_features=auto, min_samples_leaf=2, min_samples_split=6, n_estimators=100; total time=   0.0s\n",
      "[CV] END criterion=entropy, max_depth=0, max_features=auto, min_samples_leaf=2, min_samples_split=6, n_estimators=100; total time=   0.0s\n",
      "[CV] END criterion=entropy, max_depth=0, max_features=auto, min_samples_leaf=2, min_samples_split=6, n_estimators=100; total time=   0.0s\n",
      "[CV] END criterion=entropy, max_depth=0, max_features=auto, min_samples_leaf=2, min_samples_split=6, n_estimators=200; total time=   0.0s\n",
      "[CV] END criterion=entropy, max_depth=0, max_features=auto, min_samples_leaf=2, min_samples_split=6, n_estimators=200; total time=   0.0s\n",
      "[CV] END criterion=entropy, max_depth=0, max_features=auto, min_samples_leaf=2, min_samples_split=6, n_estimators=200; total time=   0.0s\n",
      "[CV] END criterion=entropy, max_depth=0, max_features=auto, min_samples_leaf=2, min_samples_split=6, n_estimators=200; total time=   0.0s\n",
      "[CV] END criterion=entropy, max_depth=0, max_features=auto, min_samples_leaf=2, min_samples_split=6, n_estimators=200; total time=   0.0s\n",
      "[CV] END criterion=entropy, max_depth=0, max_features=auto, min_samples_leaf=2, min_samples_split=6, n_estimators=300; total time=   0.1s\n",
      "[CV] END criterion=entropy, max_depth=0, max_features=auto, min_samples_leaf=2, min_samples_split=6, n_estimators=300; total time=   0.1s\n",
      "[CV] END criterion=entropy, max_depth=0, max_features=auto, min_samples_leaf=2, min_samples_split=6, n_estimators=300; total time=   0.1s\n",
      "[CV] END criterion=entropy, max_depth=0, max_features=auto, min_samples_leaf=2, min_samples_split=6, n_estimators=300; total time=   0.1s\n",
      "[CV] END criterion=entropy, max_depth=0, max_features=auto, min_samples_leaf=2, min_samples_split=6, n_estimators=300; total time=   0.1s\n",
      "[CV] END criterion=entropy, max_depth=0, max_features=auto, min_samples_leaf=2, min_samples_split=6, n_estimators=400; total time=   0.1s\n",
      "[CV] END criterion=entropy, max_depth=0, max_features=auto, min_samples_leaf=2, min_samples_split=6, n_estimators=400; total time=   0.2s\n",
      "[CV] END criterion=entropy, max_depth=0, max_features=auto, min_samples_leaf=2, min_samples_split=6, n_estimators=400; total time=   0.1s\n",
      "[CV] END criterion=entropy, max_depth=0, max_features=auto, min_samples_leaf=2, min_samples_split=6, n_estimators=400; total time=   0.1s\n",
      "[CV] END criterion=entropy, max_depth=0, max_features=auto, min_samples_leaf=2, min_samples_split=6, n_estimators=400; total time=   0.1s\n",
      "[CV] END criterion=entropy, max_depth=0, max_features=auto, min_samples_leaf=2, min_samples_split=10, n_estimators=100; total time=   0.0s\n",
      "[CV] END criterion=entropy, max_depth=0, max_features=auto, min_samples_leaf=2, min_samples_split=10, n_estimators=100; total time=   0.0s\n",
      "[CV] END criterion=entropy, max_depth=0, max_features=auto, min_samples_leaf=2, min_samples_split=10, n_estimators=100; total time=   0.0s\n",
      "[CV] END criterion=entropy, max_depth=0, max_features=auto, min_samples_leaf=2, min_samples_split=10, n_estimators=100; total time=   0.0s\n",
      "[CV] END criterion=entropy, max_depth=0, max_features=auto, min_samples_leaf=2, min_samples_split=10, n_estimators=100; total time=   0.0s\n",
      "[CV] END criterion=entropy, max_depth=0, max_features=auto, min_samples_leaf=2, min_samples_split=10, n_estimators=200; total time=   0.0s\n",
      "[CV] END criterion=entropy, max_depth=0, max_features=auto, min_samples_leaf=2, min_samples_split=10, n_estimators=200; total time=   0.0s\n",
      "[CV] END criterion=entropy, max_depth=0, max_features=auto, min_samples_leaf=2, min_samples_split=10, n_estimators=200; total time=   0.0s\n",
      "[CV] END criterion=entropy, max_depth=0, max_features=auto, min_samples_leaf=2, min_samples_split=10, n_estimators=200; total time=   0.0s\n",
      "[CV] END criterion=entropy, max_depth=0, max_features=auto, min_samples_leaf=2, min_samples_split=10, n_estimators=200; total time=   0.0s\n",
      "[CV] END criterion=entropy, max_depth=0, max_features=auto, min_samples_leaf=2, min_samples_split=10, n_estimators=300; total time=   0.1s\n",
      "[CV] END criterion=entropy, max_depth=0, max_features=auto, min_samples_leaf=2, min_samples_split=10, n_estimators=300; total time=   0.1s\n",
      "[CV] END criterion=entropy, max_depth=0, max_features=auto, min_samples_leaf=2, min_samples_split=10, n_estimators=300; total time=   0.0s\n",
      "[CV] END criterion=entropy, max_depth=0, max_features=auto, min_samples_leaf=2, min_samples_split=10, n_estimators=300; total time=   0.1s\n",
      "[CV] END criterion=entropy, max_depth=0, max_features=auto, min_samples_leaf=2, min_samples_split=10, n_estimators=300; total time=   0.1s\n",
      "[CV] END criterion=entropy, max_depth=0, max_features=auto, min_samples_leaf=2, min_samples_split=10, n_estimators=400; total time=   0.1s\n",
      "[CV] END criterion=entropy, max_depth=0, max_features=auto, min_samples_leaf=2, min_samples_split=10, n_estimators=400; total time=   0.1s\n",
      "[CV] END criterion=entropy, max_depth=0, max_features=auto, min_samples_leaf=2, min_samples_split=10, n_estimators=400; total time=   0.1s\n",
      "[CV] END criterion=entropy, max_depth=0, max_features=auto, min_samples_leaf=2, min_samples_split=10, n_estimators=400; total time=   0.1s\n",
      "[CV] END criterion=entropy, max_depth=0, max_features=auto, min_samples_leaf=2, min_samples_split=10, n_estimators=400; total time=   0.1s\n",
      "[CV] END criterion=entropy, max_depth=0, max_features=auto, min_samples_leaf=2, min_samples_split=14, n_estimators=100; total time=   0.0s\n",
      "[CV] END criterion=entropy, max_depth=0, max_features=auto, min_samples_leaf=2, min_samples_split=14, n_estimators=100; total time=   0.0s\n",
      "[CV] END criterion=entropy, max_depth=0, max_features=auto, min_samples_leaf=2, min_samples_split=14, n_estimators=100; total time=   0.0s\n",
      "[CV] END criterion=entropy, max_depth=0, max_features=auto, min_samples_leaf=2, min_samples_split=14, n_estimators=100; total time=   0.0s\n",
      "[CV] END criterion=entropy, max_depth=0, max_features=auto, min_samples_leaf=2, min_samples_split=14, n_estimators=100; total time=   0.0s\n",
      "[CV] END criterion=entropy, max_depth=0, max_features=auto, min_samples_leaf=2, min_samples_split=14, n_estimators=200; total time=   0.0s\n",
      "[CV] END criterion=entropy, max_depth=0, max_features=auto, min_samples_leaf=2, min_samples_split=14, n_estimators=200; total time=   0.0s\n",
      "[CV] END criterion=entropy, max_depth=0, max_features=auto, min_samples_leaf=2, min_samples_split=14, n_estimators=200; total time=   0.0s\n",
      "[CV] END criterion=entropy, max_depth=0, max_features=auto, min_samples_leaf=2, min_samples_split=14, n_estimators=200; total time=   0.0s\n",
      "[CV] END criterion=entropy, max_depth=0, max_features=auto, min_samples_leaf=2, min_samples_split=14, n_estimators=200; total time=   0.0s\n",
      "[CV] END criterion=entropy, max_depth=0, max_features=auto, min_samples_leaf=2, min_samples_split=14, n_estimators=300; total time=   0.1s\n",
      "[CV] END criterion=entropy, max_depth=0, max_features=auto, min_samples_leaf=2, min_samples_split=14, n_estimators=300; total time=   0.0s\n",
      "[CV] END criterion=entropy, max_depth=0, max_features=auto, min_samples_leaf=2, min_samples_split=14, n_estimators=300; total time=   0.1s\n",
      "[CV] END criterion=entropy, max_depth=0, max_features=auto, min_samples_leaf=2, min_samples_split=14, n_estimators=300; total time=   0.1s\n",
      "[CV] END criterion=entropy, max_depth=0, max_features=auto, min_samples_leaf=2, min_samples_split=14, n_estimators=300; total time=   0.2s\n",
      "[CV] END criterion=entropy, max_depth=0, max_features=auto, min_samples_leaf=2, min_samples_split=14, n_estimators=400; total time=   0.3s\n",
      "[CV] END criterion=entropy, max_depth=0, max_features=auto, min_samples_leaf=2, min_samples_split=14, n_estimators=400; total time=   0.2s\n",
      "[CV] END criterion=entropy, max_depth=0, max_features=auto, min_samples_leaf=2, min_samples_split=14, n_estimators=400; total time=   0.1s\n",
      "[CV] END criterion=entropy, max_depth=0, max_features=auto, min_samples_leaf=2, min_samples_split=14, n_estimators=400; total time=   0.1s\n",
      "[CV] END criterion=entropy, max_depth=0, max_features=auto, min_samples_leaf=2, min_samples_split=14, n_estimators=400; total time=   0.1s\n",
      "[CV] END criterion=entropy, max_depth=0, max_features=auto, min_samples_leaf=2, min_samples_split=18, n_estimators=100; total time=   0.0s\n",
      "[CV] END criterion=entropy, max_depth=0, max_features=auto, min_samples_leaf=2, min_samples_split=18, n_estimators=100; total time=   0.0s\n",
      "[CV] END criterion=entropy, max_depth=0, max_features=auto, min_samples_leaf=2, min_samples_split=18, n_estimators=100; total time=   0.0s\n",
      "[CV] END criterion=entropy, max_depth=0, max_features=auto, min_samples_leaf=2, min_samples_split=18, n_estimators=100; total time=   0.0s\n",
      "[CV] END criterion=entropy, max_depth=0, max_features=auto, min_samples_leaf=2, min_samples_split=18, n_estimators=100; total time=   0.0s\n",
      "[CV] END criterion=entropy, max_depth=0, max_features=auto, min_samples_leaf=2, min_samples_split=18, n_estimators=200; total time=   0.0s\n",
      "[CV] END criterion=entropy, max_depth=0, max_features=auto, min_samples_leaf=2, min_samples_split=18, n_estimators=200; total time=   0.0s\n",
      "[CV] END criterion=entropy, max_depth=0, max_features=auto, min_samples_leaf=2, min_samples_split=18, n_estimators=200; total time=   0.0s\n",
      "[CV] END criterion=entropy, max_depth=0, max_features=auto, min_samples_leaf=2, min_samples_split=18, n_estimators=200; total time=   0.0s\n",
      "[CV] END criterion=entropy, max_depth=0, max_features=auto, min_samples_leaf=2, min_samples_split=18, n_estimators=200; total time=   0.0s\n",
      "[CV] END criterion=entropy, max_depth=0, max_features=auto, min_samples_leaf=2, min_samples_split=18, n_estimators=300; total time=   0.0s\n",
      "[CV] END criterion=entropy, max_depth=0, max_features=auto, min_samples_leaf=2, min_samples_split=18, n_estimators=300; total time=   0.1s\n",
      "[CV] END criterion=entropy, max_depth=0, max_features=auto, min_samples_leaf=2, min_samples_split=18, n_estimators=300; total time=   0.0s\n",
      "[CV] END criterion=entropy, max_depth=0, max_features=auto, min_samples_leaf=2, min_samples_split=18, n_estimators=300; total time=   0.1s\n",
      "[CV] END criterion=entropy, max_depth=0, max_features=auto, min_samples_leaf=2, min_samples_split=18, n_estimators=300; total time=   0.1s\n",
      "[CV] END criterion=entropy, max_depth=0, max_features=auto, min_samples_leaf=2, min_samples_split=18, n_estimators=400; total time=   0.1s\n",
      "[CV] END criterion=entropy, max_depth=0, max_features=auto, min_samples_leaf=2, min_samples_split=18, n_estimators=400; total time=   0.1s\n",
      "[CV] END criterion=entropy, max_depth=0, max_features=auto, min_samples_leaf=2, min_samples_split=18, n_estimators=400; total time=   0.1s\n",
      "[CV] END criterion=entropy, max_depth=0, max_features=auto, min_samples_leaf=2, min_samples_split=18, n_estimators=400; total time=   0.1s\n",
      "[CV] END criterion=entropy, max_depth=0, max_features=auto, min_samples_leaf=2, min_samples_split=18, n_estimators=400; total time=   0.1s\n",
      "[CV] END criterion=entropy, max_depth=0, max_features=auto, min_samples_leaf=3, min_samples_split=2, n_estimators=100; total time=   0.0s\n",
      "[CV] END criterion=entropy, max_depth=0, max_features=auto, min_samples_leaf=3, min_samples_split=2, n_estimators=100; total time=   0.0s\n",
      "[CV] END criterion=entropy, max_depth=0, max_features=auto, min_samples_leaf=3, min_samples_split=2, n_estimators=100; total time=   0.0s\n",
      "[CV] END criterion=entropy, max_depth=0, max_features=auto, min_samples_leaf=3, min_samples_split=2, n_estimators=100; total time=   0.0s\n",
      "[CV] END criterion=entropy, max_depth=0, max_features=auto, min_samples_leaf=3, min_samples_split=2, n_estimators=100; total time=   0.0s\n",
      "[CV] END criterion=entropy, max_depth=0, max_features=auto, min_samples_leaf=3, min_samples_split=2, n_estimators=200; total time=   0.0s\n",
      "[CV] END criterion=entropy, max_depth=0, max_features=auto, min_samples_leaf=3, min_samples_split=2, n_estimators=200; total time=   0.0s\n",
      "[CV] END criterion=entropy, max_depth=0, max_features=auto, min_samples_leaf=3, min_samples_split=2, n_estimators=200; total time=   0.0s\n",
      "[CV] END criterion=entropy, max_depth=0, max_features=auto, min_samples_leaf=3, min_samples_split=2, n_estimators=200; total time=   0.0s\n",
      "[CV] END criterion=entropy, max_depth=0, max_features=auto, min_samples_leaf=3, min_samples_split=2, n_estimators=200; total time=   0.0s\n",
      "[CV] END criterion=entropy, max_depth=0, max_features=auto, min_samples_leaf=3, min_samples_split=2, n_estimators=300; total time=   0.0s\n",
      "[CV] END criterion=entropy, max_depth=0, max_features=auto, min_samples_leaf=3, min_samples_split=2, n_estimators=300; total time=   0.0s\n",
      "[CV] END criterion=entropy, max_depth=0, max_features=auto, min_samples_leaf=3, min_samples_split=2, n_estimators=300; total time=   0.1s\n",
      "[CV] END criterion=entropy, max_depth=0, max_features=auto, min_samples_leaf=3, min_samples_split=2, n_estimators=300; total time=   0.1s\n",
      "[CV] END criterion=entropy, max_depth=0, max_features=auto, min_samples_leaf=3, min_samples_split=2, n_estimators=300; total time=   0.1s\n",
      "[CV] END criterion=entropy, max_depth=0, max_features=auto, min_samples_leaf=3, min_samples_split=2, n_estimators=400; total time=   0.1s\n",
      "[CV] END criterion=entropy, max_depth=0, max_features=auto, min_samples_leaf=3, min_samples_split=2, n_estimators=400; total time=   0.1s\n",
      "[CV] END criterion=entropy, max_depth=0, max_features=auto, min_samples_leaf=3, min_samples_split=2, n_estimators=400; total time=   0.1s\n",
      "[CV] END criterion=entropy, max_depth=0, max_features=auto, min_samples_leaf=3, min_samples_split=2, n_estimators=400; total time=   0.1s\n",
      "[CV] END criterion=entropy, max_depth=0, max_features=auto, min_samples_leaf=3, min_samples_split=2, n_estimators=400; total time=   0.1s\n",
      "[CV] END criterion=entropy, max_depth=0, max_features=auto, min_samples_leaf=3, min_samples_split=6, n_estimators=100; total time=   0.0s\n",
      "[CV] END criterion=entropy, max_depth=0, max_features=auto, min_samples_leaf=3, min_samples_split=6, n_estimators=100; total time=   0.0s\n",
      "[CV] END criterion=entropy, max_depth=0, max_features=auto, min_samples_leaf=3, min_samples_split=6, n_estimators=100; total time=   0.0s\n",
      "[CV] END criterion=entropy, max_depth=0, max_features=auto, min_samples_leaf=3, min_samples_split=6, n_estimators=100; total time=   0.0s\n",
      "[CV] END criterion=entropy, max_depth=0, max_features=auto, min_samples_leaf=3, min_samples_split=6, n_estimators=100; total time=   0.0s\n",
      "[CV] END criterion=entropy, max_depth=0, max_features=auto, min_samples_leaf=3, min_samples_split=6, n_estimators=200; total time=   0.0s\n",
      "[CV] END criterion=entropy, max_depth=0, max_features=auto, min_samples_leaf=3, min_samples_split=6, n_estimators=200; total time=   0.0s\n",
      "[CV] END criterion=entropy, max_depth=0, max_features=auto, min_samples_leaf=3, min_samples_split=6, n_estimators=200; total time=   0.0s\n",
      "[CV] END criterion=entropy, max_depth=0, max_features=auto, min_samples_leaf=3, min_samples_split=6, n_estimators=200; total time=   0.0s\n",
      "[CV] END criterion=entropy, max_depth=0, max_features=auto, min_samples_leaf=3, min_samples_split=6, n_estimators=200; total time=   0.0s\n",
      "[CV] END criterion=entropy, max_depth=0, max_features=auto, min_samples_leaf=3, min_samples_split=6, n_estimators=300; total time=   0.0s\n",
      "[CV] END criterion=entropy, max_depth=0, max_features=auto, min_samples_leaf=3, min_samples_split=6, n_estimators=300; total time=   0.0s\n",
      "[CV] END criterion=entropy, max_depth=0, max_features=auto, min_samples_leaf=3, min_samples_split=6, n_estimators=300; total time=   0.0s\n",
      "[CV] END criterion=entropy, max_depth=0, max_features=auto, min_samples_leaf=3, min_samples_split=6, n_estimators=300; total time=   0.1s\n",
      "[CV] END criterion=entropy, max_depth=0, max_features=auto, min_samples_leaf=3, min_samples_split=6, n_estimators=300; total time=   0.0s\n",
      "[CV] END criterion=entropy, max_depth=0, max_features=auto, min_samples_leaf=3, min_samples_split=6, n_estimators=400; total time=   0.1s\n",
      "[CV] END criterion=entropy, max_depth=0, max_features=auto, min_samples_leaf=3, min_samples_split=6, n_estimators=400; total time=   0.1s\n",
      "[CV] END criterion=entropy, max_depth=0, max_features=auto, min_samples_leaf=3, min_samples_split=6, n_estimators=400; total time=   0.1s\n",
      "[CV] END criterion=entropy, max_depth=0, max_features=auto, min_samples_leaf=3, min_samples_split=6, n_estimators=400; total time=   0.2s\n",
      "[CV] END criterion=entropy, max_depth=0, max_features=auto, min_samples_leaf=3, min_samples_split=6, n_estimators=400; total time=   0.3s\n",
      "[CV] END criterion=entropy, max_depth=0, max_features=auto, min_samples_leaf=3, min_samples_split=10, n_estimators=100; total time=   0.0s\n",
      "[CV] END criterion=entropy, max_depth=0, max_features=auto, min_samples_leaf=3, min_samples_split=10, n_estimators=100; total time=   0.0s\n",
      "[CV] END criterion=entropy, max_depth=0, max_features=auto, min_samples_leaf=3, min_samples_split=10, n_estimators=100; total time=   0.0s\n",
      "[CV] END criterion=entropy, max_depth=0, max_features=auto, min_samples_leaf=3, min_samples_split=10, n_estimators=100; total time=   0.0s\n",
      "[CV] END criterion=entropy, max_depth=0, max_features=auto, min_samples_leaf=3, min_samples_split=10, n_estimators=100; total time=   0.0s\n",
      "[CV] END criterion=entropy, max_depth=0, max_features=auto, min_samples_leaf=3, min_samples_split=10, n_estimators=200; total time=   0.0s\n",
      "[CV] END criterion=entropy, max_depth=0, max_features=auto, min_samples_leaf=3, min_samples_split=10, n_estimators=200; total time=   0.0s\n",
      "[CV] END criterion=entropy, max_depth=0, max_features=auto, min_samples_leaf=3, min_samples_split=10, n_estimators=200; total time=   0.0s\n",
      "[CV] END criterion=entropy, max_depth=0, max_features=auto, min_samples_leaf=3, min_samples_split=10, n_estimators=200; total time=   0.1s\n",
      "[CV] END criterion=entropy, max_depth=0, max_features=auto, min_samples_leaf=3, min_samples_split=10, n_estimators=200; total time=   0.1s\n",
      "[CV] END criterion=entropy, max_depth=0, max_features=auto, min_samples_leaf=3, min_samples_split=10, n_estimators=300; total time=   0.2s\n",
      "[CV] END criterion=entropy, max_depth=0, max_features=auto, min_samples_leaf=3, min_samples_split=10, n_estimators=300; total time=   0.2s\n",
      "[CV] END criterion=entropy, max_depth=0, max_features=auto, min_samples_leaf=3, min_samples_split=10, n_estimators=300; total time=   0.3s\n",
      "[CV] END criterion=entropy, max_depth=0, max_features=auto, min_samples_leaf=3, min_samples_split=10, n_estimators=300; total time=   0.2s\n",
      "[CV] END criterion=entropy, max_depth=0, max_features=auto, min_samples_leaf=3, min_samples_split=10, n_estimators=300; total time=   0.1s\n",
      "[CV] END criterion=entropy, max_depth=0, max_features=auto, min_samples_leaf=3, min_samples_split=10, n_estimators=400; total time=   0.2s\n",
      "[CV] END criterion=entropy, max_depth=0, max_features=auto, min_samples_leaf=3, min_samples_split=10, n_estimators=400; total time=   0.2s\n",
      "[CV] END criterion=entropy, max_depth=0, max_features=auto, min_samples_leaf=3, min_samples_split=10, n_estimators=400; total time=   0.2s\n",
      "[CV] END criterion=entropy, max_depth=0, max_features=auto, min_samples_leaf=3, min_samples_split=10, n_estimators=400; total time=   0.2s\n",
      "[CV] END criterion=entropy, max_depth=0, max_features=auto, min_samples_leaf=3, min_samples_split=10, n_estimators=400; total time=   0.2s\n",
      "[CV] END criterion=entropy, max_depth=0, max_features=auto, min_samples_leaf=3, min_samples_split=14, n_estimators=100; total time=   0.0s\n",
      "[CV] END criterion=entropy, max_depth=0, max_features=auto, min_samples_leaf=3, min_samples_split=14, n_estimators=100; total time=   0.0s\n",
      "[CV] END criterion=entropy, max_depth=0, max_features=auto, min_samples_leaf=3, min_samples_split=14, n_estimators=100; total time=   0.0s\n",
      "[CV] END criterion=entropy, max_depth=0, max_features=auto, min_samples_leaf=3, min_samples_split=14, n_estimators=100; total time=   0.0s\n",
      "[CV] END criterion=entropy, max_depth=0, max_features=auto, min_samples_leaf=3, min_samples_split=14, n_estimators=100; total time=   0.0s\n",
      "[CV] END criterion=entropy, max_depth=0, max_features=auto, min_samples_leaf=3, min_samples_split=14, n_estimators=200; total time=   0.1s\n",
      "[CV] END criterion=entropy, max_depth=0, max_features=auto, min_samples_leaf=3, min_samples_split=14, n_estimators=200; total time=   0.0s\n",
      "[CV] END criterion=entropy, max_depth=0, max_features=auto, min_samples_leaf=3, min_samples_split=14, n_estimators=200; total time=   0.0s\n",
      "[CV] END criterion=entropy, max_depth=0, max_features=auto, min_samples_leaf=3, min_samples_split=14, n_estimators=200; total time=   0.0s\n",
      "[CV] END criterion=entropy, max_depth=0, max_features=auto, min_samples_leaf=3, min_samples_split=14, n_estimators=200; total time=   0.0s\n",
      "[CV] END criterion=entropy, max_depth=0, max_features=auto, min_samples_leaf=3, min_samples_split=14, n_estimators=300; total time=   0.1s\n",
      "[CV] END criterion=entropy, max_depth=0, max_features=auto, min_samples_leaf=3, min_samples_split=14, n_estimators=300; total time=   0.1s\n",
      "[CV] END criterion=entropy, max_depth=0, max_features=auto, min_samples_leaf=3, min_samples_split=14, n_estimators=300; total time=   0.1s\n",
      "[CV] END criterion=entropy, max_depth=0, max_features=auto, min_samples_leaf=3, min_samples_split=14, n_estimators=300; total time=   0.1s\n",
      "[CV] END criterion=entropy, max_depth=0, max_features=auto, min_samples_leaf=3, min_samples_split=14, n_estimators=300; total time=   0.1s\n",
      "[CV] END criterion=entropy, max_depth=0, max_features=auto, min_samples_leaf=3, min_samples_split=14, n_estimators=400; total time=   0.2s\n",
      "[CV] END criterion=entropy, max_depth=0, max_features=auto, min_samples_leaf=3, min_samples_split=14, n_estimators=400; total time=   0.3s\n",
      "[CV] END criterion=entropy, max_depth=0, max_features=auto, min_samples_leaf=3, min_samples_split=14, n_estimators=400; total time=   0.5s\n",
      "[CV] END criterion=entropy, max_depth=0, max_features=auto, min_samples_leaf=3, min_samples_split=14, n_estimators=400; total time=   0.3s\n",
      "[CV] END criterion=entropy, max_depth=0, max_features=auto, min_samples_leaf=3, min_samples_split=14, n_estimators=400; total time=   0.3s\n",
      "[CV] END criterion=entropy, max_depth=0, max_features=auto, min_samples_leaf=3, min_samples_split=18, n_estimators=100; total time=   0.0s\n",
      "[CV] END criterion=entropy, max_depth=0, max_features=auto, min_samples_leaf=3, min_samples_split=18, n_estimators=100; total time=   0.0s\n",
      "[CV] END criterion=entropy, max_depth=0, max_features=auto, min_samples_leaf=3, min_samples_split=18, n_estimators=100; total time=   0.0s\n",
      "[CV] END criterion=entropy, max_depth=0, max_features=auto, min_samples_leaf=3, min_samples_split=18, n_estimators=100; total time=   0.0s\n",
      "[CV] END criterion=entropy, max_depth=0, max_features=auto, min_samples_leaf=3, min_samples_split=18, n_estimators=100; total time=   0.0s\n",
      "[CV] END criterion=entropy, max_depth=0, max_features=auto, min_samples_leaf=3, min_samples_split=18, n_estimators=200; total time=   0.1s\n",
      "[CV] END criterion=entropy, max_depth=0, max_features=auto, min_samples_leaf=3, min_samples_split=18, n_estimators=200; total time=   0.1s\n",
      "[CV] END criterion=entropy, max_depth=0, max_features=auto, min_samples_leaf=3, min_samples_split=18, n_estimators=200; total time=   0.1s\n",
      "[CV] END criterion=entropy, max_depth=0, max_features=auto, min_samples_leaf=3, min_samples_split=18, n_estimators=200; total time=   0.1s\n",
      "[CV] END criterion=entropy, max_depth=0, max_features=auto, min_samples_leaf=3, min_samples_split=18, n_estimators=200; total time=   0.1s\n",
      "[CV] END criterion=entropy, max_depth=0, max_features=auto, min_samples_leaf=3, min_samples_split=18, n_estimators=300; total time=   0.2s\n",
      "[CV] END criterion=entropy, max_depth=0, max_features=auto, min_samples_leaf=3, min_samples_split=18, n_estimators=300; total time=   0.2s\n",
      "[CV] END criterion=entropy, max_depth=0, max_features=auto, min_samples_leaf=3, min_samples_split=18, n_estimators=300; total time=   0.2s\n",
      "[CV] END criterion=entropy, max_depth=0, max_features=auto, min_samples_leaf=3, min_samples_split=18, n_estimators=300; total time=   0.2s\n",
      "[CV] END criterion=entropy, max_depth=0, max_features=auto, min_samples_leaf=3, min_samples_split=18, n_estimators=300; total time=   0.2s\n",
      "[CV] END criterion=entropy, max_depth=0, max_features=auto, min_samples_leaf=3, min_samples_split=18, n_estimators=400; total time=   0.3s\n",
      "[CV] END criterion=entropy, max_depth=0, max_features=auto, min_samples_leaf=3, min_samples_split=18, n_estimators=400; total time=   0.3s\n",
      "[CV] END criterion=entropy, max_depth=0, max_features=auto, min_samples_leaf=3, min_samples_split=18, n_estimators=400; total time=   0.3s\n",
      "[CV] END criterion=entropy, max_depth=0, max_features=auto, min_samples_leaf=3, min_samples_split=18, n_estimators=400; total time=   0.3s\n",
      "[CV] END criterion=entropy, max_depth=0, max_features=auto, min_samples_leaf=3, min_samples_split=18, n_estimators=400; total time=   0.3s\n",
      "[CV] END criterion=entropy, max_depth=0, max_features=auto, min_samples_leaf=4, min_samples_split=2, n_estimators=100; total time=   0.0s\n",
      "[CV] END criterion=entropy, max_depth=0, max_features=auto, min_samples_leaf=4, min_samples_split=2, n_estimators=100; total time=   0.0s\n",
      "[CV] END criterion=entropy, max_depth=0, max_features=auto, min_samples_leaf=4, min_samples_split=2, n_estimators=100; total time=   0.0s\n",
      "[CV] END criterion=entropy, max_depth=0, max_features=auto, min_samples_leaf=4, min_samples_split=2, n_estimators=100; total time=   0.0s\n",
      "[CV] END criterion=entropy, max_depth=0, max_features=auto, min_samples_leaf=4, min_samples_split=2, n_estimators=100; total time=   0.0s\n",
      "[CV] END criterion=entropy, max_depth=0, max_features=auto, min_samples_leaf=4, min_samples_split=2, n_estimators=200; total time=   0.1s\n",
      "[CV] END criterion=entropy, max_depth=0, max_features=auto, min_samples_leaf=4, min_samples_split=2, n_estimators=200; total time=   0.1s\n",
      "[CV] END criterion=entropy, max_depth=0, max_features=auto, min_samples_leaf=4, min_samples_split=2, n_estimators=200; total time=   0.1s\n",
      "[CV] END criterion=entropy, max_depth=0, max_features=auto, min_samples_leaf=4, min_samples_split=2, n_estimators=200; total time=   0.1s\n",
      "[CV] END criterion=entropy, max_depth=0, max_features=auto, min_samples_leaf=4, min_samples_split=2, n_estimators=200; total time=   0.1s\n",
      "[CV] END criterion=entropy, max_depth=0, max_features=auto, min_samples_leaf=4, min_samples_split=2, n_estimators=300; total time=   0.2s\n",
      "[CV] END criterion=entropy, max_depth=0, max_features=auto, min_samples_leaf=4, min_samples_split=2, n_estimators=300; total time=   0.2s\n",
      "[CV] END criterion=entropy, max_depth=0, max_features=auto, min_samples_leaf=4, min_samples_split=2, n_estimators=300; total time=   0.2s\n",
      "[CV] END criterion=entropy, max_depth=0, max_features=auto, min_samples_leaf=4, min_samples_split=2, n_estimators=300; total time=   0.3s\n",
      "[CV] END criterion=entropy, max_depth=0, max_features=auto, min_samples_leaf=4, min_samples_split=2, n_estimators=300; total time=   0.3s\n",
      "[CV] END criterion=entropy, max_depth=0, max_features=auto, min_samples_leaf=4, min_samples_split=2, n_estimators=400; total time=   0.5s\n",
      "[CV] END criterion=entropy, max_depth=0, max_features=auto, min_samples_leaf=4, min_samples_split=2, n_estimators=400; total time=   0.5s\n",
      "[CV] END criterion=entropy, max_depth=0, max_features=auto, min_samples_leaf=4, min_samples_split=2, n_estimators=400; total time=   0.5s\n",
      "[CV] END criterion=entropy, max_depth=0, max_features=auto, min_samples_leaf=4, min_samples_split=2, n_estimators=400; total time=   0.5s\n",
      "[CV] END criterion=entropy, max_depth=0, max_features=auto, min_samples_leaf=4, min_samples_split=2, n_estimators=400; total time=   0.4s\n",
      "[CV] END criterion=entropy, max_depth=0, max_features=auto, min_samples_leaf=4, min_samples_split=6, n_estimators=100; total time=   0.0s\n",
      "[CV] END criterion=entropy, max_depth=0, max_features=auto, min_samples_leaf=4, min_samples_split=6, n_estimators=100; total time=   0.0s\n",
      "[CV] END criterion=entropy, max_depth=0, max_features=auto, min_samples_leaf=4, min_samples_split=6, n_estimators=100; total time=   0.0s\n",
      "[CV] END criterion=entropy, max_depth=0, max_features=auto, min_samples_leaf=4, min_samples_split=6, n_estimators=100; total time=   0.1s\n",
      "[CV] END criterion=entropy, max_depth=0, max_features=auto, min_samples_leaf=4, min_samples_split=6, n_estimators=100; total time=   0.0s\n",
      "[CV] END criterion=entropy, max_depth=0, max_features=auto, min_samples_leaf=4, min_samples_split=6, n_estimators=200; total time=   0.2s\n",
      "[CV] END criterion=entropy, max_depth=0, max_features=auto, min_samples_leaf=4, min_samples_split=6, n_estimators=200; total time=   0.1s\n",
      "[CV] END criterion=entropy, max_depth=0, max_features=auto, min_samples_leaf=4, min_samples_split=6, n_estimators=200; total time=   0.1s\n",
      "[CV] END criterion=entropy, max_depth=0, max_features=auto, min_samples_leaf=4, min_samples_split=6, n_estimators=200; total time=   0.1s\n",
      "[CV] END criterion=entropy, max_depth=0, max_features=auto, min_samples_leaf=4, min_samples_split=6, n_estimators=200; total time=   0.1s\n",
      "[CV] END criterion=entropy, max_depth=0, max_features=auto, min_samples_leaf=4, min_samples_split=6, n_estimators=300; total time=   0.2s\n",
      "[CV] END criterion=entropy, max_depth=0, max_features=auto, min_samples_leaf=4, min_samples_split=6, n_estimators=300; total time=   0.2s\n",
      "[CV] END criterion=entropy, max_depth=0, max_features=auto, min_samples_leaf=4, min_samples_split=6, n_estimators=300; total time=   0.2s\n",
      "[CV] END criterion=entropy, max_depth=0, max_features=auto, min_samples_leaf=4, min_samples_split=6, n_estimators=300; total time=   0.2s\n",
      "[CV] END criterion=entropy, max_depth=0, max_features=auto, min_samples_leaf=4, min_samples_split=6, n_estimators=300; total time=   0.2s\n",
      "[CV] END criterion=entropy, max_depth=0, max_features=auto, min_samples_leaf=4, min_samples_split=6, n_estimators=400; total time=   0.3s\n",
      "[CV] END criterion=entropy, max_depth=0, max_features=auto, min_samples_leaf=4, min_samples_split=6, n_estimators=400; total time=   0.3s\n",
      "[CV] END criterion=entropy, max_depth=0, max_features=auto, min_samples_leaf=4, min_samples_split=6, n_estimators=400; total time=   0.3s\n",
      "[CV] END criterion=entropy, max_depth=0, max_features=auto, min_samples_leaf=4, min_samples_split=6, n_estimators=400; total time=   0.3s\n",
      "[CV] END criterion=entropy, max_depth=0, max_features=auto, min_samples_leaf=4, min_samples_split=6, n_estimators=400; total time=   0.3s\n",
      "[CV] END criterion=entropy, max_depth=0, max_features=auto, min_samples_leaf=4, min_samples_split=10, n_estimators=100; total time=   0.0s\n",
      "[CV] END criterion=entropy, max_depth=0, max_features=auto, min_samples_leaf=4, min_samples_split=10, n_estimators=100; total time=   0.0s\n",
      "[CV] END criterion=entropy, max_depth=0, max_features=auto, min_samples_leaf=4, min_samples_split=10, n_estimators=100; total time=   0.0s\n",
      "[CV] END criterion=entropy, max_depth=0, max_features=auto, min_samples_leaf=4, min_samples_split=10, n_estimators=100; total time=   0.0s\n",
      "[CV] END criterion=entropy, max_depth=0, max_features=auto, min_samples_leaf=4, min_samples_split=10, n_estimators=100; total time=   0.0s\n",
      "[CV] END criterion=entropy, max_depth=0, max_features=auto, min_samples_leaf=4, min_samples_split=10, n_estimators=200; total time=   0.1s\n",
      "[CV] END criterion=entropy, max_depth=0, max_features=auto, min_samples_leaf=4, min_samples_split=10, n_estimators=200; total time=   0.1s\n",
      "[CV] END criterion=entropy, max_depth=0, max_features=auto, min_samples_leaf=4, min_samples_split=10, n_estimators=200; total time=   0.1s\n",
      "[CV] END criterion=entropy, max_depth=0, max_features=auto, min_samples_leaf=4, min_samples_split=10, n_estimators=200; total time=   0.1s\n",
      "[CV] END criterion=entropy, max_depth=0, max_features=auto, min_samples_leaf=4, min_samples_split=10, n_estimators=200; total time=   0.1s\n",
      "[CV] END criterion=entropy, max_depth=0, max_features=auto, min_samples_leaf=4, min_samples_split=10, n_estimators=300; total time=   0.2s\n",
      "[CV] END criterion=entropy, max_depth=0, max_features=auto, min_samples_leaf=4, min_samples_split=10, n_estimators=300; total time=   0.2s\n",
      "[CV] END criterion=entropy, max_depth=0, max_features=auto, min_samples_leaf=4, min_samples_split=10, n_estimators=300; total time=   0.2s\n",
      "[CV] END criterion=entropy, max_depth=0, max_features=auto, min_samples_leaf=4, min_samples_split=10, n_estimators=300; total time=   0.2s\n",
      "[CV] END criterion=entropy, max_depth=0, max_features=auto, min_samples_leaf=4, min_samples_split=10, n_estimators=300; total time=   0.2s\n",
      "[CV] END criterion=entropy, max_depth=0, max_features=auto, min_samples_leaf=4, min_samples_split=10, n_estimators=400; total time=   0.3s\n",
      "[CV] END criterion=entropy, max_depth=0, max_features=auto, min_samples_leaf=4, min_samples_split=10, n_estimators=400; total time=   0.3s\n",
      "[CV] END criterion=entropy, max_depth=0, max_features=auto, min_samples_leaf=4, min_samples_split=10, n_estimators=400; total time=   0.3s\n",
      "[CV] END criterion=entropy, max_depth=0, max_features=auto, min_samples_leaf=4, min_samples_split=10, n_estimators=400; total time=   0.3s\n",
      "[CV] END criterion=entropy, max_depth=0, max_features=auto, min_samples_leaf=4, min_samples_split=10, n_estimators=400; total time=   0.3s\n",
      "[CV] END criterion=entropy, max_depth=0, max_features=auto, min_samples_leaf=4, min_samples_split=14, n_estimators=100; total time=   0.0s\n",
      "[CV] END criterion=entropy, max_depth=0, max_features=auto, min_samples_leaf=4, min_samples_split=14, n_estimators=100; total time=   0.0s\n",
      "[CV] END criterion=entropy, max_depth=0, max_features=auto, min_samples_leaf=4, min_samples_split=14, n_estimators=100; total time=   0.0s\n",
      "[CV] END criterion=entropy, max_depth=0, max_features=auto, min_samples_leaf=4, min_samples_split=14, n_estimators=100; total time=   0.0s\n",
      "[CV] END criterion=entropy, max_depth=0, max_features=auto, min_samples_leaf=4, min_samples_split=14, n_estimators=100; total time=   0.0s\n",
      "[CV] END criterion=entropy, max_depth=0, max_features=auto, min_samples_leaf=4, min_samples_split=14, n_estimators=200; total time=   0.1s\n",
      "[CV] END criterion=entropy, max_depth=0, max_features=auto, min_samples_leaf=4, min_samples_split=14, n_estimators=200; total time=   0.1s\n",
      "[CV] END criterion=entropy, max_depth=0, max_features=auto, min_samples_leaf=4, min_samples_split=14, n_estimators=200; total time=   0.1s\n",
      "[CV] END criterion=entropy, max_depth=0, max_features=auto, min_samples_leaf=4, min_samples_split=14, n_estimators=200; total time=   0.1s\n",
      "[CV] END criterion=entropy, max_depth=0, max_features=auto, min_samples_leaf=4, min_samples_split=14, n_estimators=200; total time=   0.1s\n",
      "[CV] END criterion=entropy, max_depth=0, max_features=auto, min_samples_leaf=4, min_samples_split=14, n_estimators=300; total time=   0.2s\n",
      "[CV] END criterion=entropy, max_depth=0, max_features=auto, min_samples_leaf=4, min_samples_split=14, n_estimators=300; total time=   0.2s\n",
      "[CV] END criterion=entropy, max_depth=0, max_features=auto, min_samples_leaf=4, min_samples_split=14, n_estimators=300; total time=   0.2s\n",
      "[CV] END criterion=entropy, max_depth=0, max_features=auto, min_samples_leaf=4, min_samples_split=14, n_estimators=300; total time=   0.2s\n",
      "[CV] END criterion=entropy, max_depth=0, max_features=auto, min_samples_leaf=4, min_samples_split=14, n_estimators=300; total time=   0.2s\n",
      "[CV] END criterion=entropy, max_depth=0, max_features=auto, min_samples_leaf=4, min_samples_split=14, n_estimators=400; total time=   0.4s\n",
      "[CV] END criterion=entropy, max_depth=0, max_features=auto, min_samples_leaf=4, min_samples_split=14, n_estimators=400; total time=   0.4s\n",
      "[CV] END criterion=entropy, max_depth=0, max_features=auto, min_samples_leaf=4, min_samples_split=14, n_estimators=400; total time=   0.4s\n",
      "[CV] END criterion=entropy, max_depth=0, max_features=auto, min_samples_leaf=4, min_samples_split=14, n_estimators=400; total time=   0.4s\n",
      "[CV] END criterion=entropy, max_depth=0, max_features=auto, min_samples_leaf=4, min_samples_split=14, n_estimators=400; total time=   0.2s\n",
      "[CV] END criterion=entropy, max_depth=0, max_features=auto, min_samples_leaf=4, min_samples_split=18, n_estimators=100; total time=   0.0s\n",
      "[CV] END criterion=entropy, max_depth=0, max_features=auto, min_samples_leaf=4, min_samples_split=18, n_estimators=100; total time=   0.0s\n",
      "[CV] END criterion=entropy, max_depth=0, max_features=auto, min_samples_leaf=4, min_samples_split=18, n_estimators=100; total time=   0.0s\n",
      "[CV] END criterion=entropy, max_depth=0, max_features=auto, min_samples_leaf=4, min_samples_split=18, n_estimators=100; total time=   0.0s\n",
      "[CV] END criterion=entropy, max_depth=0, max_features=auto, min_samples_leaf=4, min_samples_split=18, n_estimators=100; total time=   0.0s\n",
      "[CV] END criterion=entropy, max_depth=0, max_features=auto, min_samples_leaf=4, min_samples_split=18, n_estimators=200; total time=   0.1s\n",
      "[CV] END criterion=entropy, max_depth=0, max_features=auto, min_samples_leaf=4, min_samples_split=18, n_estimators=200; total time=   0.1s\n",
      "[CV] END criterion=entropy, max_depth=0, max_features=auto, min_samples_leaf=4, min_samples_split=18, n_estimators=200; total time=   0.1s\n",
      "[CV] END criterion=entropy, max_depth=0, max_features=auto, min_samples_leaf=4, min_samples_split=18, n_estimators=200; total time=   0.1s\n",
      "[CV] END criterion=entropy, max_depth=0, max_features=auto, min_samples_leaf=4, min_samples_split=18, n_estimators=200; total time=   0.1s\n",
      "[CV] END criterion=entropy, max_depth=0, max_features=auto, min_samples_leaf=4, min_samples_split=18, n_estimators=300; total time=   0.3s\n",
      "[CV] END criterion=entropy, max_depth=0, max_features=auto, min_samples_leaf=4, min_samples_split=18, n_estimators=300; total time=   0.3s\n",
      "[CV] END criterion=entropy, max_depth=0, max_features=auto, min_samples_leaf=4, min_samples_split=18, n_estimators=300; total time=   0.2s\n",
      "[CV] END criterion=entropy, max_depth=0, max_features=auto, min_samples_leaf=4, min_samples_split=18, n_estimators=300; total time=   0.2s\n",
      "[CV] END criterion=entropy, max_depth=0, max_features=auto, min_samples_leaf=4, min_samples_split=18, n_estimators=300; total time=   0.2s\n",
      "[CV] END criterion=entropy, max_depth=0, max_features=auto, min_samples_leaf=4, min_samples_split=18, n_estimators=400; total time=   0.3s\n",
      "[CV] END criterion=entropy, max_depth=0, max_features=auto, min_samples_leaf=4, min_samples_split=18, n_estimators=400; total time=   0.3s\n",
      "[CV] END criterion=entropy, max_depth=0, max_features=auto, min_samples_leaf=4, min_samples_split=18, n_estimators=400; total time=   0.3s\n",
      "[CV] END criterion=entropy, max_depth=0, max_features=auto, min_samples_leaf=4, min_samples_split=18, n_estimators=400; total time=   0.3s\n",
      "[CV] END criterion=entropy, max_depth=0, max_features=auto, min_samples_leaf=4, min_samples_split=18, n_estimators=400; total time=   0.2s\n",
      "[CV] END criterion=entropy, max_depth=5, max_features=auto, min_samples_leaf=1, min_samples_split=2, n_estimators=100; total time=   1.0s\n",
      "[CV] END criterion=entropy, max_depth=5, max_features=auto, min_samples_leaf=1, min_samples_split=2, n_estimators=100; total time=   1.0s\n",
      "[CV] END criterion=entropy, max_depth=5, max_features=auto, min_samples_leaf=1, min_samples_split=2, n_estimators=100; total time=   0.9s\n",
      "[CV] END criterion=entropy, max_depth=5, max_features=auto, min_samples_leaf=1, min_samples_split=2, n_estimators=100; total time=   0.9s\n",
      "[CV] END criterion=entropy, max_depth=5, max_features=auto, min_samples_leaf=1, min_samples_split=2, n_estimators=100; total time=   1.0s\n",
      "[CV] END criterion=entropy, max_depth=5, max_features=auto, min_samples_leaf=1, min_samples_split=2, n_estimators=200; total time=   2.0s\n",
      "[CV] END criterion=entropy, max_depth=5, max_features=auto, min_samples_leaf=1, min_samples_split=2, n_estimators=200; total time=   2.2s\n",
      "[CV] END criterion=entropy, max_depth=5, max_features=auto, min_samples_leaf=1, min_samples_split=2, n_estimators=200; total time=   2.3s\n",
      "[CV] END criterion=entropy, max_depth=5, max_features=auto, min_samples_leaf=1, min_samples_split=2, n_estimators=200; total time=   2.2s\n",
      "[CV] END criterion=entropy, max_depth=5, max_features=auto, min_samples_leaf=1, min_samples_split=2, n_estimators=200; total time=   2.1s\n",
      "[CV] END criterion=entropy, max_depth=5, max_features=auto, min_samples_leaf=1, min_samples_split=2, n_estimators=300; total time=   3.2s\n",
      "[CV] END criterion=entropy, max_depth=5, max_features=auto, min_samples_leaf=1, min_samples_split=2, n_estimators=300; total time=   2.9s\n",
      "[CV] END criterion=entropy, max_depth=5, max_features=auto, min_samples_leaf=1, min_samples_split=2, n_estimators=300; total time=   2.5s\n",
      "[CV] END criterion=entropy, max_depth=5, max_features=auto, min_samples_leaf=1, min_samples_split=2, n_estimators=300; total time=   3.1s\n",
      "[CV] END criterion=entropy, max_depth=5, max_features=auto, min_samples_leaf=1, min_samples_split=2, n_estimators=300; total time=   2.9s\n",
      "[CV] END criterion=entropy, max_depth=5, max_features=auto, min_samples_leaf=1, min_samples_split=2, n_estimators=400; total time=   3.0s\n",
      "[CV] END criterion=entropy, max_depth=5, max_features=auto, min_samples_leaf=1, min_samples_split=2, n_estimators=400; total time=   3.0s\n",
      "[CV] END criterion=entropy, max_depth=5, max_features=auto, min_samples_leaf=1, min_samples_split=2, n_estimators=400; total time=   3.1s\n",
      "[CV] END criterion=entropy, max_depth=5, max_features=auto, min_samples_leaf=1, min_samples_split=2, n_estimators=400; total time=   3.5s\n",
      "[CV] END criterion=entropy, max_depth=5, max_features=auto, min_samples_leaf=1, min_samples_split=2, n_estimators=400; total time=   3.9s\n",
      "[CV] END criterion=entropy, max_depth=5, max_features=auto, min_samples_leaf=1, min_samples_split=6, n_estimators=100; total time=   0.7s\n",
      "[CV] END criterion=entropy, max_depth=5, max_features=auto, min_samples_leaf=1, min_samples_split=6, n_estimators=100; total time=   0.7s\n",
      "[CV] END criterion=entropy, max_depth=5, max_features=auto, min_samples_leaf=1, min_samples_split=6, n_estimators=100; total time=   0.7s\n",
      "[CV] END criterion=entropy, max_depth=5, max_features=auto, min_samples_leaf=1, min_samples_split=6, n_estimators=100; total time=   0.7s\n",
      "[CV] END criterion=entropy, max_depth=5, max_features=auto, min_samples_leaf=1, min_samples_split=6, n_estimators=100; total time=   0.7s\n",
      "[CV] END criterion=entropy, max_depth=5, max_features=auto, min_samples_leaf=1, min_samples_split=6, n_estimators=200; total time=   1.6s\n",
      "[CV] END criterion=entropy, max_depth=5, max_features=auto, min_samples_leaf=1, min_samples_split=6, n_estimators=200; total time=   2.0s\n",
      "[CV] END criterion=entropy, max_depth=5, max_features=auto, min_samples_leaf=1, min_samples_split=6, n_estimators=200; total time=   2.6s\n",
      "[CV] END criterion=entropy, max_depth=5, max_features=auto, min_samples_leaf=1, min_samples_split=6, n_estimators=200; total time=   2.1s\n",
      "[CV] END criterion=entropy, max_depth=5, max_features=auto, min_samples_leaf=1, min_samples_split=6, n_estimators=200; total time=   2.2s\n",
      "[CV] END criterion=entropy, max_depth=5, max_features=auto, min_samples_leaf=1, min_samples_split=6, n_estimators=300; total time=   2.9s\n",
      "[CV] END criterion=entropy, max_depth=5, max_features=auto, min_samples_leaf=1, min_samples_split=6, n_estimators=300; total time=   2.7s\n",
      "[CV] END criterion=entropy, max_depth=5, max_features=auto, min_samples_leaf=1, min_samples_split=6, n_estimators=300; total time=   3.1s\n",
      "[CV] END criterion=entropy, max_depth=5, max_features=auto, min_samples_leaf=1, min_samples_split=6, n_estimators=300; total time=   3.4s\n",
      "[CV] END criterion=entropy, max_depth=5, max_features=auto, min_samples_leaf=1, min_samples_split=6, n_estimators=300; total time=   2.9s\n",
      "[CV] END criterion=entropy, max_depth=5, max_features=auto, min_samples_leaf=1, min_samples_split=6, n_estimators=400; total time=   4.0s\n",
      "[CV] END criterion=entropy, max_depth=5, max_features=auto, min_samples_leaf=1, min_samples_split=6, n_estimators=400; total time=   3.9s\n",
      "[CV] END criterion=entropy, max_depth=5, max_features=auto, min_samples_leaf=1, min_samples_split=6, n_estimators=400; total time=   4.4s\n",
      "[CV] END criterion=entropy, max_depth=5, max_features=auto, min_samples_leaf=1, min_samples_split=6, n_estimators=400; total time=   4.1s\n",
      "[CV] END criterion=entropy, max_depth=5, max_features=auto, min_samples_leaf=1, min_samples_split=6, n_estimators=400; total time=   4.1s\n",
      "[CV] END criterion=entropy, max_depth=5, max_features=auto, min_samples_leaf=1, min_samples_split=10, n_estimators=100; total time=   1.0s\n",
      "[CV] END criterion=entropy, max_depth=5, max_features=auto, min_samples_leaf=1, min_samples_split=10, n_estimators=100; total time=   0.9s\n",
      "[CV] END criterion=entropy, max_depth=5, max_features=auto, min_samples_leaf=1, min_samples_split=10, n_estimators=100; total time=   0.9s\n",
      "[CV] END criterion=entropy, max_depth=5, max_features=auto, min_samples_leaf=1, min_samples_split=10, n_estimators=100; total time=   1.0s\n",
      "[CV] END criterion=entropy, max_depth=5, max_features=auto, min_samples_leaf=1, min_samples_split=10, n_estimators=100; total time=   1.2s\n",
      "[CV] END criterion=entropy, max_depth=5, max_features=auto, min_samples_leaf=1, min_samples_split=10, n_estimators=200; total time=   2.3s\n",
      "[CV] END criterion=entropy, max_depth=5, max_features=auto, min_samples_leaf=1, min_samples_split=10, n_estimators=200; total time=   2.0s\n",
      "[CV] END criterion=entropy, max_depth=5, max_features=auto, min_samples_leaf=1, min_samples_split=10, n_estimators=200; total time=   1.8s\n",
      "[CV] END criterion=entropy, max_depth=5, max_features=auto, min_samples_leaf=1, min_samples_split=10, n_estimators=200; total time=   1.8s\n",
      "[CV] END criterion=entropy, max_depth=5, max_features=auto, min_samples_leaf=1, min_samples_split=10, n_estimators=200; total time=   1.9s\n",
      "[CV] END criterion=entropy, max_depth=5, max_features=auto, min_samples_leaf=1, min_samples_split=10, n_estimators=300; total time=   2.8s\n",
      "[CV] END criterion=entropy, max_depth=5, max_features=auto, min_samples_leaf=1, min_samples_split=10, n_estimators=300; total time=   2.9s\n",
      "[CV] END criterion=entropy, max_depth=5, max_features=auto, min_samples_leaf=1, min_samples_split=10, n_estimators=300; total time=   3.0s\n",
      "[CV] END criterion=entropy, max_depth=5, max_features=auto, min_samples_leaf=1, min_samples_split=10, n_estimators=300; total time=   2.7s\n",
      "[CV] END criterion=entropy, max_depth=5, max_features=auto, min_samples_leaf=1, min_samples_split=10, n_estimators=300; total time=   2.5s\n",
      "[CV] END criterion=entropy, max_depth=5, max_features=auto, min_samples_leaf=1, min_samples_split=10, n_estimators=400; total time=   3.0s\n",
      "[CV] END criterion=entropy, max_depth=5, max_features=auto, min_samples_leaf=1, min_samples_split=10, n_estimators=400; total time=   3.3s\n",
      "[CV] END criterion=entropy, max_depth=5, max_features=auto, min_samples_leaf=1, min_samples_split=10, n_estimators=400; total time=   3.8s\n",
      "[CV] END criterion=entropy, max_depth=5, max_features=auto, min_samples_leaf=1, min_samples_split=10, n_estimators=400; total time=   2.4s\n",
      "[CV] END criterion=entropy, max_depth=5, max_features=auto, min_samples_leaf=1, min_samples_split=10, n_estimators=400; total time=   2.4s\n",
      "[CV] END criterion=entropy, max_depth=5, max_features=auto, min_samples_leaf=1, min_samples_split=14, n_estimators=100; total time=   0.5s\n",
      "[CV] END criterion=entropy, max_depth=5, max_features=auto, min_samples_leaf=1, min_samples_split=14, n_estimators=100; total time=   0.5s\n",
      "[CV] END criterion=entropy, max_depth=5, max_features=auto, min_samples_leaf=1, min_samples_split=14, n_estimators=100; total time=   0.5s\n",
      "[CV] END criterion=entropy, max_depth=5, max_features=auto, min_samples_leaf=1, min_samples_split=14, n_estimators=100; total time=   0.5s\n",
      "[CV] END criterion=entropy, max_depth=5, max_features=auto, min_samples_leaf=1, min_samples_split=14, n_estimators=100; total time=   0.5s\n",
      "[CV] END criterion=entropy, max_depth=5, max_features=auto, min_samples_leaf=1, min_samples_split=14, n_estimators=200; total time=   1.0s\n",
      "[CV] END criterion=entropy, max_depth=5, max_features=auto, min_samples_leaf=1, min_samples_split=14, n_estimators=200; total time=   1.0s\n",
      "[CV] END criterion=entropy, max_depth=5, max_features=auto, min_samples_leaf=1, min_samples_split=14, n_estimators=200; total time=   1.0s\n",
      "[CV] END criterion=entropy, max_depth=5, max_features=auto, min_samples_leaf=1, min_samples_split=14, n_estimators=200; total time=   1.3s\n",
      "[CV] END criterion=entropy, max_depth=5, max_features=auto, min_samples_leaf=1, min_samples_split=14, n_estimators=200; total time=   1.5s\n",
      "[CV] END criterion=entropy, max_depth=5, max_features=auto, min_samples_leaf=1, min_samples_split=14, n_estimators=300; total time=   1.9s\n",
      "[CV] END criterion=entropy, max_depth=5, max_features=auto, min_samples_leaf=1, min_samples_split=14, n_estimators=300; total time=   2.6s\n",
      "[CV] END criterion=entropy, max_depth=5, max_features=auto, min_samples_leaf=1, min_samples_split=14, n_estimators=300; total time=   3.2s\n",
      "[CV] END criterion=entropy, max_depth=5, max_features=auto, min_samples_leaf=1, min_samples_split=14, n_estimators=300; total time=   2.7s\n",
      "[CV] END criterion=entropy, max_depth=5, max_features=auto, min_samples_leaf=1, min_samples_split=14, n_estimators=300; total time=   2.9s\n",
      "[CV] END criterion=entropy, max_depth=5, max_features=auto, min_samples_leaf=1, min_samples_split=14, n_estimators=400; total time=   4.3s\n",
      "[CV] END criterion=entropy, max_depth=5, max_features=auto, min_samples_leaf=1, min_samples_split=14, n_estimators=400; total time=   3.9s\n",
      "[CV] END criterion=entropy, max_depth=5, max_features=auto, min_samples_leaf=1, min_samples_split=14, n_estimators=400; total time=   4.0s\n",
      "[CV] END criterion=entropy, max_depth=5, max_features=auto, min_samples_leaf=1, min_samples_split=14, n_estimators=400; total time=   4.5s\n",
      "[CV] END criterion=entropy, max_depth=5, max_features=auto, min_samples_leaf=1, min_samples_split=14, n_estimators=400; total time=   4.4s\n",
      "[CV] END criterion=entropy, max_depth=5, max_features=auto, min_samples_leaf=1, min_samples_split=18, n_estimators=100; total time=   0.9s\n",
      "[CV] END criterion=entropy, max_depth=5, max_features=auto, min_samples_leaf=1, min_samples_split=18, n_estimators=100; total time=   0.9s\n",
      "[CV] END criterion=entropy, max_depth=5, max_features=auto, min_samples_leaf=1, min_samples_split=18, n_estimators=100; total time=   0.9s\n",
      "[CV] END criterion=entropy, max_depth=5, max_features=auto, min_samples_leaf=1, min_samples_split=18, n_estimators=100; total time=   0.8s\n",
      "[CV] END criterion=entropy, max_depth=5, max_features=auto, min_samples_leaf=1, min_samples_split=18, n_estimators=100; total time=   0.9s\n",
      "[CV] END criterion=entropy, max_depth=5, max_features=auto, min_samples_leaf=1, min_samples_split=18, n_estimators=200; total time=   1.8s\n",
      "[CV] END criterion=entropy, max_depth=5, max_features=auto, min_samples_leaf=1, min_samples_split=18, n_estimators=200; total time=   1.8s\n",
      "[CV] END criterion=entropy, max_depth=5, max_features=auto, min_samples_leaf=1, min_samples_split=18, n_estimators=200; total time=   1.9s\n",
      "[CV] END criterion=entropy, max_depth=5, max_features=auto, min_samples_leaf=1, min_samples_split=18, n_estimators=200; total time=   2.1s\n",
      "[CV] END criterion=entropy, max_depth=5, max_features=auto, min_samples_leaf=1, min_samples_split=18, n_estimators=200; total time=   1.8s\n",
      "[CV] END criterion=entropy, max_depth=5, max_features=auto, min_samples_leaf=1, min_samples_split=18, n_estimators=300; total time=   2.7s\n",
      "[CV] END criterion=entropy, max_depth=5, max_features=auto, min_samples_leaf=1, min_samples_split=18, n_estimators=300; total time=   2.6s\n",
      "[CV] END criterion=entropy, max_depth=5, max_features=auto, min_samples_leaf=1, min_samples_split=18, n_estimators=300; total time=   2.7s\n",
      "[CV] END criterion=entropy, max_depth=5, max_features=auto, min_samples_leaf=1, min_samples_split=18, n_estimators=300; total time=   2.7s\n",
      "[CV] END criterion=entropy, max_depth=5, max_features=auto, min_samples_leaf=1, min_samples_split=18, n_estimators=300; total time=   3.5s\n",
      "[CV] END criterion=entropy, max_depth=5, max_features=auto, min_samples_leaf=1, min_samples_split=18, n_estimators=400; total time=   3.8s\n",
      "[CV] END criterion=entropy, max_depth=5, max_features=auto, min_samples_leaf=1, min_samples_split=18, n_estimators=400; total time=   3.1s\n",
      "[CV] END criterion=entropy, max_depth=5, max_features=auto, min_samples_leaf=1, min_samples_split=18, n_estimators=400; total time=   3.1s\n",
      "[CV] END criterion=entropy, max_depth=5, max_features=auto, min_samples_leaf=1, min_samples_split=18, n_estimators=400; total time=   4.1s\n",
      "[CV] END criterion=entropy, max_depth=5, max_features=auto, min_samples_leaf=1, min_samples_split=18, n_estimators=400; total time=   3.2s\n",
      "[CV] END criterion=entropy, max_depth=5, max_features=auto, min_samples_leaf=2, min_samples_split=2, n_estimators=100; total time=   0.7s\n",
      "[CV] END criterion=entropy, max_depth=5, max_features=auto, min_samples_leaf=2, min_samples_split=2, n_estimators=100; total time=   0.7s\n",
      "[CV] END criterion=entropy, max_depth=5, max_features=auto, min_samples_leaf=2, min_samples_split=2, n_estimators=100; total time=   0.7s\n",
      "[CV] END criterion=entropy, max_depth=5, max_features=auto, min_samples_leaf=2, min_samples_split=2, n_estimators=100; total time=   0.8s\n",
      "[CV] END criterion=entropy, max_depth=5, max_features=auto, min_samples_leaf=2, min_samples_split=2, n_estimators=100; total time=   1.1s\n",
      "[CV] END criterion=entropy, max_depth=5, max_features=auto, min_samples_leaf=2, min_samples_split=2, n_estimators=200; total time=   1.5s\n",
      "[CV] END criterion=entropy, max_depth=5, max_features=auto, min_samples_leaf=2, min_samples_split=2, n_estimators=200; total time=   1.3s\n",
      "[CV] END criterion=entropy, max_depth=5, max_features=auto, min_samples_leaf=2, min_samples_split=2, n_estimators=200; total time=   1.0s\n",
      "[CV] END criterion=entropy, max_depth=5, max_features=auto, min_samples_leaf=2, min_samples_split=2, n_estimators=200; total time=   1.0s\n",
      "[CV] END criterion=entropy, max_depth=5, max_features=auto, min_samples_leaf=2, min_samples_split=2, n_estimators=200; total time=   1.0s\n",
      "[CV] END criterion=entropy, max_depth=5, max_features=auto, min_samples_leaf=2, min_samples_split=2, n_estimators=300; total time=   2.2s\n",
      "[CV] END criterion=entropy, max_depth=5, max_features=auto, min_samples_leaf=2, min_samples_split=2, n_estimators=300; total time=   2.1s\n",
      "[CV] END criterion=entropy, max_depth=5, max_features=auto, min_samples_leaf=2, min_samples_split=2, n_estimators=300; total time=   1.9s\n",
      "[CV] END criterion=entropy, max_depth=5, max_features=auto, min_samples_leaf=2, min_samples_split=2, n_estimators=300; total time=   2.4s\n",
      "[CV] END criterion=entropy, max_depth=5, max_features=auto, min_samples_leaf=2, min_samples_split=2, n_estimators=300; total time=   2.9s\n",
      "[CV] END criterion=entropy, max_depth=5, max_features=auto, min_samples_leaf=2, min_samples_split=2, n_estimators=400; total time=   3.4s\n",
      "[CV] END criterion=entropy, max_depth=5, max_features=auto, min_samples_leaf=2, min_samples_split=2, n_estimators=400; total time=   4.3s\n",
      "[CV] END criterion=entropy, max_depth=5, max_features=auto, min_samples_leaf=2, min_samples_split=2, n_estimators=400; total time=   3.8s\n",
      "[CV] END criterion=entropy, max_depth=5, max_features=auto, min_samples_leaf=2, min_samples_split=2, n_estimators=400; total time=   4.3s\n",
      "[CV] END criterion=entropy, max_depth=5, max_features=auto, min_samples_leaf=2, min_samples_split=2, n_estimators=400; total time=   3.8s\n",
      "[CV] END criterion=entropy, max_depth=5, max_features=auto, min_samples_leaf=2, min_samples_split=6, n_estimators=100; total time=   1.1s\n",
      "[CV] END criterion=entropy, max_depth=5, max_features=auto, min_samples_leaf=2, min_samples_split=6, n_estimators=100; total time=   1.1s\n",
      "[CV] END criterion=entropy, max_depth=5, max_features=auto, min_samples_leaf=2, min_samples_split=6, n_estimators=100; total time=   0.9s\n",
      "[CV] END criterion=entropy, max_depth=5, max_features=auto, min_samples_leaf=2, min_samples_split=6, n_estimators=100; total time=   1.0s\n",
      "[CV] END criterion=entropy, max_depth=5, max_features=auto, min_samples_leaf=2, min_samples_split=6, n_estimators=100; total time=   0.9s\n",
      "[CV] END criterion=entropy, max_depth=5, max_features=auto, min_samples_leaf=2, min_samples_split=6, n_estimators=200; total time=   1.8s\n",
      "[CV] END criterion=entropy, max_depth=5, max_features=auto, min_samples_leaf=2, min_samples_split=6, n_estimators=200; total time=   1.9s\n",
      "[CV] END criterion=entropy, max_depth=5, max_features=auto, min_samples_leaf=2, min_samples_split=6, n_estimators=200; total time=   1.9s\n",
      "[CV] END criterion=entropy, max_depth=5, max_features=auto, min_samples_leaf=2, min_samples_split=6, n_estimators=200; total time=   1.9s\n",
      "[CV] END criterion=entropy, max_depth=5, max_features=auto, min_samples_leaf=2, min_samples_split=6, n_estimators=200; total time=   1.8s\n",
      "[CV] END criterion=entropy, max_depth=5, max_features=auto, min_samples_leaf=2, min_samples_split=6, n_estimators=300; total time=   3.5s\n",
      "[CV] END criterion=entropy, max_depth=5, max_features=auto, min_samples_leaf=2, min_samples_split=6, n_estimators=300; total time=   2.9s\n",
      "[CV] END criterion=entropy, max_depth=5, max_features=auto, min_samples_leaf=2, min_samples_split=6, n_estimators=300; total time=   3.1s\n",
      "[CV] END criterion=entropy, max_depth=5, max_features=auto, min_samples_leaf=2, min_samples_split=6, n_estimators=300; total time=   2.9s\n",
      "[CV] END criterion=entropy, max_depth=5, max_features=auto, min_samples_leaf=2, min_samples_split=6, n_estimators=300; total time=   3.2s\n",
      "[CV] END criterion=entropy, max_depth=5, max_features=auto, min_samples_leaf=2, min_samples_split=6, n_estimators=400; total time=   4.4s\n",
      "[CV] END criterion=entropy, max_depth=5, max_features=auto, min_samples_leaf=2, min_samples_split=6, n_estimators=400; total time=   3.6s\n",
      "[CV] END criterion=entropy, max_depth=5, max_features=auto, min_samples_leaf=2, min_samples_split=6, n_estimators=400; total time=   3.4s\n",
      "[CV] END criterion=entropy, max_depth=5, max_features=auto, min_samples_leaf=2, min_samples_split=6, n_estimators=400; total time=   3.3s\n",
      "[CV] END criterion=entropy, max_depth=5, max_features=auto, min_samples_leaf=2, min_samples_split=6, n_estimators=400; total time=   4.7s\n",
      "[CV] END criterion=entropy, max_depth=5, max_features=auto, min_samples_leaf=2, min_samples_split=10, n_estimators=100; total time=   1.0s\n",
      "[CV] END criterion=entropy, max_depth=5, max_features=auto, min_samples_leaf=2, min_samples_split=10, n_estimators=100; total time=   0.8s\n",
      "[CV] END criterion=entropy, max_depth=5, max_features=auto, min_samples_leaf=2, min_samples_split=10, n_estimators=100; total time=   0.8s\n",
      "[CV] END criterion=entropy, max_depth=5, max_features=auto, min_samples_leaf=2, min_samples_split=10, n_estimators=100; total time=   0.8s\n",
      "[CV] END criterion=entropy, max_depth=5, max_features=auto, min_samples_leaf=2, min_samples_split=10, n_estimators=100; total time=   0.8s\n",
      "[CV] END criterion=entropy, max_depth=5, max_features=auto, min_samples_leaf=2, min_samples_split=10, n_estimators=200; total time=   2.1s\n",
      "[CV] END criterion=entropy, max_depth=5, max_features=auto, min_samples_leaf=2, min_samples_split=10, n_estimators=200; total time=   1.6s\n",
      "[CV] END criterion=entropy, max_depth=5, max_features=auto, min_samples_leaf=2, min_samples_split=10, n_estimators=200; total time=   1.7s\n",
      "[CV] END criterion=entropy, max_depth=5, max_features=auto, min_samples_leaf=2, min_samples_split=10, n_estimators=200; total time=   1.8s\n",
      "[CV] END criterion=entropy, max_depth=5, max_features=auto, min_samples_leaf=2, min_samples_split=10, n_estimators=200; total time=   1.9s\n",
      "[CV] END criterion=entropy, max_depth=5, max_features=auto, min_samples_leaf=2, min_samples_split=10, n_estimators=300; total time=   3.3s\n",
      "[CV] END criterion=entropy, max_depth=5, max_features=auto, min_samples_leaf=2, min_samples_split=10, n_estimators=300; total time=   3.4s\n",
      "[CV] END criterion=entropy, max_depth=5, max_features=auto, min_samples_leaf=2, min_samples_split=10, n_estimators=300; total time=   3.0s\n",
      "[CV] END criterion=entropy, max_depth=5, max_features=auto, min_samples_leaf=2, min_samples_split=10, n_estimators=300; total time=   3.1s\n",
      "[CV] END criterion=entropy, max_depth=5, max_features=auto, min_samples_leaf=2, min_samples_split=10, n_estimators=300; total time=   3.4s\n",
      "[CV] END criterion=entropy, max_depth=5, max_features=auto, min_samples_leaf=2, min_samples_split=10, n_estimators=400; total time=   4.2s\n",
      "[CV] END criterion=entropy, max_depth=5, max_features=auto, min_samples_leaf=2, min_samples_split=10, n_estimators=400; total time=   4.7s\n",
      "[CV] END criterion=entropy, max_depth=5, max_features=auto, min_samples_leaf=2, min_samples_split=10, n_estimators=400; total time=   4.2s\n",
      "[CV] END criterion=entropy, max_depth=5, max_features=auto, min_samples_leaf=2, min_samples_split=10, n_estimators=400; total time=   4.2s\n",
      "[CV] END criterion=entropy, max_depth=5, max_features=auto, min_samples_leaf=2, min_samples_split=10, n_estimators=400; total time=   3.7s\n",
      "[CV] END criterion=entropy, max_depth=5, max_features=auto, min_samples_leaf=2, min_samples_split=14, n_estimators=100; total time=   0.9s\n",
      "[CV] END criterion=entropy, max_depth=5, max_features=auto, min_samples_leaf=2, min_samples_split=14, n_estimators=100; total time=   0.8s\n",
      "[CV] END criterion=entropy, max_depth=5, max_features=auto, min_samples_leaf=2, min_samples_split=14, n_estimators=100; total time=   0.9s\n",
      "[CV] END criterion=entropy, max_depth=5, max_features=auto, min_samples_leaf=2, min_samples_split=14, n_estimators=100; total time=   0.9s\n",
      "[CV] END criterion=entropy, max_depth=5, max_features=auto, min_samples_leaf=2, min_samples_split=14, n_estimators=100; total time=   0.9s\n",
      "[CV] END criterion=entropy, max_depth=5, max_features=auto, min_samples_leaf=2, min_samples_split=14, n_estimators=200; total time=   1.9s\n",
      "[CV] END criterion=entropy, max_depth=5, max_features=auto, min_samples_leaf=2, min_samples_split=14, n_estimators=200; total time=   2.2s\n",
      "[CV] END criterion=entropy, max_depth=5, max_features=auto, min_samples_leaf=2, min_samples_split=14, n_estimators=200; total time=   2.2s\n",
      "[CV] END criterion=entropy, max_depth=5, max_features=auto, min_samples_leaf=2, min_samples_split=14, n_estimators=200; total time=   1.9s\n",
      "[CV] END criterion=entropy, max_depth=5, max_features=auto, min_samples_leaf=2, min_samples_split=14, n_estimators=200; total time=   1.8s\n",
      "[CV] END criterion=entropy, max_depth=5, max_features=auto, min_samples_leaf=2, min_samples_split=14, n_estimators=300; total time=   2.8s\n",
      "[CV] END criterion=entropy, max_depth=5, max_features=auto, min_samples_leaf=2, min_samples_split=14, n_estimators=300; total time=   2.7s\n",
      "[CV] END criterion=entropy, max_depth=5, max_features=auto, min_samples_leaf=2, min_samples_split=14, n_estimators=300; total time=   3.5s\n",
      "[CV] END criterion=entropy, max_depth=5, max_features=auto, min_samples_leaf=2, min_samples_split=14, n_estimators=300; total time=   2.7s\n",
      "[CV] END criterion=entropy, max_depth=5, max_features=auto, min_samples_leaf=2, min_samples_split=14, n_estimators=300; total time=   2.4s\n",
      "[CV] END criterion=entropy, max_depth=5, max_features=auto, min_samples_leaf=2, min_samples_split=14, n_estimators=400; total time=   3.2s\n",
      "[CV] END criterion=entropy, max_depth=5, max_features=auto, min_samples_leaf=2, min_samples_split=14, n_estimators=400; total time=   3.1s\n",
      "[CV] END criterion=entropy, max_depth=5, max_features=auto, min_samples_leaf=2, min_samples_split=14, n_estimators=400; total time=   2.4s\n",
      "[CV] END criterion=entropy, max_depth=5, max_features=auto, min_samples_leaf=2, min_samples_split=14, n_estimators=400; total time=   2.3s\n",
      "[CV] END criterion=entropy, max_depth=5, max_features=auto, min_samples_leaf=2, min_samples_split=14, n_estimators=400; total time=   2.1s\n",
      "[CV] END criterion=entropy, max_depth=5, max_features=auto, min_samples_leaf=2, min_samples_split=18, n_estimators=100; total time=   0.5s\n",
      "[CV] END criterion=entropy, max_depth=5, max_features=auto, min_samples_leaf=2, min_samples_split=18, n_estimators=100; total time=   0.5s\n",
      "[CV] END criterion=entropy, max_depth=5, max_features=auto, min_samples_leaf=2, min_samples_split=18, n_estimators=100; total time=   0.4s\n",
      "[CV] END criterion=entropy, max_depth=5, max_features=auto, min_samples_leaf=2, min_samples_split=18, n_estimators=100; total time=   0.5s\n",
      "[CV] END criterion=entropy, max_depth=5, max_features=auto, min_samples_leaf=2, min_samples_split=18, n_estimators=100; total time=   0.4s\n",
      "[CV] END criterion=entropy, max_depth=5, max_features=auto, min_samples_leaf=2, min_samples_split=18, n_estimators=200; total time=   1.0s\n",
      "[CV] END criterion=entropy, max_depth=5, max_features=auto, min_samples_leaf=2, min_samples_split=18, n_estimators=200; total time=   1.0s\n",
      "[CV] END criterion=entropy, max_depth=5, max_features=auto, min_samples_leaf=2, min_samples_split=18, n_estimators=200; total time=   1.0s\n",
      "[CV] END criterion=entropy, max_depth=5, max_features=auto, min_samples_leaf=2, min_samples_split=18, n_estimators=200; total time=   1.7s\n",
      "[CV] END criterion=entropy, max_depth=5, max_features=auto, min_samples_leaf=2, min_samples_split=18, n_estimators=200; total time=   1.6s\n",
      "[CV] END criterion=entropy, max_depth=5, max_features=auto, min_samples_leaf=2, min_samples_split=18, n_estimators=300; total time=   2.5s\n",
      "[CV] END criterion=entropy, max_depth=5, max_features=auto, min_samples_leaf=2, min_samples_split=18, n_estimators=300; total time=   2.7s\n",
      "[CV] END criterion=entropy, max_depth=5, max_features=auto, min_samples_leaf=2, min_samples_split=18, n_estimators=300; total time=   2.4s\n",
      "[CV] END criterion=entropy, max_depth=5, max_features=auto, min_samples_leaf=2, min_samples_split=18, n_estimators=300; total time=   3.0s\n",
      "[CV] END criterion=entropy, max_depth=5, max_features=auto, min_samples_leaf=2, min_samples_split=18, n_estimators=300; total time=   2.8s\n",
      "[CV] END criterion=entropy, max_depth=5, max_features=auto, min_samples_leaf=2, min_samples_split=18, n_estimators=400; total time=   3.6s\n",
      "[CV] END criterion=entropy, max_depth=5, max_features=auto, min_samples_leaf=2, min_samples_split=18, n_estimators=400; total time=   4.1s\n",
      "[CV] END criterion=entropy, max_depth=5, max_features=auto, min_samples_leaf=2, min_samples_split=18, n_estimators=400; total time=   3.7s\n",
      "[CV] END criterion=entropy, max_depth=5, max_features=auto, min_samples_leaf=2, min_samples_split=18, n_estimators=400; total time=   3.9s\n",
      "[CV] END criterion=entropy, max_depth=5, max_features=auto, min_samples_leaf=2, min_samples_split=18, n_estimators=400; total time=   3.9s\n",
      "[CV] END criterion=entropy, max_depth=5, max_features=auto, min_samples_leaf=3, min_samples_split=2, n_estimators=100; total time=   0.9s\n",
      "[CV] END criterion=entropy, max_depth=5, max_features=auto, min_samples_leaf=3, min_samples_split=2, n_estimators=100; total time=   1.0s\n",
      "[CV] END criterion=entropy, max_depth=5, max_features=auto, min_samples_leaf=3, min_samples_split=2, n_estimators=100; total time=   1.1s\n",
      "[CV] END criterion=entropy, max_depth=5, max_features=auto, min_samples_leaf=3, min_samples_split=2, n_estimators=100; total time=   0.8s\n",
      "[CV] END criterion=entropy, max_depth=5, max_features=auto, min_samples_leaf=3, min_samples_split=2, n_estimators=100; total time=   0.9s\n",
      "[CV] END criterion=entropy, max_depth=5, max_features=auto, min_samples_leaf=3, min_samples_split=2, n_estimators=200; total time=   1.9s\n",
      "[CV] END criterion=entropy, max_depth=5, max_features=auto, min_samples_leaf=3, min_samples_split=2, n_estimators=200; total time=   1.8s\n",
      "[CV] END criterion=entropy, max_depth=5, max_features=auto, min_samples_leaf=3, min_samples_split=2, n_estimators=200; total time=   1.8s\n",
      "[CV] END criterion=entropy, max_depth=5, max_features=auto, min_samples_leaf=3, min_samples_split=2, n_estimators=200; total time=   1.9s\n",
      "[CV] END criterion=entropy, max_depth=5, max_features=auto, min_samples_leaf=3, min_samples_split=2, n_estimators=200; total time=   1.9s\n",
      "[CV] END criterion=entropy, max_depth=5, max_features=auto, min_samples_leaf=3, min_samples_split=2, n_estimators=300; total time=   3.0s\n",
      "[CV] END criterion=entropy, max_depth=5, max_features=auto, min_samples_leaf=3, min_samples_split=2, n_estimators=300; total time=   3.0s\n",
      "[CV] END criterion=entropy, max_depth=5, max_features=auto, min_samples_leaf=3, min_samples_split=2, n_estimators=300; total time=   2.9s\n",
      "[CV] END criterion=entropy, max_depth=5, max_features=auto, min_samples_leaf=3, min_samples_split=2, n_estimators=300; total time=   2.9s\n",
      "[CV] END criterion=entropy, max_depth=5, max_features=auto, min_samples_leaf=3, min_samples_split=2, n_estimators=300; total time=   2.7s\n",
      "[CV] END criterion=entropy, max_depth=5, max_features=auto, min_samples_leaf=3, min_samples_split=2, n_estimators=400; total time=   4.1s\n",
      "[CV] END criterion=entropy, max_depth=5, max_features=auto, min_samples_leaf=3, min_samples_split=2, n_estimators=400; total time=   3.5s\n",
      "[CV] END criterion=entropy, max_depth=5, max_features=auto, min_samples_leaf=3, min_samples_split=2, n_estimators=400; total time=   3.3s\n",
      "[CV] END criterion=entropy, max_depth=5, max_features=auto, min_samples_leaf=3, min_samples_split=2, n_estimators=400; total time=   3.2s\n",
      "[CV] END criterion=entropy, max_depth=5, max_features=auto, min_samples_leaf=3, min_samples_split=2, n_estimators=400; total time=   3.3s\n",
      "[CV] END criterion=entropy, max_depth=5, max_features=auto, min_samples_leaf=3, min_samples_split=6, n_estimators=100; total time=   0.8s\n",
      "[CV] END criterion=entropy, max_depth=5, max_features=auto, min_samples_leaf=3, min_samples_split=6, n_estimators=100; total time=   0.8s\n",
      "[CV] END criterion=entropy, max_depth=5, max_features=auto, min_samples_leaf=3, min_samples_split=6, n_estimators=100; total time=   1.1s\n",
      "[CV] END criterion=entropy, max_depth=5, max_features=auto, min_samples_leaf=3, min_samples_split=6, n_estimators=100; total time=   1.0s\n",
      "[CV] END criterion=entropy, max_depth=5, max_features=auto, min_samples_leaf=3, min_samples_split=6, n_estimators=100; total time=   1.1s\n",
      "[CV] END criterion=entropy, max_depth=5, max_features=auto, min_samples_leaf=3, min_samples_split=6, n_estimators=200; total time=   1.5s\n",
      "[CV] END criterion=entropy, max_depth=5, max_features=auto, min_samples_leaf=3, min_samples_split=6, n_estimators=200; total time=   1.9s\n",
      "[CV] END criterion=entropy, max_depth=5, max_features=auto, min_samples_leaf=3, min_samples_split=6, n_estimators=200; total time=   1.7s\n",
      "[CV] END criterion=entropy, max_depth=5, max_features=auto, min_samples_leaf=3, min_samples_split=6, n_estimators=200; total time=   1.6s\n",
      "[CV] END criterion=entropy, max_depth=5, max_features=auto, min_samples_leaf=3, min_samples_split=6, n_estimators=200; total time=   2.6s\n",
      "[CV] END criterion=entropy, max_depth=5, max_features=auto, min_samples_leaf=3, min_samples_split=6, n_estimators=300; total time=   2.7s\n",
      "[CV] END criterion=entropy, max_depth=5, max_features=auto, min_samples_leaf=3, min_samples_split=6, n_estimators=300; total time=   2.8s\n",
      "[CV] END criterion=entropy, max_depth=5, max_features=auto, min_samples_leaf=3, min_samples_split=6, n_estimators=300; total time=   2.8s\n",
      "[CV] END criterion=entropy, max_depth=5, max_features=auto, min_samples_leaf=3, min_samples_split=6, n_estimators=300; total time=   3.1s\n",
      "[CV] END criterion=entropy, max_depth=5, max_features=auto, min_samples_leaf=3, min_samples_split=6, n_estimators=300; total time=   3.7s\n",
      "[CV] END criterion=entropy, max_depth=5, max_features=auto, min_samples_leaf=3, min_samples_split=6, n_estimators=400; total time=   4.8s\n",
      "[CV] END criterion=entropy, max_depth=5, max_features=auto, min_samples_leaf=3, min_samples_split=6, n_estimators=400; total time=   4.7s\n",
      "[CV] END criterion=entropy, max_depth=5, max_features=auto, min_samples_leaf=3, min_samples_split=6, n_estimators=400; total time=   6.1s\n",
      "[CV] END criterion=entropy, max_depth=5, max_features=auto, min_samples_leaf=3, min_samples_split=6, n_estimators=400; total time=   5.4s\n",
      "[CV] END criterion=entropy, max_depth=5, max_features=auto, min_samples_leaf=3, min_samples_split=6, n_estimators=400; total time=   5.0s\n",
      "[CV] END criterion=entropy, max_depth=5, max_features=auto, min_samples_leaf=3, min_samples_split=10, n_estimators=100; total time=   1.2s\n",
      "[CV] END criterion=entropy, max_depth=5, max_features=auto, min_samples_leaf=3, min_samples_split=10, n_estimators=100; total time=   1.0s\n",
      "[CV] END criterion=entropy, max_depth=5, max_features=auto, min_samples_leaf=3, min_samples_split=10, n_estimators=100; total time=   1.0s\n",
      "[CV] END criterion=entropy, max_depth=5, max_features=auto, min_samples_leaf=3, min_samples_split=10, n_estimators=100; total time=   1.2s\n",
      "[CV] END criterion=entropy, max_depth=5, max_features=auto, min_samples_leaf=3, min_samples_split=10, n_estimators=100; total time=   1.1s\n",
      "[CV] END criterion=entropy, max_depth=5, max_features=auto, min_samples_leaf=3, min_samples_split=10, n_estimators=200; total time=   2.1s\n",
      "[CV] END criterion=entropy, max_depth=5, max_features=auto, min_samples_leaf=3, min_samples_split=10, n_estimators=200; total time=   2.4s\n",
      "[CV] END criterion=entropy, max_depth=5, max_features=auto, min_samples_leaf=3, min_samples_split=10, n_estimators=200; total time=   2.0s\n",
      "[CV] END criterion=entropy, max_depth=5, max_features=auto, min_samples_leaf=3, min_samples_split=10, n_estimators=200; total time=   1.9s\n",
      "[CV] END criterion=entropy, max_depth=5, max_features=auto, min_samples_leaf=3, min_samples_split=10, n_estimators=200; total time=   2.0s\n",
      "[CV] END criterion=entropy, max_depth=5, max_features=auto, min_samples_leaf=3, min_samples_split=10, n_estimators=300; total time=   3.2s\n",
      "[CV] END criterion=entropy, max_depth=5, max_features=auto, min_samples_leaf=3, min_samples_split=10, n_estimators=300; total time=   3.3s\n",
      "[CV] END criterion=entropy, max_depth=5, max_features=auto, min_samples_leaf=3, min_samples_split=10, n_estimators=300; total time=   3.8s\n",
      "[CV] END criterion=entropy, max_depth=5, max_features=auto, min_samples_leaf=3, min_samples_split=10, n_estimators=300; total time=   3.9s\n",
      "[CV] END criterion=entropy, max_depth=5, max_features=auto, min_samples_leaf=3, min_samples_split=10, n_estimators=300; total time=   3.3s\n",
      "[CV] END criterion=entropy, max_depth=5, max_features=auto, min_samples_leaf=3, min_samples_split=10, n_estimators=400; total time=   4.2s\n",
      "[CV] END criterion=entropy, max_depth=5, max_features=auto, min_samples_leaf=3, min_samples_split=10, n_estimators=400; total time=   4.6s\n",
      "[CV] END criterion=entropy, max_depth=5, max_features=auto, min_samples_leaf=3, min_samples_split=10, n_estimators=400; total time=   3.8s\n",
      "[CV] END criterion=entropy, max_depth=5, max_features=auto, min_samples_leaf=3, min_samples_split=10, n_estimators=400; total time=   3.5s\n",
      "[CV] END criterion=entropy, max_depth=5, max_features=auto, min_samples_leaf=3, min_samples_split=10, n_estimators=400; total time=   4.3s\n",
      "[CV] END criterion=entropy, max_depth=5, max_features=auto, min_samples_leaf=3, min_samples_split=14, n_estimators=100; total time=   0.9s\n",
      "[CV] END criterion=entropy, max_depth=5, max_features=auto, min_samples_leaf=3, min_samples_split=14, n_estimators=100; total time=   1.0s\n",
      "[CV] END criterion=entropy, max_depth=5, max_features=auto, min_samples_leaf=3, min_samples_split=14, n_estimators=100; total time=   0.9s\n",
      "[CV] END criterion=entropy, max_depth=5, max_features=auto, min_samples_leaf=3, min_samples_split=14, n_estimators=100; total time=   0.9s\n",
      "[CV] END criterion=entropy, max_depth=5, max_features=auto, min_samples_leaf=3, min_samples_split=14, n_estimators=100; total time=   0.9s\n",
      "[CV] END criterion=entropy, max_depth=5, max_features=auto, min_samples_leaf=3, min_samples_split=14, n_estimators=200; total time=   1.7s\n",
      "[CV] END criterion=entropy, max_depth=5, max_features=auto, min_samples_leaf=3, min_samples_split=14, n_estimators=200; total time=   1.7s\n",
      "[CV] END criterion=entropy, max_depth=5, max_features=auto, min_samples_leaf=3, min_samples_split=14, n_estimators=200; total time=   2.0s\n",
      "[CV] END criterion=entropy, max_depth=5, max_features=auto, min_samples_leaf=3, min_samples_split=14, n_estimators=200; total time=   2.7s\n",
      "[CV] END criterion=entropy, max_depth=5, max_features=auto, min_samples_leaf=3, min_samples_split=14, n_estimators=200; total time=   2.7s\n",
      "[CV] END criterion=entropy, max_depth=5, max_features=auto, min_samples_leaf=3, min_samples_split=14, n_estimators=300; total time=   3.8s\n",
      "[CV] END criterion=entropy, max_depth=5, max_features=auto, min_samples_leaf=3, min_samples_split=14, n_estimators=300; total time=   3.3s\n",
      "[CV] END criterion=entropy, max_depth=5, max_features=auto, min_samples_leaf=3, min_samples_split=14, n_estimators=300; total time=   3.4s\n",
      "[CV] END criterion=entropy, max_depth=5, max_features=auto, min_samples_leaf=3, min_samples_split=14, n_estimators=300; total time=   3.4s\n",
      "[CV] END criterion=entropy, max_depth=5, max_features=auto, min_samples_leaf=3, min_samples_split=14, n_estimators=300; total time=   3.4s\n",
      "[CV] END criterion=entropy, max_depth=5, max_features=auto, min_samples_leaf=3, min_samples_split=14, n_estimators=400; total time=   4.9s\n",
      "[CV] END criterion=entropy, max_depth=5, max_features=auto, min_samples_leaf=3, min_samples_split=14, n_estimators=400; total time=   4.7s\n",
      "[CV] END criterion=entropy, max_depth=5, max_features=auto, min_samples_leaf=3, min_samples_split=14, n_estimators=400; total time=   4.4s\n",
      "[CV] END criterion=entropy, max_depth=5, max_features=auto, min_samples_leaf=3, min_samples_split=14, n_estimators=400; total time=   5.1s\n",
      "[CV] END criterion=entropy, max_depth=5, max_features=auto, min_samples_leaf=3, min_samples_split=14, n_estimators=400; total time=   4.7s\n",
      "[CV] END criterion=entropy, max_depth=5, max_features=auto, min_samples_leaf=3, min_samples_split=18, n_estimators=100; total time=   1.0s\n",
      "[CV] END criterion=entropy, max_depth=5, max_features=auto, min_samples_leaf=3, min_samples_split=18, n_estimators=100; total time=   1.1s\n",
      "[CV] END criterion=entropy, max_depth=5, max_features=auto, min_samples_leaf=3, min_samples_split=18, n_estimators=100; total time=   1.2s\n",
      "[CV] END criterion=entropy, max_depth=5, max_features=auto, min_samples_leaf=3, min_samples_split=18, n_estimators=100; total time=   1.2s\n",
      "[CV] END criterion=entropy, max_depth=5, max_features=auto, min_samples_leaf=3, min_samples_split=18, n_estimators=100; total time=   1.0s\n",
      "[CV] END criterion=entropy, max_depth=5, max_features=auto, min_samples_leaf=3, min_samples_split=18, n_estimators=200; total time=   3.0s\n",
      "[CV] END criterion=entropy, max_depth=5, max_features=auto, min_samples_leaf=3, min_samples_split=18, n_estimators=200; total time=   2.2s\n",
      "[CV] END criterion=entropy, max_depth=5, max_features=auto, min_samples_leaf=3, min_samples_split=18, n_estimators=200; total time=   2.5s\n",
      "[CV] END criterion=entropy, max_depth=5, max_features=auto, min_samples_leaf=3, min_samples_split=18, n_estimators=200; total time=   2.3s\n",
      "[CV] END criterion=entropy, max_depth=5, max_features=auto, min_samples_leaf=3, min_samples_split=18, n_estimators=200; total time=   2.4s\n",
      "[CV] END criterion=entropy, max_depth=5, max_features=auto, min_samples_leaf=3, min_samples_split=18, n_estimators=300; total time=   3.9s\n",
      "[CV] END criterion=entropy, max_depth=5, max_features=auto, min_samples_leaf=3, min_samples_split=18, n_estimators=300; total time=   4.0s\n",
      "[CV] END criterion=entropy, max_depth=5, max_features=auto, min_samples_leaf=3, min_samples_split=18, n_estimators=300; total time=   3.0s\n",
      "[CV] END criterion=entropy, max_depth=5, max_features=auto, min_samples_leaf=3, min_samples_split=18, n_estimators=300; total time=   3.0s\n",
      "[CV] END criterion=entropy, max_depth=5, max_features=auto, min_samples_leaf=3, min_samples_split=18, n_estimators=300; total time=   3.4s\n",
      "[CV] END criterion=entropy, max_depth=5, max_features=auto, min_samples_leaf=3, min_samples_split=18, n_estimators=400; total time=   4.7s\n",
      "[CV] END criterion=entropy, max_depth=5, max_features=auto, min_samples_leaf=3, min_samples_split=18, n_estimators=400; total time=   3.3s\n",
      "[CV] END criterion=entropy, max_depth=5, max_features=auto, min_samples_leaf=3, min_samples_split=18, n_estimators=400; total time=   3.3s\n",
      "[CV] END criterion=entropy, max_depth=5, max_features=auto, min_samples_leaf=3, min_samples_split=18, n_estimators=400; total time=   3.9s\n",
      "[CV] END criterion=entropy, max_depth=5, max_features=auto, min_samples_leaf=3, min_samples_split=18, n_estimators=400; total time=   4.4s\n",
      "[CV] END criterion=entropy, max_depth=5, max_features=auto, min_samples_leaf=4, min_samples_split=2, n_estimators=100; total time=   1.0s\n",
      "[CV] END criterion=entropy, max_depth=5, max_features=auto, min_samples_leaf=4, min_samples_split=2, n_estimators=100; total time=   1.4s\n",
      "[CV] END criterion=entropy, max_depth=5, max_features=auto, min_samples_leaf=4, min_samples_split=2, n_estimators=100; total time=   1.1s\n",
      "[CV] END criterion=entropy, max_depth=5, max_features=auto, min_samples_leaf=4, min_samples_split=2, n_estimators=100; total time=   1.1s\n",
      "[CV] END criterion=entropy, max_depth=5, max_features=auto, min_samples_leaf=4, min_samples_split=2, n_estimators=100; total time=   1.2s\n",
      "[CV] END criterion=entropy, max_depth=5, max_features=auto, min_samples_leaf=4, min_samples_split=2, n_estimators=200; total time=   2.4s\n",
      "[CV] END criterion=entropy, max_depth=5, max_features=auto, min_samples_leaf=4, min_samples_split=2, n_estimators=200; total time=   2.4s\n",
      "[CV] END criterion=entropy, max_depth=5, max_features=auto, min_samples_leaf=4, min_samples_split=2, n_estimators=200; total time=   2.3s\n",
      "[CV] END criterion=entropy, max_depth=5, max_features=auto, min_samples_leaf=4, min_samples_split=2, n_estimators=200; total time=   2.6s\n",
      "[CV] END criterion=entropy, max_depth=5, max_features=auto, min_samples_leaf=4, min_samples_split=2, n_estimators=200; total time=   2.3s\n",
      "[CV] END criterion=entropy, max_depth=5, max_features=auto, min_samples_leaf=4, min_samples_split=2, n_estimators=300; total time=   3.5s\n",
      "[CV] END criterion=entropy, max_depth=5, max_features=auto, min_samples_leaf=4, min_samples_split=2, n_estimators=300; total time=   3.6s\n",
      "[CV] END criterion=entropy, max_depth=5, max_features=auto, min_samples_leaf=4, min_samples_split=2, n_estimators=300; total time=   4.3s\n",
      "[CV] END criterion=entropy, max_depth=5, max_features=auto, min_samples_leaf=4, min_samples_split=2, n_estimators=300; total time=   4.0s\n",
      "[CV] END criterion=entropy, max_depth=5, max_features=auto, min_samples_leaf=4, min_samples_split=2, n_estimators=300; total time=   3.6s\n",
      "[CV] END criterion=entropy, max_depth=5, max_features=auto, min_samples_leaf=4, min_samples_split=2, n_estimators=400; total time=   4.8s\n",
      "[CV] END criterion=entropy, max_depth=5, max_features=auto, min_samples_leaf=4, min_samples_split=2, n_estimators=400; total time=   5.3s\n",
      "[CV] END criterion=entropy, max_depth=5, max_features=auto, min_samples_leaf=4, min_samples_split=2, n_estimators=400; total time=   4.0s\n",
      "[CV] END criterion=entropy, max_depth=5, max_features=auto, min_samples_leaf=4, min_samples_split=2, n_estimators=400; total time=   4.2s\n",
      "[CV] END criterion=entropy, max_depth=5, max_features=auto, min_samples_leaf=4, min_samples_split=2, n_estimators=400; total time=   4.1s\n",
      "[CV] END criterion=entropy, max_depth=5, max_features=auto, min_samples_leaf=4, min_samples_split=6, n_estimators=100; total time=   1.2s\n",
      "[CV] END criterion=entropy, max_depth=5, max_features=auto, min_samples_leaf=4, min_samples_split=6, n_estimators=100; total time=   1.1s\n",
      "[CV] END criterion=entropy, max_depth=5, max_features=auto, min_samples_leaf=4, min_samples_split=6, n_estimators=100; total time=   0.8s\n",
      "[CV] END criterion=entropy, max_depth=5, max_features=auto, min_samples_leaf=4, min_samples_split=6, n_estimators=100; total time=   0.8s\n",
      "[CV] END criterion=entropy, max_depth=5, max_features=auto, min_samples_leaf=4, min_samples_split=6, n_estimators=100; total time=   0.9s\n",
      "[CV] END criterion=entropy, max_depth=5, max_features=auto, min_samples_leaf=4, min_samples_split=6, n_estimators=200; total time=   2.9s\n",
      "[CV] END criterion=entropy, max_depth=5, max_features=auto, min_samples_leaf=4, min_samples_split=6, n_estimators=200; total time=   2.0s\n",
      "[CV] END criterion=entropy, max_depth=5, max_features=auto, min_samples_leaf=4, min_samples_split=6, n_estimators=200; total time=   1.6s\n",
      "[CV] END criterion=entropy, max_depth=5, max_features=auto, min_samples_leaf=4, min_samples_split=6, n_estimators=200; total time=   1.6s\n",
      "[CV] END criterion=entropy, max_depth=5, max_features=auto, min_samples_leaf=4, min_samples_split=6, n_estimators=200; total time=   1.9s\n",
      "[CV] END criterion=entropy, max_depth=5, max_features=auto, min_samples_leaf=4, min_samples_split=6, n_estimators=300; total time=   3.3s\n",
      "[CV] END criterion=entropy, max_depth=5, max_features=auto, min_samples_leaf=4, min_samples_split=6, n_estimators=300; total time=   2.5s\n",
      "[CV] END criterion=entropy, max_depth=5, max_features=auto, min_samples_leaf=4, min_samples_split=6, n_estimators=300; total time=   2.4s\n",
      "[CV] END criterion=entropy, max_depth=5, max_features=auto, min_samples_leaf=4, min_samples_split=6, n_estimators=300; total time=   2.4s\n",
      "[CV] END criterion=entropy, max_depth=5, max_features=auto, min_samples_leaf=4, min_samples_split=6, n_estimators=300; total time=   2.6s\n",
      "[CV] END criterion=entropy, max_depth=5, max_features=auto, min_samples_leaf=4, min_samples_split=6, n_estimators=400; total time=   3.5s\n",
      "[CV] END criterion=entropy, max_depth=5, max_features=auto, min_samples_leaf=4, min_samples_split=6, n_estimators=400; total time=   4.3s\n",
      "[CV] END criterion=entropy, max_depth=5, max_features=auto, min_samples_leaf=4, min_samples_split=6, n_estimators=400; total time=   3.9s\n",
      "[CV] END criterion=entropy, max_depth=5, max_features=auto, min_samples_leaf=4, min_samples_split=6, n_estimators=400; total time=   4.1s\n",
      "[CV] END criterion=entropy, max_depth=5, max_features=auto, min_samples_leaf=4, min_samples_split=6, n_estimators=400; total time=   4.3s\n",
      "[CV] END criterion=entropy, max_depth=5, max_features=auto, min_samples_leaf=4, min_samples_split=10, n_estimators=100; total time=   1.0s\n",
      "[CV] END criterion=entropy, max_depth=5, max_features=auto, min_samples_leaf=4, min_samples_split=10, n_estimators=100; total time=   0.9s\n",
      "[CV] END criterion=entropy, max_depth=5, max_features=auto, min_samples_leaf=4, min_samples_split=10, n_estimators=100; total time=   1.0s\n",
      "[CV] END criterion=entropy, max_depth=5, max_features=auto, min_samples_leaf=4, min_samples_split=10, n_estimators=100; total time=   1.0s\n",
      "[CV] END criterion=entropy, max_depth=5, max_features=auto, min_samples_leaf=4, min_samples_split=10, n_estimators=100; total time=   1.0s\n",
      "[CV] END criterion=entropy, max_depth=5, max_features=auto, min_samples_leaf=4, min_samples_split=10, n_estimators=200; total time=   2.2s\n",
      "[CV] END criterion=entropy, max_depth=5, max_features=auto, min_samples_leaf=4, min_samples_split=10, n_estimators=200; total time=   2.0s\n",
      "[CV] END criterion=entropy, max_depth=5, max_features=auto, min_samples_leaf=4, min_samples_split=10, n_estimators=200; total time=   1.9s\n",
      "[CV] END criterion=entropy, max_depth=5, max_features=auto, min_samples_leaf=4, min_samples_split=10, n_estimators=200; total time=   2.2s\n",
      "[CV] END criterion=entropy, max_depth=5, max_features=auto, min_samples_leaf=4, min_samples_split=10, n_estimators=200; total time=   2.4s\n",
      "[CV] END criterion=entropy, max_depth=5, max_features=auto, min_samples_leaf=4, min_samples_split=10, n_estimators=300; total time=   3.1s\n",
      "[CV] END criterion=entropy, max_depth=5, max_features=auto, min_samples_leaf=4, min_samples_split=10, n_estimators=300; total time=   3.0s\n",
      "[CV] END criterion=entropy, max_depth=5, max_features=auto, min_samples_leaf=4, min_samples_split=10, n_estimators=300; total time=   3.1s\n",
      "[CV] END criterion=entropy, max_depth=5, max_features=auto, min_samples_leaf=4, min_samples_split=10, n_estimators=300; total time=   2.9s\n",
      "[CV] END criterion=entropy, max_depth=5, max_features=auto, min_samples_leaf=4, min_samples_split=10, n_estimators=300; total time=   3.5s\n",
      "[CV] END criterion=entropy, max_depth=5, max_features=auto, min_samples_leaf=4, min_samples_split=10, n_estimators=400; total time=   4.2s\n",
      "[CV] END criterion=entropy, max_depth=5, max_features=auto, min_samples_leaf=4, min_samples_split=10, n_estimators=400; total time=   4.3s\n",
      "[CV] END criterion=entropy, max_depth=5, max_features=auto, min_samples_leaf=4, min_samples_split=10, n_estimators=400; total time=   4.4s\n",
      "[CV] END criterion=entropy, max_depth=5, max_features=auto, min_samples_leaf=4, min_samples_split=10, n_estimators=400; total time=   4.5s\n",
      "[CV] END criterion=entropy, max_depth=5, max_features=auto, min_samples_leaf=4, min_samples_split=10, n_estimators=400; total time=   4.2s\n",
      "[CV] END criterion=entropy, max_depth=5, max_features=auto, min_samples_leaf=4, min_samples_split=14, n_estimators=100; total time=   0.7s\n",
      "[CV] END criterion=entropy, max_depth=5, max_features=auto, min_samples_leaf=4, min_samples_split=14, n_estimators=100; total time=   0.7s\n",
      "[CV] END criterion=entropy, max_depth=5, max_features=auto, min_samples_leaf=4, min_samples_split=14, n_estimators=100; total time=   0.7s\n",
      "[CV] END criterion=entropy, max_depth=5, max_features=auto, min_samples_leaf=4, min_samples_split=14, n_estimators=100; total time=   0.7s\n",
      "[CV] END criterion=entropy, max_depth=5, max_features=auto, min_samples_leaf=4, min_samples_split=14, n_estimators=100; total time=   0.7s\n",
      "[CV] END criterion=entropy, max_depth=5, max_features=auto, min_samples_leaf=4, min_samples_split=14, n_estimators=200; total time=   1.6s\n",
      "[CV] END criterion=entropy, max_depth=5, max_features=auto, min_samples_leaf=4, min_samples_split=14, n_estimators=200; total time=   1.5s\n",
      "[CV] END criterion=entropy, max_depth=5, max_features=auto, min_samples_leaf=4, min_samples_split=14, n_estimators=200; total time=   2.1s\n",
      "[CV] END criterion=entropy, max_depth=5, max_features=auto, min_samples_leaf=4, min_samples_split=14, n_estimators=200; total time=   2.1s\n",
      "[CV] END criterion=entropy, max_depth=5, max_features=auto, min_samples_leaf=4, min_samples_split=14, n_estimators=200; total time=   1.7s\n",
      "[CV] END criterion=entropy, max_depth=5, max_features=auto, min_samples_leaf=4, min_samples_split=14, n_estimators=300; total time=   2.6s\n",
      "[CV] END criterion=entropy, max_depth=5, max_features=auto, min_samples_leaf=4, min_samples_split=14, n_estimators=300; total time=   2.6s\n",
      "[CV] END criterion=entropy, max_depth=5, max_features=auto, min_samples_leaf=4, min_samples_split=14, n_estimators=300; total time=   2.4s\n",
      "[CV] END criterion=entropy, max_depth=5, max_features=auto, min_samples_leaf=4, min_samples_split=14, n_estimators=300; total time=   3.1s\n",
      "[CV] END criterion=entropy, max_depth=5, max_features=auto, min_samples_leaf=4, min_samples_split=14, n_estimators=300; total time=   3.3s\n",
      "[CV] END criterion=entropy, max_depth=5, max_features=auto, min_samples_leaf=4, min_samples_split=14, n_estimators=400; total time=   4.2s\n",
      "[CV] END criterion=entropy, max_depth=5, max_features=auto, min_samples_leaf=4, min_samples_split=14, n_estimators=400; total time=   4.0s\n",
      "[CV] END criterion=entropy, max_depth=5, max_features=auto, min_samples_leaf=4, min_samples_split=14, n_estimators=400; total time=   4.1s\n",
      "[CV] END criterion=entropy, max_depth=5, max_features=auto, min_samples_leaf=4, min_samples_split=14, n_estimators=400; total time=   4.0s\n",
      "[CV] END criterion=entropy, max_depth=5, max_features=auto, min_samples_leaf=4, min_samples_split=14, n_estimators=400; total time=   4.6s\n",
      "[CV] END criterion=entropy, max_depth=5, max_features=auto, min_samples_leaf=4, min_samples_split=18, n_estimators=100; total time=   1.0s\n",
      "[CV] END criterion=entropy, max_depth=5, max_features=auto, min_samples_leaf=4, min_samples_split=18, n_estimators=100; total time=   0.9s\n",
      "[CV] END criterion=entropy, max_depth=5, max_features=auto, min_samples_leaf=4, min_samples_split=18, n_estimators=100; total time=   1.0s\n",
      "[CV] END criterion=entropy, max_depth=5, max_features=auto, min_samples_leaf=4, min_samples_split=18, n_estimators=100; total time=   1.2s\n",
      "[CV] END criterion=entropy, max_depth=5, max_features=auto, min_samples_leaf=4, min_samples_split=18, n_estimators=100; total time=   1.1s\n",
      "[CV] END criterion=entropy, max_depth=5, max_features=auto, min_samples_leaf=4, min_samples_split=18, n_estimators=200; total time=   2.3s\n",
      "[CV] END criterion=entropy, max_depth=5, max_features=auto, min_samples_leaf=4, min_samples_split=18, n_estimators=200; total time=   1.8s\n",
      "[CV] END criterion=entropy, max_depth=5, max_features=auto, min_samples_leaf=4, min_samples_split=18, n_estimators=200; total time=   1.8s\n",
      "[CV] END criterion=entropy, max_depth=5, max_features=auto, min_samples_leaf=4, min_samples_split=18, n_estimators=200; total time=   2.1s\n",
      "[CV] END criterion=entropy, max_depth=5, max_features=auto, min_samples_leaf=4, min_samples_split=18, n_estimators=200; total time=   2.0s\n",
      "[CV] END criterion=entropy, max_depth=5, max_features=auto, min_samples_leaf=4, min_samples_split=18, n_estimators=300; total time=   2.4s\n",
      "[CV] END criterion=entropy, max_depth=5, max_features=auto, min_samples_leaf=4, min_samples_split=18, n_estimators=300; total time=   2.3s\n",
      "[CV] END criterion=entropy, max_depth=5, max_features=auto, min_samples_leaf=4, min_samples_split=18, n_estimators=300; total time=   2.6s\n",
      "[CV] END criterion=entropy, max_depth=5, max_features=auto, min_samples_leaf=4, min_samples_split=18, n_estimators=300; total time=   2.4s\n",
      "[CV] END criterion=entropy, max_depth=5, max_features=auto, min_samples_leaf=4, min_samples_split=18, n_estimators=300; total time=   2.5s\n",
      "[CV] END criterion=entropy, max_depth=5, max_features=auto, min_samples_leaf=4, min_samples_split=18, n_estimators=400; total time=   3.4s\n",
      "[CV] END criterion=entropy, max_depth=5, max_features=auto, min_samples_leaf=4, min_samples_split=18, n_estimators=400; total time=   3.7s\n",
      "[CV] END criterion=entropy, max_depth=5, max_features=auto, min_samples_leaf=4, min_samples_split=18, n_estimators=400; total time=   4.3s\n",
      "[CV] END criterion=entropy, max_depth=5, max_features=auto, min_samples_leaf=4, min_samples_split=18, n_estimators=400; total time=   3.6s\n",
      "[CV] END criterion=entropy, max_depth=5, max_features=auto, min_samples_leaf=4, min_samples_split=18, n_estimators=400; total time=   3.9s\n"
     ]
    },
    {
     "name": "stderr",
     "output_type": "stream",
     "text": [
      "C:\\Users\\Lucky Girish\\anaconda3\\lib\\site-packages\\sklearn\\model_selection\\_validation.py:372: FitFailedWarning: \n",
      "800 fits failed out of a total of 1600.\n",
      "The score on these train-test partitions for these parameters will be set to nan.\n",
      "If these failures are not expected, you can try to debug them by setting error_score='raise'.\n",
      "\n",
      "Below are more details about the failures:\n",
      "--------------------------------------------------------------------------------\n",
      "800 fits failed with the following error:\n",
      "Traceback (most recent call last):\n",
      "  File \"C:\\Users\\Lucky Girish\\anaconda3\\lib\\site-packages\\sklearn\\model_selection\\_validation.py\", line 681, in _fit_and_score\n",
      "    estimator.fit(X_train, y_train, **fit_params)\n",
      "  File \"C:\\Users\\Lucky Girish\\anaconda3\\lib\\site-packages\\sklearn\\ensemble\\_forest.py\", line 441, in fit\n",
      "    trees = Parallel(\n",
      "  File \"C:\\Users\\Lucky Girish\\anaconda3\\lib\\site-packages\\joblib\\parallel.py\", line 1029, in __call__\n",
      "    if self.dispatch_one_batch(iterator):\n",
      "  File \"C:\\Users\\Lucky Girish\\anaconda3\\lib\\site-packages\\joblib\\parallel.py\", line 847, in dispatch_one_batch\n",
      "    self._dispatch(tasks)\n",
      "  File \"C:\\Users\\Lucky Girish\\anaconda3\\lib\\site-packages\\joblib\\parallel.py\", line 765, in _dispatch\n",
      "    job = self._backend.apply_async(batch, callback=cb)\n",
      "  File \"C:\\Users\\Lucky Girish\\anaconda3\\lib\\site-packages\\joblib\\_parallel_backends.py\", line 208, in apply_async\n",
      "    result = ImmediateResult(func)\n",
      "  File \"C:\\Users\\Lucky Girish\\anaconda3\\lib\\site-packages\\joblib\\_parallel_backends.py\", line 572, in __init__\n",
      "    self.results = batch()\n",
      "  File \"C:\\Users\\Lucky Girish\\anaconda3\\lib\\site-packages\\joblib\\parallel.py\", line 252, in __call__\n",
      "    return [func(*args, **kwargs)\n",
      "  File \"C:\\Users\\Lucky Girish\\anaconda3\\lib\\site-packages\\joblib\\parallel.py\", line 252, in <listcomp>\n",
      "    return [func(*args, **kwargs)\n",
      "  File \"C:\\Users\\Lucky Girish\\anaconda3\\lib\\site-packages\\sklearn\\utils\\fixes.py\", line 209, in __call__\n",
      "    return self.function(*args, **kwargs)\n",
      "  File \"C:\\Users\\Lucky Girish\\anaconda3\\lib\\site-packages\\sklearn\\ensemble\\_forest.py\", line 184, in _parallel_build_trees\n",
      "    tree.fit(X, y, sample_weight=curr_sample_weight, check_input=False)\n",
      "  File \"C:\\Users\\Lucky Girish\\anaconda3\\lib\\site-packages\\sklearn\\tree\\_classes.py\", line 937, in fit\n",
      "    super().fit(\n",
      "  File \"C:\\Users\\Lucky Girish\\anaconda3\\lib\\site-packages\\sklearn\\tree\\_classes.py\", line 306, in fit\n",
      "    raise ValueError(\"max_depth must be greater than zero. \")\n",
      "ValueError: max_depth must be greater than zero. \n",
      "\n",
      "  warnings.warn(some_fits_failed_message, FitFailedWarning)\n",
      "C:\\Users\\Lucky Girish\\anaconda3\\lib\\site-packages\\sklearn\\model_selection\\_search.py:969: UserWarning: One or more of the test scores are non-finite: [       nan        nan        nan        nan        nan        nan\n",
      "        nan        nan        nan        nan        nan        nan\n",
      "        nan        nan        nan        nan        nan        nan\n",
      "        nan        nan        nan        nan        nan        nan\n",
      "        nan        nan        nan        nan        nan        nan\n",
      "        nan        nan        nan        nan        nan        nan\n",
      "        nan        nan        nan        nan        nan        nan\n",
      "        nan        nan        nan        nan        nan        nan\n",
      "        nan        nan        nan        nan        nan        nan\n",
      "        nan        nan        nan        nan        nan        nan\n",
      "        nan        nan        nan        nan        nan        nan\n",
      "        nan        nan        nan        nan        nan        nan\n",
      "        nan        nan        nan        nan        nan        nan\n",
      "        nan        nan 0.77995353 0.78156679 0.78277593 0.78250702\n",
      " 0.78129735 0.78129807 0.78156634 0.7795513  0.78156661 0.78116348\n",
      " 0.78156679 0.7819693  0.78290989 0.78049225 0.78049189 0.78156679\n",
      " 0.78062693 0.78035712 0.78223848 0.78076061 0.78183561 0.78223803\n",
      " 0.78183543 0.78210443 0.78398434 0.78076043 0.78317852 0.78022334\n",
      " 0.78425343 0.77901457 0.78089448 0.77941707 0.78170039 0.78170075\n",
      " 0.78062611 0.78196957 0.78102934 0.78035757 0.77955202 0.7819693\n",
      " 0.78371643 0.78008857 0.7814323  0.78277629 0.7829098  0.7808952\n",
      " 0.78196975 0.78102952 0.78102997 0.77955157 0.78156652 0.78089511\n",
      " 0.78062611 0.78317861 0.78237252 0.78008875 0.78156707 0.78223857\n",
      " 0.7817012  0.78250711 0.78438829 0.78183489 0.78250702 0.78089583\n",
      " 0.78143221 0.77941671 0.77995506 0.78237289 0.78116393 0.78304394\n",
      " 0.78062693 0.78089493 0.78264224 0.78116411 0.78129753 0.78116447\n",
      " 0.78290989 0.78022298 0.78076116 0.77968589        nan        nan\n",
      "        nan        nan        nan        nan        nan        nan\n",
      "        nan        nan        nan        nan        nan        nan\n",
      "        nan        nan        nan        nan        nan        nan\n",
      "        nan        nan        nan        nan        nan        nan\n",
      "        nan        nan        nan        nan        nan        nan\n",
      "        nan        nan        nan        nan        nan        nan\n",
      "        nan        nan        nan        nan        nan        nan\n",
      "        nan        nan        nan        nan        nan        nan\n",
      "        nan        nan        nan        nan        nan        nan\n",
      "        nan        nan        nan        nan        nan        nan\n",
      "        nan        nan        nan        nan        nan        nan\n",
      "        nan        nan        nan        nan        nan        nan\n",
      "        nan        nan        nan        nan        nan        nan\n",
      " 0.78532653 0.78264017 0.78223766 0.78089439 0.78344707 0.78196885\n",
      " 0.7811633  0.78290944 0.78465557 0.78398425 0.78250639 0.78250648\n",
      " 0.78519303 0.78290926 0.78398425 0.78143139 0.78465548 0.78398507\n",
      " 0.78290935 0.78210353 0.78264116 0.78277467 0.78438748 0.78035739\n",
      " 0.78210425 0.78317789 0.78049135 0.78290953 0.7822373  0.78237207\n",
      " 0.78304412 0.78331293 0.78035694 0.78170048 0.78317789 0.78290971\n",
      " 0.78317807 0.7829098  0.78331257 0.78170075 0.78250657 0.77955112\n",
      " 0.78277539 0.7829098  0.78331293 0.78129671 0.7826408  0.78223757\n",
      " 0.78573093 0.78022271 0.78170093 0.78035712 0.78371634 0.78170093\n",
      " 0.78331275 0.78304394 0.77928275 0.78290953 0.78210326 0.78129762\n",
      " 0.78129662 0.78438703 0.78223757 0.78250621 0.78143157 0.78223848\n",
      " 0.78210344 0.78022262 0.78156625 0.78223748 0.78075971 0.7825063\n",
      " 0.78156634 0.78290926 0.78290926 0.78250648 0.78183507 0.78237225\n",
      " 0.7830443  0.78196921]\n",
      "  warnings.warn(\n"
     ]
    },
    {
     "name": "stdout",
     "output_type": "stream",
     "text": [
      "Best score: 0.7857309336568526\n",
      "Best estimator: RandomForestClassifier(criterion='entropy', max_depth=5, min_samples_leaf=3,\n",
      "                       min_samples_split=10)\n",
      "Best parameters: {'criterion': 'entropy', 'max_depth': 5, 'max_features': 'auto', 'min_samples_leaf': 3, 'min_samples_split': 10, 'n_estimators': 100}\n"
     ]
    }
   ],
   "source": [
    "#Hyper parameter tuning of Ridge regression\n",
    "from sklearn.model_selection import GridSearchCV\n",
    "\n",
    "par={'n_estimators':range(100,500,100),'criterion':['gini','entropy'],'max_depth':range(0,10,5),'min_samples_split':range(2,20,4),\n",
    "     'min_samples_leaf':range(1,5),'max_features':['auto']}\n",
    "\n",
    "grid=GridSearchCV(RandomForestClassifier(),param_grid=par,verbose=2,n_jobs=1)\n",
    "grid.fit(x_train,y_train)\n",
    "print(\"Best score:\",grid.best_score_)\n",
    "print(\"Best estimator:\",grid.best_estimator_)\n",
    "print(\"Best parameters:\",grid.best_params_)"
   ]
  },
  {
   "cell_type": "code",
   "execution_count": 93,
   "metadata": {
    "scrolled": true
   },
   "outputs": [
    {
     "name": "stdout",
     "output_type": "stream",
     "text": [
      "accuracy: 0.8415682062298604\n",
      "confusion matrix: [[749 160]\n",
      " [135 818]]\n",
      "classification report:               precision    recall  f1-score   support\n",
      "\n",
      "           0       0.85      0.82      0.84       909\n",
      "           1       0.84      0.86      0.85       953\n",
      "\n",
      "    accuracy                           0.84      1862\n",
      "   macro avg       0.84      0.84      0.84      1862\n",
      "weighted avg       0.84      0.84      0.84      1862\n",
      "\n"
     ]
    }
   ],
   "source": [
    "rf=RandomForestClassifier(criterion='entropy', max_depth=20, min_samples_leaf=3,\n",
    "                       min_samples_split=10,max_features='auto',n_estimators=200,random_state=487)\n",
    "rf.fit(x_train,y_train)\n",
    "pred=rf.predict(x_test)\n",
    "print('accuracy:',accuracy_score(y_test,pred))\n",
    "print('confusion matrix:',confusion_matrix(y_test,pred))\n",
    "print('classification report:',classification_report(y_test,pred))"
   ]
  },
  {
   "cell_type": "markdown",
   "metadata": {},
   "source": [
    "accuracy increased from 83 to 84"
   ]
  },
  {
   "cell_type": "code",
   "execution_count": 94,
   "metadata": {
    "scrolled": true
   },
   "outputs": [
    {
     "data": {
      "image/png": "[encoded data removed]",
      "text/plain": [
       "<Figure size 432x288 with 1 Axes>"
      ]
     },
     "metadata": {
      "needs_background": "light"
     },
     "output_type": "display_data"
    },
    {
     "name": "stdout",
     "output_type": "stream",
     "text": [
      "Score: 0.8411622379446759\n"
     ]
    }
   ],
   "source": [
    "#Auc Roc curve\n",
    "from sklearn.metrics import roc_auc_score\n",
    "#Predicting the probability of having 1 in the x-test\n",
    "y_pred_prob=rf.predict_proba(x_test)[:,1]\n",
    "y_pred_prob\n",
    "\n",
    "#Visualising\n",
    "from sklearn.metrics import roc_curve\n",
    "fpr,tpr,thresholds=roc_curve(y_test,y_pred_prob)\n",
    "\n",
    "plt.plot([0,1],[0,1],'k--')\n",
    "plt.plot(fpr,tpr,label='KNeighborsClassifier')\n",
    "plt.xlabel('False Positive Rate')\n",
    "plt.ylabel('True Positive Rate')\n",
    "plt.show()\n",
    "auc_score=roc_auc_score(y_test,rf.predict(x_test))\n",
    "print('Score:',auc_score)"
   ]
  },
  {
   "cell_type": "markdown",
   "metadata": {},
   "source": [
    "Auc roc score and f1 score are equal. save the model"
   ]
  },
  {
   "cell_type": "code",
   "execution_count": 95,
   "metadata": {},
   "outputs": [
    {
     "data": {
      "text/plain": [
       "['customer_churn.obj']"
      ]
     },
     "execution_count": 95,
     "metadata": {},
     "output_type": "execute_result"
    }
   ],
   "source": [
    "import joblib\n",
    "joblib.dump(rf,'customer_churn.obj')"
   ]
  }
 ],
 "metadata": {
  "kernelspec": {
   "display_name": "Python 3",
   "language": "python",
   "name": "python3"
  },
  "language_info": {
   "codemirror_mode": {
    "name": "ipython",
    "version": 3
   },
   "file_extension": ".py",
   "mimetype": "text/x-python",
   "name": "python",
   "nbconvert_exporter": "python",
   "pygments_lexer": "ipython3",
   "version": "3.8.3"
  }
 },
 "nbformat": 4,
 "nbformat_minor": 4
}
